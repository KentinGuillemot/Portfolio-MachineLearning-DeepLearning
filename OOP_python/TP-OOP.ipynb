{
 "cells": [
  {
   "cell_type": "markdown",
   "metadata": {},
   "source": [
    "## OBJECT-ORIENTED PROGRAMMING WITH PYTHON\n",
    "#### École d'ingénieurs Léonard de Vinci, La Défense, Paris\n",
    "**Hugo Alatrista Salas** \n",
    "\n",
    "***"
   ]
  },
  {
   "cell_type": "markdown",
   "metadata": {},
   "source": [
    "Python is an object-oriented programming language that supports OOP concepts such as classes, objects, inheritance, and polymorphism. OOP allows for a modular approach to software development, promoting code reusability, scalability, and maintainability. This TP focuses on implementing what we have learned in the course."
   ]
  },
  {
   "cell_type": "markdown",
   "metadata": {},
   "source": [
    "## Creating the Client class"
   ]
  },
  {
   "cell_type": "markdown",
   "metadata": {},
   "source": [
    "Let us explore Object-Oriented Programming (OOP) concepts in Python using the examples of a **Client** class, a **VIPClient** subclass, and additional classes to demonstrate inheritance, multiple inheritance, polymorphism, method overloading, and method overriding. As we already know, a class is composed of attributes and methods. Attributes describe a class, and methods allow classes to perform certain actions."
   ]
  },
  {
   "cell_type": "markdown",
   "metadata": {},
   "source": [
    "First, we create the **Client** class with two attributes: a name and a balance. We also implement a method for displaying the object attributes. Remember that the *Constructor* method shoulb be also implemented. In Python, this method is named __init__() and has two parameters: *name* and *balance*. This constructor allows the object to set the *name* and *balance* attributes, meaning each instance should have a name and a balance when created. If we want to set a default value for each attribute, we can add the default value into the method, for example, *balance = 0*"
   ]
  },
  {
   "cell_type": "code",
   "execution_count": 56,
   "metadata": {},
   "outputs": [],
   "source": [
    "class Client:\n",
    "    def __init__(self, name, balance):\n",
    "        self.name = name\n",
    "        self.balance = balance\n",
    "    \n",
    "    def display_info(self):\n",
    "        return f\"Client: {self.name}, Balance: {self.balance}\""
   ]
  },
  {
   "cell_type": "markdown",
   "metadata": {},
   "source": [
    "We will create a **VIPClient** subclass that inherits from the **Client** and adds extra features. In this example, we override the *display_info()* method previously defined in the superclass Client. This method incorporates the method of its parent (*super().display_info()*) and adds the visualization of the feature *vip_level*, which is a feature of the **VIPClient** class"
   ]
  },
  {
   "cell_type": "code",
   "execution_count": 57,
   "metadata": {},
   "outputs": [],
   "source": [
    "class VIPClient(Client):\n",
    "    def __init__(self, name, balance, vip_level):\n",
    "        # Call the parent class's constructor\n",
    "        super().__init__(name, balance)\n",
    "        self.vip_level = vip_level\n",
    "    \n",
    "    def display_info(self):\n",
    "        # Override the parent class method\n",
    "        base_info = super().display_info()\n",
    "        return f\"{base_info}, VIP Level: {self.vip_level}\""
   ]
  },
  {
   "cell_type": "markdown",
   "metadata": {},
   "source": [
    "Now, we instantiate two classes: The **Client** and **VIPClient** classes. The following code also show their attributes via the method *.display_info()*. "
   ]
  },
  {
   "cell_type": "code",
   "execution_count": 58,
   "metadata": {},
   "outputs": [
    {
     "name": "stdout",
     "output_type": "stream",
     "text": [
      "Client: Anne, Balance: 1000\n",
      "Client: Percy, Balance: 5000, VIP Level: Gold\n"
     ]
    }
   ],
   "source": [
    "client1 = Client(\"Anne\", 1000)\n",
    "vip_client = VIPClient(\"Percy\", 5000, \"Gold\")\n",
    "\n",
    "print(client1.display_info()) \n",
    "print(vip_client.display_info()) "
   ]
  },
  {
   "cell_type": "markdown",
   "metadata": {},
   "source": [
    "Let us create a **Person** class to demonstrate the multiple heritage. Similar to the **Client** class, this class represents a person's basic attributes (*name* and *age*) and has a method for displaying those attributes. "
   ]
  },
  {
   "cell_type": "code",
   "execution_count": 59,
   "metadata": {},
   "outputs": [],
   "source": [
    "class Person:\n",
    "    def __init__(self, name, age):\n",
    "        self.name = name\n",
    "        self.age = age\n",
    "    \n",
    "    def display_person_info(self):\n",
    "        return f\"Name: {self.name}, Age: {self.age}\""
   ]
  },
  {
   "cell_type": "markdown",
   "metadata": {},
   "source": [
    "Let us modify the **VIPClient** class to inherit from **Client** and **Person**. In this stage, it is also possible to override the *display_info()* method. It is important to note that our **VIPClient** has a new attribute inherited from the **Person* class: *age*. "
   ]
  },
  {
   "cell_type": "code",
   "execution_count": 60,
   "metadata": {},
   "outputs": [],
   "source": [
    "class VIPClient(Client, Person):\n",
    "    def __init__(self, name, balance, vip_level, age):\n",
    "        Client.__init__(self, name, balance)\n",
    "        Person.__init__(self, name, age)\n",
    "        self.vip_level = vip_level\n",
    "    \n",
    "    def display_info(self):\n",
    "        client_info = Client.display_info(self)\n",
    "        person_info = Person.display_person_info(self)\n",
    "        return f\"{client_info}, {person_info}, VIP Level: {self.vip_level}\""
   ]
  },
  {
   "cell_type": "markdown",
   "metadata": {},
   "source": [
    "We can instantiate a **VIPClient** thank the following code:"
   ]
  },
  {
   "cell_type": "code",
   "execution_count": 61,
   "metadata": {},
   "outputs": [
    {
     "name": "stdout",
     "output_type": "stream",
     "text": [
      "Client: Percy, Balance: 5000, Name: Percy, Age: 35, VIP Level: Gold\n"
     ]
    }
   ],
   "source": [
    "vip_client = VIPClient(\"Percy\", 5000, \"Gold\", 35)\n",
    "print(vip_client.display_info()) "
   ]
  },
  {
   "cell_type": "markdown",
   "metadata": {},
   "source": [
    "### Exercise 1: improving the codeimplementation of VIPClient"
   ]
  },
  {
   "cell_type": "markdown",
   "metadata": {},
   "source": [
    "In the **VIPClient** class implementation, the client's name appears twice. Update the *display_info()* method to fix this error. "
   ]
  },
  {
   "cell_type": "code",
   "execution_count": 62,
   "metadata": {},
   "outputs": [],
   "source": [
    "class VIPClient(Client, Person):\n",
    "    def __init__(self, name, balance, vip_level, age):\n",
    "        Client.__init__(self, name, balance)\n",
    "        Person.__init__(self, name, age)\n",
    "        self.vip_level = vip_level\n",
    "    \n",
    "    def display_info(self):\n",
    "        client_info = Client.display_info(self)\n",
    "        person_info = self.age\n",
    "        return f\"{client_info}, Age : {person_info}, VIP Level: {self.vip_level}\""
   ]
  },
  {
   "cell_type": "code",
   "execution_count": 63,
   "metadata": {},
   "outputs": [
    {
     "name": "stdout",
     "output_type": "stream",
     "text": [
      "Client: Percy, Balance: 5000, Age : 35, VIP Level: Gold\n"
     ]
    }
   ],
   "source": [
    "vip_client = VIPClient(\"Percy\", 5000, \"Gold\", 35)\n",
    "print(vip_client.display_info()) "
   ]
  },
  {
   "cell_type": "markdown",
   "metadata": {},
   "source": [
    "## Polymorphism and inheritance"
   ]
  },
  {
   "cell_type": "markdown",
   "metadata": {},
   "source": [
    "In the lecture, the polymorphism allows methods in different classes to have the same name but behave differently. In this context, *display_info()* in both **Client** and **VIPClient** is an example of polymorphism.\n",
    "\n",
    "Let us demonstrate polymorphism with a simple function that can work with both **Client** and **VIPClient**. This method called *print_client_info()*, is implemented on the **Client** class and works on the **VIPClient** because of the inheritance. This method works fine for both classes with different behaviors."
   ]
  },
  {
   "cell_type": "code",
   "execution_count": 64,
   "metadata": {},
   "outputs": [
    {
     "name": "stdout",
     "output_type": "stream",
     "text": [
      "Client: Anne, Balance: 1000\n",
      "Client: Percy, Balance: 5000, Age : 35, VIP Level: Gold\n"
     ]
    }
   ],
   "source": [
    "def print_client_info(client):\n",
    "    print(client.display_info())\n",
    "\n",
    "client1 = Client(\"Anne\", 1000) # A Client instance\n",
    "vip_client = VIPClient(\"Percy\", 5000, \"Gold\", 35) # A VIPClient instance\n",
    "\n",
    "print_client_info(client1)\n",
    "\n",
    "print_client_info(vip_client)"
   ]
  },
  {
   "cell_type": "markdown",
   "metadata": {},
   "source": [
    "Let us move on to the concept of Overloading. Python **does not support method overloading** in the traditional sense (multiple methods with the same name but different parameters). However, we can achieve similar functionality using default arguments or variable-length arguments. In this example, we add a new method to our **Client** class: *deposit()*. This method allows us to increment or decrement the balance. It has two parameters: the *amount* to add to the balance and the description, which has a default value: *\"No description\"* To test the Overloading, we use the method with and without the default value. "
   ]
  },
  {
   "cell_type": "code",
   "execution_count": 65,
   "metadata": {},
   "outputs": [],
   "source": [
    "class Client:\n",
    "    def __init__(self, name, balance):\n",
    "        self.name = name\n",
    "        self.balance = balance\n",
    "    \n",
    "    # Method overloading using default arguments\n",
    "    def deposit(self, amount, description=\"No description\"):\n",
    "        self.balance += amount\n",
    "        print(f\"Deposited {amount}. Description: {description}. New balance: {self.balance}\")\n",
    "\n",
    "    def display_info(self):\n",
    "        return f\"Client: {self.name}, Balance: {self.balance}\""
   ]
  },
  {
   "cell_type": "code",
   "execution_count": 66,
   "metadata": {},
   "outputs": [
    {
     "name": "stdout",
     "output_type": "stream",
     "text": [
      "Deposited 500. Description: No description. New balance: 1500\n",
      "Deposited 300. Description: Salary. New balance: 1800\n",
      "Client: Anne, Balance: 1800\n"
     ]
    }
   ],
   "source": [
    "client1 = Client(\"Anne\", 1000)\n",
    "client1.deposit(500)  # Uses the default description\n",
    "client1.deposit(300, \"Salary\")  # Uses the provided description\n",
    "print(client1.display_info())"
   ]
  },
  {
   "cell_type": "markdown",
   "metadata": {},
   "source": [
    "Finally, method overriding occurs when a subclass provides a specific implementation of a method already defined in its superclass. We have already seen this with the *display_info()* method in the **VIPClient** class.\n",
    "\n",
    "The following code shows the overriding of the *display_info()* method."
   ]
  },
  {
   "cell_type": "code",
   "execution_count": 67,
   "metadata": {},
   "outputs": [],
   "source": [
    "class Client:\n",
    "    def __init__(self, name, balance):\n",
    "        self.name = name\n",
    "        self.balance = balance\n",
    "    \n",
    "    def display_info(self):\n",
    "        return f\"Client: {self.name}, Balance: {self.balance}\"\n",
    "\n",
    "class VIPClient(Client):\n",
    "    def __init__(self, name, balance, vip_level):\n",
    "        super().__init__(name, balance)\n",
    "        self.vip_level = vip_level\n",
    "    \n",
    "    def display_info(self):\n",
    "        return f\"VIP Client: {self.name}, Balance: {self.balance}, VIP Level: {self.vip_level}\""
   ]
  },
  {
   "cell_type": "code",
   "execution_count": 68,
   "metadata": {},
   "outputs": [
    {
     "name": "stdout",
     "output_type": "stream",
     "text": [
      "VIP Client: Jane Doe, Balance: 5000, VIP Level: Gold\n"
     ]
    }
   ],
   "source": [
    "vip_client = VIPClient(\"Jane Doe\", 5000, \"Gold\")\n",
    "print(vip_client.display_info())  "
   ]
  },
  {
   "cell_type": "markdown",
   "metadata": {},
   "source": [
    "## Improving the Client and VIPClient classes"
   ]
  },
  {
   "cell_type": "markdown",
   "metadata": {},
   "source": [
    "LLet's enhance our **Client** class. Just like real datasets, clients are defined by a multitude of attributes or characteristics. For instance, the Kaggle platform hosts a banking dataset that includes a client table. This table is comprised of 45,211 rows and 18 columns (see https://www.kaggle.com/datasets/prakharrathi25/banking-dataset-marketing-targets). We are interested in columns because they will help improve our **Client** class. First, we import the *train.csv* dataset using Pandas. To do that, we use the following code. "
   ]
  },
  {
   "cell_type": "code",
   "execution_count": 69,
   "metadata": {},
   "outputs": [],
   "source": [
    "import pandas as pd\n",
    "\n",
    "df = pd.read_csv('test.csv', nrows=10, sep = ';')"
   ]
  },
  {
   "cell_type": "markdown",
   "metadata": {},
   "source": [
    "As we are interested in the columns, we recover only a few rows (for instance, only 10). It is important to note that the CSV file uses the semicolon character as a separator."
   ]
  },
  {
   "cell_type": "code",
   "execution_count": 70,
   "metadata": {},
   "outputs": [
    {
     "data": {
      "text/html": [
       "<div>\n",
       "<style scoped>\n",
       "    .dataframe tbody tr th:only-of-type {\n",
       "        vertical-align: middle;\n",
       "    }\n",
       "\n",
       "    .dataframe tbody tr th {\n",
       "        vertical-align: top;\n",
       "    }\n",
       "\n",
       "    .dataframe thead th {\n",
       "        text-align: right;\n",
       "    }\n",
       "</style>\n",
       "<table border=\"1\" class=\"dataframe\">\n",
       "  <thead>\n",
       "    <tr style=\"text-align: right;\">\n",
       "      <th></th>\n",
       "      <th>age</th>\n",
       "      <th>job</th>\n",
       "      <th>marital</th>\n",
       "      <th>education</th>\n",
       "      <th>default</th>\n",
       "      <th>balance</th>\n",
       "      <th>housing</th>\n",
       "      <th>loan</th>\n",
       "      <th>contact</th>\n",
       "      <th>day</th>\n",
       "      <th>month</th>\n",
       "      <th>duration</th>\n",
       "      <th>campaign</th>\n",
       "      <th>pdays</th>\n",
       "      <th>previous</th>\n",
       "      <th>poutcome</th>\n",
       "      <th>y</th>\n",
       "    </tr>\n",
       "  </thead>\n",
       "  <tbody>\n",
       "    <tr>\n",
       "      <th>0</th>\n",
       "      <td>30</td>\n",
       "      <td>unemployed</td>\n",
       "      <td>married</td>\n",
       "      <td>primary</td>\n",
       "      <td>no</td>\n",
       "      <td>1787</td>\n",
       "      <td>no</td>\n",
       "      <td>no</td>\n",
       "      <td>cellular</td>\n",
       "      <td>19</td>\n",
       "      <td>oct</td>\n",
       "      <td>79</td>\n",
       "      <td>1</td>\n",
       "      <td>-1</td>\n",
       "      <td>0</td>\n",
       "      <td>unknown</td>\n",
       "      <td>no</td>\n",
       "    </tr>\n",
       "    <tr>\n",
       "      <th>1</th>\n",
       "      <td>33</td>\n",
       "      <td>services</td>\n",
       "      <td>married</td>\n",
       "      <td>secondary</td>\n",
       "      <td>no</td>\n",
       "      <td>4789</td>\n",
       "      <td>yes</td>\n",
       "      <td>yes</td>\n",
       "      <td>cellular</td>\n",
       "      <td>11</td>\n",
       "      <td>may</td>\n",
       "      <td>220</td>\n",
       "      <td>1</td>\n",
       "      <td>339</td>\n",
       "      <td>4</td>\n",
       "      <td>failure</td>\n",
       "      <td>no</td>\n",
       "    </tr>\n",
       "    <tr>\n",
       "      <th>2</th>\n",
       "      <td>35</td>\n",
       "      <td>management</td>\n",
       "      <td>single</td>\n",
       "      <td>tertiary</td>\n",
       "      <td>no</td>\n",
       "      <td>1350</td>\n",
       "      <td>yes</td>\n",
       "      <td>no</td>\n",
       "      <td>cellular</td>\n",
       "      <td>16</td>\n",
       "      <td>apr</td>\n",
       "      <td>185</td>\n",
       "      <td>1</td>\n",
       "      <td>330</td>\n",
       "      <td>1</td>\n",
       "      <td>failure</td>\n",
       "      <td>no</td>\n",
       "    </tr>\n",
       "    <tr>\n",
       "      <th>3</th>\n",
       "      <td>30</td>\n",
       "      <td>management</td>\n",
       "      <td>married</td>\n",
       "      <td>tertiary</td>\n",
       "      <td>no</td>\n",
       "      <td>1476</td>\n",
       "      <td>yes</td>\n",
       "      <td>yes</td>\n",
       "      <td>unknown</td>\n",
       "      <td>3</td>\n",
       "      <td>jun</td>\n",
       "      <td>199</td>\n",
       "      <td>4</td>\n",
       "      <td>-1</td>\n",
       "      <td>0</td>\n",
       "      <td>unknown</td>\n",
       "      <td>no</td>\n",
       "    </tr>\n",
       "    <tr>\n",
       "      <th>4</th>\n",
       "      <td>59</td>\n",
       "      <td>blue-collar</td>\n",
       "      <td>married</td>\n",
       "      <td>secondary</td>\n",
       "      <td>no</td>\n",
       "      <td>0</td>\n",
       "      <td>yes</td>\n",
       "      <td>no</td>\n",
       "      <td>unknown</td>\n",
       "      <td>5</td>\n",
       "      <td>may</td>\n",
       "      <td>226</td>\n",
       "      <td>1</td>\n",
       "      <td>-1</td>\n",
       "      <td>0</td>\n",
       "      <td>unknown</td>\n",
       "      <td>no</td>\n",
       "    </tr>\n",
       "    <tr>\n",
       "      <th>5</th>\n",
       "      <td>35</td>\n",
       "      <td>management</td>\n",
       "      <td>single</td>\n",
       "      <td>tertiary</td>\n",
       "      <td>no</td>\n",
       "      <td>747</td>\n",
       "      <td>no</td>\n",
       "      <td>no</td>\n",
       "      <td>cellular</td>\n",
       "      <td>23</td>\n",
       "      <td>feb</td>\n",
       "      <td>141</td>\n",
       "      <td>2</td>\n",
       "      <td>176</td>\n",
       "      <td>3</td>\n",
       "      <td>failure</td>\n",
       "      <td>no</td>\n",
       "    </tr>\n",
       "    <tr>\n",
       "      <th>6</th>\n",
       "      <td>36</td>\n",
       "      <td>self-employed</td>\n",
       "      <td>married</td>\n",
       "      <td>tertiary</td>\n",
       "      <td>no</td>\n",
       "      <td>307</td>\n",
       "      <td>yes</td>\n",
       "      <td>no</td>\n",
       "      <td>cellular</td>\n",
       "      <td>14</td>\n",
       "      <td>may</td>\n",
       "      <td>341</td>\n",
       "      <td>1</td>\n",
       "      <td>330</td>\n",
       "      <td>2</td>\n",
       "      <td>other</td>\n",
       "      <td>no</td>\n",
       "    </tr>\n",
       "    <tr>\n",
       "      <th>7</th>\n",
       "      <td>39</td>\n",
       "      <td>technician</td>\n",
       "      <td>married</td>\n",
       "      <td>secondary</td>\n",
       "      <td>no</td>\n",
       "      <td>147</td>\n",
       "      <td>yes</td>\n",
       "      <td>no</td>\n",
       "      <td>cellular</td>\n",
       "      <td>6</td>\n",
       "      <td>may</td>\n",
       "      <td>151</td>\n",
       "      <td>2</td>\n",
       "      <td>-1</td>\n",
       "      <td>0</td>\n",
       "      <td>unknown</td>\n",
       "      <td>no</td>\n",
       "    </tr>\n",
       "    <tr>\n",
       "      <th>8</th>\n",
       "      <td>41</td>\n",
       "      <td>entrepreneur</td>\n",
       "      <td>married</td>\n",
       "      <td>tertiary</td>\n",
       "      <td>no</td>\n",
       "      <td>221</td>\n",
       "      <td>yes</td>\n",
       "      <td>no</td>\n",
       "      <td>unknown</td>\n",
       "      <td>14</td>\n",
       "      <td>may</td>\n",
       "      <td>57</td>\n",
       "      <td>2</td>\n",
       "      <td>-1</td>\n",
       "      <td>0</td>\n",
       "      <td>unknown</td>\n",
       "      <td>no</td>\n",
       "    </tr>\n",
       "    <tr>\n",
       "      <th>9</th>\n",
       "      <td>43</td>\n",
       "      <td>services</td>\n",
       "      <td>married</td>\n",
       "      <td>primary</td>\n",
       "      <td>no</td>\n",
       "      <td>-88</td>\n",
       "      <td>yes</td>\n",
       "      <td>yes</td>\n",
       "      <td>cellular</td>\n",
       "      <td>17</td>\n",
       "      <td>apr</td>\n",
       "      <td>313</td>\n",
       "      <td>1</td>\n",
       "      <td>147</td>\n",
       "      <td>2</td>\n",
       "      <td>failure</td>\n",
       "      <td>no</td>\n",
       "    </tr>\n",
       "  </tbody>\n",
       "</table>\n",
       "</div>"
      ],
      "text/plain": [
       "   age            job  marital  education default  balance housing loan  \\\n",
       "0   30     unemployed  married    primary      no     1787      no   no   \n",
       "1   33       services  married  secondary      no     4789     yes  yes   \n",
       "2   35     management   single   tertiary      no     1350     yes   no   \n",
       "3   30     management  married   tertiary      no     1476     yes  yes   \n",
       "4   59    blue-collar  married  secondary      no        0     yes   no   \n",
       "5   35     management   single   tertiary      no      747      no   no   \n",
       "6   36  self-employed  married   tertiary      no      307     yes   no   \n",
       "7   39     technician  married  secondary      no      147     yes   no   \n",
       "8   41   entrepreneur  married   tertiary      no      221     yes   no   \n",
       "9   43       services  married    primary      no      -88     yes  yes   \n",
       "\n",
       "    contact  day month  duration  campaign  pdays  previous poutcome   y  \n",
       "0  cellular   19   oct        79         1     -1         0  unknown  no  \n",
       "1  cellular   11   may       220         1    339         4  failure  no  \n",
       "2  cellular   16   apr       185         1    330         1  failure  no  \n",
       "3   unknown    3   jun       199         4     -1         0  unknown  no  \n",
       "4   unknown    5   may       226         1     -1         0  unknown  no  \n",
       "5  cellular   23   feb       141         2    176         3  failure  no  \n",
       "6  cellular   14   may       341         1    330         2    other  no  \n",
       "7  cellular    6   may       151         2     -1         0  unknown  no  \n",
       "8   unknown   14   may        57         2     -1         0  unknown  no  \n",
       "9  cellular   17   apr       313         1    147         2  failure  no  "
      ]
     },
     "execution_count": 70,
     "metadata": {},
     "output_type": "execute_result"
    }
   ],
   "source": [
    "df"
   ]
  },
  {
   "cell_type": "markdown",
   "metadata": {},
   "source": [
    "All features or attributes of clients could be avoided. In this exercise, we will keep only the following attributes \"job\", \"marital\", \"education\", \"balance\" \"housing\" and \"loan\"."
   ]
  },
  {
   "cell_type": "markdown",
   "metadata": {},
   "source": [
    "### Exercise 2: Deleting unnecesary attributes"
   ]
  },
  {
   "cell_type": "markdown",
   "metadata": {},
   "source": [
    "Using method \"drop\", delete al unnecessary attributes."
   ]
  },
  {
   "cell_type": "code",
   "execution_count": 71,
   "metadata": {},
   "outputs": [
    {
     "data": {
      "text/html": [
       "<div>\n",
       "<style scoped>\n",
       "    .dataframe tbody tr th:only-of-type {\n",
       "        vertical-align: middle;\n",
       "    }\n",
       "\n",
       "    .dataframe tbody tr th {\n",
       "        vertical-align: top;\n",
       "    }\n",
       "\n",
       "    .dataframe thead th {\n",
       "        text-align: right;\n",
       "    }\n",
       "</style>\n",
       "<table border=\"1\" class=\"dataframe\">\n",
       "  <thead>\n",
       "    <tr style=\"text-align: right;\">\n",
       "      <th></th>\n",
       "      <th>age</th>\n",
       "      <th>job</th>\n",
       "      <th>marital</th>\n",
       "      <th>education</th>\n",
       "      <th>balance</th>\n",
       "      <th>housing</th>\n",
       "      <th>loan</th>\n",
       "    </tr>\n",
       "  </thead>\n",
       "  <tbody>\n",
       "    <tr>\n",
       "      <th>0</th>\n",
       "      <td>30</td>\n",
       "      <td>unemployed</td>\n",
       "      <td>married</td>\n",
       "      <td>primary</td>\n",
       "      <td>1787</td>\n",
       "      <td>no</td>\n",
       "      <td>no</td>\n",
       "    </tr>\n",
       "    <tr>\n",
       "      <th>1</th>\n",
       "      <td>33</td>\n",
       "      <td>services</td>\n",
       "      <td>married</td>\n",
       "      <td>secondary</td>\n",
       "      <td>4789</td>\n",
       "      <td>yes</td>\n",
       "      <td>yes</td>\n",
       "    </tr>\n",
       "    <tr>\n",
       "      <th>2</th>\n",
       "      <td>35</td>\n",
       "      <td>management</td>\n",
       "      <td>single</td>\n",
       "      <td>tertiary</td>\n",
       "      <td>1350</td>\n",
       "      <td>yes</td>\n",
       "      <td>no</td>\n",
       "    </tr>\n",
       "    <tr>\n",
       "      <th>3</th>\n",
       "      <td>30</td>\n",
       "      <td>management</td>\n",
       "      <td>married</td>\n",
       "      <td>tertiary</td>\n",
       "      <td>1476</td>\n",
       "      <td>yes</td>\n",
       "      <td>yes</td>\n",
       "    </tr>\n",
       "    <tr>\n",
       "      <th>4</th>\n",
       "      <td>59</td>\n",
       "      <td>blue-collar</td>\n",
       "      <td>married</td>\n",
       "      <td>secondary</td>\n",
       "      <td>0</td>\n",
       "      <td>yes</td>\n",
       "      <td>no</td>\n",
       "    </tr>\n",
       "    <tr>\n",
       "      <th>5</th>\n",
       "      <td>35</td>\n",
       "      <td>management</td>\n",
       "      <td>single</td>\n",
       "      <td>tertiary</td>\n",
       "      <td>747</td>\n",
       "      <td>no</td>\n",
       "      <td>no</td>\n",
       "    </tr>\n",
       "    <tr>\n",
       "      <th>6</th>\n",
       "      <td>36</td>\n",
       "      <td>self-employed</td>\n",
       "      <td>married</td>\n",
       "      <td>tertiary</td>\n",
       "      <td>307</td>\n",
       "      <td>yes</td>\n",
       "      <td>no</td>\n",
       "    </tr>\n",
       "    <tr>\n",
       "      <th>7</th>\n",
       "      <td>39</td>\n",
       "      <td>technician</td>\n",
       "      <td>married</td>\n",
       "      <td>secondary</td>\n",
       "      <td>147</td>\n",
       "      <td>yes</td>\n",
       "      <td>no</td>\n",
       "    </tr>\n",
       "    <tr>\n",
       "      <th>8</th>\n",
       "      <td>41</td>\n",
       "      <td>entrepreneur</td>\n",
       "      <td>married</td>\n",
       "      <td>tertiary</td>\n",
       "      <td>221</td>\n",
       "      <td>yes</td>\n",
       "      <td>no</td>\n",
       "    </tr>\n",
       "    <tr>\n",
       "      <th>9</th>\n",
       "      <td>43</td>\n",
       "      <td>services</td>\n",
       "      <td>married</td>\n",
       "      <td>primary</td>\n",
       "      <td>-88</td>\n",
       "      <td>yes</td>\n",
       "      <td>yes</td>\n",
       "    </tr>\n",
       "  </tbody>\n",
       "</table>\n",
       "</div>"
      ],
      "text/plain": [
       "   age            job  marital  education  balance housing loan\n",
       "0   30     unemployed  married    primary     1787      no   no\n",
       "1   33       services  married  secondary     4789     yes  yes\n",
       "2   35     management   single   tertiary     1350     yes   no\n",
       "3   30     management  married   tertiary     1476     yes  yes\n",
       "4   59    blue-collar  married  secondary        0     yes   no\n",
       "5   35     management   single   tertiary      747      no   no\n",
       "6   36  self-employed  married   tertiary      307     yes   no\n",
       "7   39     technician  married  secondary      147     yes   no\n",
       "8   41   entrepreneur  married   tertiary      221     yes   no\n",
       "9   43       services  married    primary      -88     yes  yes"
      ]
     },
     "execution_count": 71,
     "metadata": {},
     "output_type": "execute_result"
    }
   ],
   "source": [
    "df.drop([\"default\",\"contact\",\"day\",\"month\",\"duration\",\"campaign\",\"pdays\",\"previous\",\"poutcome\",\"y\"], axis=1, inplace=True)\n",
    "df"
   ]
  },
  {
   "cell_type": "markdown",
   "metadata": {},
   "source": [
    "### Exercise 3: Adding new attributes"
   ]
  },
  {
   "cell_type": "markdown",
   "metadata": {},
   "source": [
    "Based on the previous code, implement the class **Client** with features recovered from the CSV file. Add also the *name* attribute. Remember to improve the method *Constructor*. It is strongly recommended that default values be used to ease the burden of the constructor method task. For instance, the default age could be 18 (age = 18). You can use the description on the Kaggle website to discover which attributes can have default values. In addition, the *Constructor* method should also validate the *age* value, which means that an error message will be displayed if a new client is less than 18 years old, and the object will not be created. \n",
    "\n",
    "**Important**: In Python, when defining a constructor, non-default arguments must come before default arguments."
   ]
  },
  {
   "cell_type": "code",
   "execution_count": 72,
   "metadata": {},
   "outputs": [],
   "source": [
    "class Client:\n",
    "    def __init__(self, name, age=18, job=\"unknown\", marital=\"unknown\", education=\"unknown\", balance=0, housing=\"unknown\", loan=\"unknown\"):\n",
    "        self.name = name\n",
    "        self.age = age\n",
    "        self.job = job\n",
    "        self.marital = marital\n",
    "        self.education = education\n",
    "        self.balance = balance\n",
    "        self.housing = housing\n",
    "        self.loan = loan\n",
    "    \n",
    "    def display_info(self):\n",
    "        return (f\"Client: {self.name}, Age: {self.age}, Job: {self.job}, Marital Status: {self.marital}, \"\n",
    "                f\"Education: {self.education}, Balance: {self.balance}, Housing: {self.housing}, Loan: {self.loan}\")"
   ]
  },
  {
   "cell_type": "code",
   "execution_count": 73,
   "metadata": {},
   "outputs": [
    {
     "name": "stdout",
     "output_type": "stream",
     "text": [
      "Client: John Doe, Age: 18, Job: technician, Marital Status: single, Education: secondary, Balance: 500, Housing: yes, Loan: no\n"
     ]
    }
   ],
   "source": [
    "# Pour vérifier que l'age par defaut fonctionne\n",
    "\n",
    "client2 = Client(name=\"John Doe\", job=\"technician\", marital=\"single\", education=\"secondary\", balance=500, housing=\"yes\", loan=\"no\")\n",
    "\n",
    "print(client2.display_info())"
   ]
  },
  {
   "cell_type": "markdown",
   "metadata": {},
   "source": [
    "### Exercise 4: Adding new methods (1)"
   ]
  },
  {
   "cell_type": "markdown",
   "metadata": {},
   "source": [
    "Methods should be implemented to give our bank client some actions. First, we have to reimplement the *display_info()* method to show all object attributes. Two new methods should be implemented in the second instance: *display_info_client()* and *display_info_balance()*, which depict the client account and balance."
   ]
  },
  {
   "cell_type": "code",
   "execution_count": 74,
   "metadata": {},
   "outputs": [],
   "source": [
    "class Client:\n",
    "    def __init__(self, name, age=18, job=\"unknown\", marital=\"unknown\", education=\"unknown\", balance=0, housing=\"unknown\", loan=\"unknown\"):\n",
    "        self.name = name\n",
    "        self.age = age\n",
    "        self.job = job\n",
    "        self.marital = marital\n",
    "        self.education = education\n",
    "        self.balance = balance\n",
    "        self.housing = housing\n",
    "        self.loan = loan\n",
    "    \n",
    "    def display_info(self):\n",
    "        return (f\"Client: {self.name}, Age: {self.age}, Job: {self.job}, Marital Status: {self.marital}, \"\n",
    "                f\"Education: {self.education}, Balance: {self.balance}, Housing: {self.housing}, Loan: {self.loan}\")\n",
    "    \n",
    "    def display_info_client(self):\n",
    "        return (f\"Client: {self.name}, Age: {self.age}, Job: {self.job}, Marital Status: {self.marital}, \"\n",
    "                f\"Education: {self.education}, Housing: {self.housing}, Loan: {self.loan}\")\n",
    "    \n",
    "    def display_info_balance(self):\n",
    "        return f\"Client: {self.name}, Balance: {self.balance}\""
   ]
  },
  {
   "cell_type": "code",
   "execution_count": 75,
   "metadata": {},
   "outputs": [
    {
     "name": "stdout",
     "output_type": "stream",
     "text": [
      "Client: John Doe, Age: 18, Job: technician, Marital Status: single, Education: secondary, Housing: yes, Loan: no\n",
      "Client: John Doe, Balance: 500\n"
     ]
    }
   ],
   "source": [
    "\n",
    "client1 = Client(name=\"John Doe\", job=\"technician\", marital=\"single\", education=\"secondary\", balance=500, housing=\"yes\", loan=\"no\")\n",
    "\n",
    "\n",
    "print(client1.display_info_client())\n",
    "print(client1.display_info_balance())\n",
    "\n"
   ]
  },
  {
   "cell_type": "markdown",
   "metadata": {},
   "source": [
    "It is time to instantiate some objects. Take the first three rows of the dataframe and create three objects. Remember to add a name to each of our clients (randomly). If you can take advantage of the default values, you can instantiate your objects by calling only non-default values. For example, if your constructor has age = 18 as the default value but your client is 30 years old, your code will include something like **Client(name = \"Anne,\" age = 30,...)** The rest of the default values can be omitted when you create the object."
   ]
  },
  {
   "cell_type": "code",
   "execution_count": 76,
   "metadata": {},
   "outputs": [
    {
     "data": {
      "text/html": [
       "<div>\n",
       "<style scoped>\n",
       "    .dataframe tbody tr th:only-of-type {\n",
       "        vertical-align: middle;\n",
       "    }\n",
       "\n",
       "    .dataframe tbody tr th {\n",
       "        vertical-align: top;\n",
       "    }\n",
       "\n",
       "    .dataframe thead th {\n",
       "        text-align: right;\n",
       "    }\n",
       "</style>\n",
       "<table border=\"1\" class=\"dataframe\">\n",
       "  <thead>\n",
       "    <tr style=\"text-align: right;\">\n",
       "      <th></th>\n",
       "      <th>age</th>\n",
       "      <th>job</th>\n",
       "      <th>marital</th>\n",
       "      <th>education</th>\n",
       "      <th>balance</th>\n",
       "      <th>housing</th>\n",
       "      <th>loan</th>\n",
       "    </tr>\n",
       "  </thead>\n",
       "  <tbody>\n",
       "    <tr>\n",
       "      <th>0</th>\n",
       "      <td>30</td>\n",
       "      <td>unemployed</td>\n",
       "      <td>married</td>\n",
       "      <td>primary</td>\n",
       "      <td>1787</td>\n",
       "      <td>no</td>\n",
       "      <td>no</td>\n",
       "    </tr>\n",
       "    <tr>\n",
       "      <th>1</th>\n",
       "      <td>33</td>\n",
       "      <td>services</td>\n",
       "      <td>married</td>\n",
       "      <td>secondary</td>\n",
       "      <td>4789</td>\n",
       "      <td>yes</td>\n",
       "      <td>yes</td>\n",
       "    </tr>\n",
       "    <tr>\n",
       "      <th>2</th>\n",
       "      <td>35</td>\n",
       "      <td>management</td>\n",
       "      <td>single</td>\n",
       "      <td>tertiary</td>\n",
       "      <td>1350</td>\n",
       "      <td>yes</td>\n",
       "      <td>no</td>\n",
       "    </tr>\n",
       "    <tr>\n",
       "      <th>3</th>\n",
       "      <td>30</td>\n",
       "      <td>management</td>\n",
       "      <td>married</td>\n",
       "      <td>tertiary</td>\n",
       "      <td>1476</td>\n",
       "      <td>yes</td>\n",
       "      <td>yes</td>\n",
       "    </tr>\n",
       "    <tr>\n",
       "      <th>4</th>\n",
       "      <td>59</td>\n",
       "      <td>blue-collar</td>\n",
       "      <td>married</td>\n",
       "      <td>secondary</td>\n",
       "      <td>0</td>\n",
       "      <td>yes</td>\n",
       "      <td>no</td>\n",
       "    </tr>\n",
       "    <tr>\n",
       "      <th>5</th>\n",
       "      <td>35</td>\n",
       "      <td>management</td>\n",
       "      <td>single</td>\n",
       "      <td>tertiary</td>\n",
       "      <td>747</td>\n",
       "      <td>no</td>\n",
       "      <td>no</td>\n",
       "    </tr>\n",
       "    <tr>\n",
       "      <th>6</th>\n",
       "      <td>36</td>\n",
       "      <td>self-employed</td>\n",
       "      <td>married</td>\n",
       "      <td>tertiary</td>\n",
       "      <td>307</td>\n",
       "      <td>yes</td>\n",
       "      <td>no</td>\n",
       "    </tr>\n",
       "    <tr>\n",
       "      <th>7</th>\n",
       "      <td>39</td>\n",
       "      <td>technician</td>\n",
       "      <td>married</td>\n",
       "      <td>secondary</td>\n",
       "      <td>147</td>\n",
       "      <td>yes</td>\n",
       "      <td>no</td>\n",
       "    </tr>\n",
       "    <tr>\n",
       "      <th>8</th>\n",
       "      <td>41</td>\n",
       "      <td>entrepreneur</td>\n",
       "      <td>married</td>\n",
       "      <td>tertiary</td>\n",
       "      <td>221</td>\n",
       "      <td>yes</td>\n",
       "      <td>no</td>\n",
       "    </tr>\n",
       "    <tr>\n",
       "      <th>9</th>\n",
       "      <td>43</td>\n",
       "      <td>services</td>\n",
       "      <td>married</td>\n",
       "      <td>primary</td>\n",
       "      <td>-88</td>\n",
       "      <td>yes</td>\n",
       "      <td>yes</td>\n",
       "    </tr>\n",
       "  </tbody>\n",
       "</table>\n",
       "</div>"
      ],
      "text/plain": [
       "   age            job  marital  education  balance housing loan\n",
       "0   30     unemployed  married    primary     1787      no   no\n",
       "1   33       services  married  secondary     4789     yes  yes\n",
       "2   35     management   single   tertiary     1350     yes   no\n",
       "3   30     management  married   tertiary     1476     yes  yes\n",
       "4   59    blue-collar  married  secondary        0     yes   no\n",
       "5   35     management   single   tertiary      747      no   no\n",
       "6   36  self-employed  married   tertiary      307     yes   no\n",
       "7   39     technician  married  secondary      147     yes   no\n",
       "8   41   entrepreneur  married   tertiary      221     yes   no\n",
       "9   43       services  married    primary      -88     yes  yes"
      ]
     },
     "execution_count": 76,
     "metadata": {},
     "output_type": "execute_result"
    }
   ],
   "source": [
    "df"
   ]
  },
  {
   "cell_type": "code",
   "execution_count": 77,
   "metadata": {},
   "outputs": [
    {
     "name": "stdout",
     "output_type": "stream",
     "text": [
      "Client: Alice, Age: 30, Job: unemployed, Marital Status: married, Education: primary, Balance: 1787, Housing: no, Loan: no\n",
      "Client: Bob, Age: 33, Job: services, Marital Status: married, Education: secondary, Balance: 4789, Housing: yes, Loan: yes\n",
      "Client: Charlie, Age: 35, Job: management, Marital Status: single, Education: tertiary, Balance: 1350, Housing: yes, Loan: no\n"
     ]
    }
   ],
   "source": [
    "client1 = Client(name=\"Alice\", age=df.iloc[0, 0], job=df.iloc[0, 1], marital=df.iloc[0, 2], education=df.iloc[0, 3], balance=df.iloc[0, 4], housing=df.iloc[0, 5], loan=df.iloc[0, 6])\n",
    "client2 = Client(name=\"Bob\", age=df.iloc[1, 0], job=df.iloc[1, 1], marital=df.iloc[1, 2], education=df.iloc[1, 3], balance=df.iloc[1, 4], housing=df.iloc[1, 5], loan=df.iloc[1, 6])\n",
    "client3 = Client(name=\"Charlie\", age=df.iloc[2, 0], job=df.iloc[2, 1], marital=df.iloc[2, 2], education=df.iloc[2, 3], balance=df.iloc[2, 4], housing=df.iloc[2, 5], loan=df.iloc[2, 6])\n",
    "\n",
    "for client in [client1, client2, client3]:\n",
    "    print(client.display_info())"
   ]
  },
  {
   "cell_type": "code",
   "execution_count": null,
   "metadata": {},
   "outputs": [],
   "source": []
  },
  {
   "cell_type": "markdown",
   "metadata": {},
   "source": [
    "### Exercise 5: Adding new methods (2)"
   ]
  },
  {
   "cell_type": "markdown",
   "metadata": {},
   "source": [
    "\n",
    "Also, a method to increment and decrement the balance should be implemented. This new method will validate that the client should have a positive balance. Otherwise, an advertising message will be displayed if a decrement sets their balance <0. Test your method setting a negative value to the client balance, for example, *-2000* to Anne. Later, show the new balance woth the method *display_person_balance()*"
   ]
  },
  {
   "cell_type": "code",
   "execution_count": 78,
   "metadata": {},
   "outputs": [],
   "source": [
    "class Client:\n",
    "    def __init__(self, name, age=18, job=\"unknown\", marital=\"unknown\", education=\"unknown\", balance=0, housing=\"unknown\", loan=\"unknown\"):\n",
    "        self.name = name\n",
    "        self.age = age\n",
    "        self.job = job\n",
    "        self.marital = marital\n",
    "        self.education = education\n",
    "        self.balance = balance\n",
    "        self.housing = housing\n",
    "        self.loan = loan\n",
    "    \n",
    "    def display_info(self):\n",
    "        return (f\"Client: {self.name}, Age: {self.age}, Job: {self.job}, Marital Status: {self.marital}, \"\n",
    "                f\"Education: {self.education}, Balance: {self.balance}, Housing: {self.housing}, Loan: {self.loan}\")\n",
    "    \n",
    "    def display_info_client(self):\n",
    "        return (f\"Client: {self.name}, Age: {self.age}, Job: {self.job}, Marital Status: {self.marital}, \"\n",
    "                f\"Education: {self.education}, Housing: {self.housing}, Loan: {self.loan}\")\n",
    "    \n",
    "    def display_info_balance(self):\n",
    "        return f\"Client: {self.name}, Balance: {self.balance}\"\n",
    "    \n",
    "    def set_balance(self,amount):\n",
    "        new_balance = self.balance + amount\n",
    "        if new_balance < 0:\n",
    "            print(\"Attention ta solde est négative !\")\n",
    "        self.balance = new_balance"
   ]
  },
  {
   "cell_type": "code",
   "execution_count": 79,
   "metadata": {},
   "outputs": [],
   "source": [
    "client_test = Client(name=\"John Doe\", job=\"technician\", marital=\"single\", education=\"secondary\", balance=500, housing=\"yes\", loan=\"no\")\n",
    "client_test.set_balance(-200)\n",
    "\n"
   ]
  },
  {
   "cell_type": "code",
   "execution_count": 80,
   "metadata": {},
   "outputs": [
    {
     "name": "stdout",
     "output_type": "stream",
     "text": [
      "Client: John Doe, Balance: 300\n"
     ]
    }
   ],
   "source": [
    "print(client_test.display_info_balance())"
   ]
  },
  {
   "cell_type": "markdown",
   "metadata": {},
   "source": [
    "Finally, two methods should be implemented. The first one will allow updating the *marital* status attribute, and the second one will allow updating the *job* attribute. "
   ]
  },
  {
   "cell_type": "code",
   "execution_count": 81,
   "metadata": {},
   "outputs": [],
   "source": [
    "class Client:\n",
    "    def __init__(self, name, age=18, job=\"unknown\", marital=\"unknown\", education=\"unknown\", balance=0, housing=\"unknown\", loan=\"unknown\"):\n",
    "        self.name = name\n",
    "        self.age = age\n",
    "        self.job = job\n",
    "        self.marital = marital\n",
    "        self.education = education\n",
    "        self.balance = balance\n",
    "        self.housing = housing\n",
    "        self.loan = loan\n",
    "    \n",
    "    def display_info(self):\n",
    "        return (f\"Client: {self.name}, Age: {self.age}, Job: {self.job}, Marital Status: {self.marital}, \"\n",
    "                f\"Education: {self.education}, Balance: {self.balance}, Housing: {self.housing}, Loan: {self.loan}\")\n",
    "    \n",
    "    def display_info_client(self):\n",
    "        return (f\"Client: {self.name}, Age: {self.age}, Job: {self.job}, Marital Status: {self.marital}, \"\n",
    "                f\"Education: {self.education}, Housing: {self.housing}, Loan: {self.loan}\")\n",
    "    \n",
    "    def display_info_balance(self):\n",
    "        return f\"Client: {self.name}, Balance: {self.balance}\"\n",
    "    \n",
    "    def set_balance(self,amount):\n",
    "        new_balance = self.balance + amount\n",
    "        if new_balance < 0:\n",
    "            print(\"Attention ta solde est négative !\")\n",
    "        self.balance = new_balance\n",
    "\n",
    "    def set_job(self, new_job):\n",
    "        self.job = new_job\n",
    "\n",
    "    def set_martial(self, new_martial):\n",
    "        self.marital = new_martial"
   ]
  },
  {
   "cell_type": "markdown",
   "metadata": {},
   "source": [
    "To validate all changes made into the class, instantiate new clients, and make some updates. "
   ]
  },
  {
   "cell_type": "code",
   "execution_count": 82,
   "metadata": {},
   "outputs": [
    {
     "name": "stdout",
     "output_type": "stream",
     "text": [
      "Client: John Doe, Age: 18, Job: technician, Marital Status: single, Education: secondary, Balance: 500, Housing: yes, Loan: no\n"
     ]
    }
   ],
   "source": [
    "client1 = Client(name=\"John Doe\", job=\"technician\", marital=\"single\", education=\"secondary\", balance=500, housing=\"yes\", loan=\"no\")\n",
    "\n",
    "print(client1.display_info())"
   ]
  },
  {
   "cell_type": "code",
   "execution_count": 83,
   "metadata": {},
   "outputs": [],
   "source": [
    "client1.set_job(\"Ingénieur\")\n",
    "client1.set_martial(\"single\")"
   ]
  },
  {
   "cell_type": "code",
   "execution_count": 84,
   "metadata": {},
   "outputs": [
    {
     "name": "stdout",
     "output_type": "stream",
     "text": [
      "Client: John Doe, Age: 18, Job: Ingénieur, Marital Status: single, Education: secondary, Balance: 500, Housing: yes, Loan: no\n"
     ]
    }
   ],
   "source": [
    "print(client1.display_info())"
   ]
  },
  {
   "cell_type": "markdown",
   "metadata": {},
   "source": [
    "### Exercise 6: Testing the inheritance"
   ]
  },
  {
   "cell_type": "markdown",
   "metadata": {},
   "source": [
    "To finish this TP, we want to create a new class called **OLDClient**, which will have the same characteristics as our clients but implement another attribute called *new_bank*, which will store the name of the bank hosting our ex-client. We can have the *unknown* value (by default) to represent the absence of this data. Remember to use the notion of inheritance adequately. This class should include a method to show the name, balance and the new bank."
   ]
  },
  {
   "cell_type": "code",
   "execution_count": 85,
   "metadata": {},
   "outputs": [],
   "source": [
    "class OLDClient(Client):\n",
    "\n",
    "    def __init__(self, name, age=18, job=\"unknown\", marital=\"unknown\", education=\"unknown\", balance=0, housing=\"unknown\", loan=\"unknown\",new_bank=\"unknown\"):\n",
    "        super().__init__(name, age, job, marital, education, balance, housing, loan)\n",
    "        self.new_bank = new_bank\n",
    "\n",
    "    def display_info(self):\n",
    "        return f\"Name : {self.name}, Age : {self.age}, New_bank : {self.new_bank}\""
   ]
  },
  {
   "cell_type": "code",
   "execution_count": 86,
   "metadata": {},
   "outputs": [
    {
     "name": "stdout",
     "output_type": "stream",
     "text": [
      "Name : Alice, Age : 45, New_bank : Bank of America\n"
     ]
    }
   ],
   "source": [
    "old_client = OLDClient(name=\"Alice\", age=45, job=\"engineer\", marital=\"married\", education=\"tertiary\", balance=3000, housing=\"yes\", loan=\"no\", new_bank=\"Bank of America\")\n",
    "print(old_client.display_info())"
   ]
  },
  {
   "cell_type": "markdown",
   "metadata": {},
   "source": [
    "## Normalization in Data Analytics"
   ]
  },
  {
   "cell_type": "markdown",
   "metadata": {},
   "source": [
    "Normalization is critical in data analytics because it ensures that different features or variables in a dataset are on a similar scale. This helps prevent any feature from dominating the analysis due to its magnitude. It's essential for algorithms like machine learning models, where varying ranges can skew results and lead to poor model performance. By using normalization techniques such as Min-Max scaling or Z-Score normalization, we can transform the data into a more uniform scale, which improves the accuracy, efficiency, and comparability of models and analyses."
   ]
  },
  {
   "cell_type": "markdown",
   "metadata": {},
   "source": [
    "### Challenge 1: Implementing the Normalization Class"
   ]
  },
  {
   "cell_type": "markdown",
   "metadata": {},
   "source": [
    "In this TP, you will create a Python class that implements two common normalization techniques on a list of numerical values. These models are the Min-Max Normalization and the Z-Score Normalization. In addition, you will add a method to display the original data."
   ]
  },
  {
   "cell_type": "markdown",
   "metadata": {},
   "source": [
    "Tasks you will implement are the follows:\n",
    "\n",
    "1. Create the Class: Write a class named Normalization that takes a list of numbers as input during initialization (constructor).\n",
    "\n",
    "2. Normalization method 1: Implement a method min_max_normalization that performs Min-Max normalization on the list. The formula is: $$Min\\_Max\\_value = \\frac{x-min}{max-min}$$\n",
    "\n",
    "3. Normalization method 2: Implement a method z_score_normalization that performs Z-Score normalization. The formula is: $$Z\\_Score\\_value = \\frac{x-mean}{std deviation}$$\n",
    "\n",
    "4. Displaying method: implement a method display_list to print the original list of numbers (input)\n",
    "\n",
    "5. Expected output:\n",
    "\n",
    "- My list: [4, 5, 6, 2, 10]\n",
    "- Min-Max normalized list: [0.222, 0.333, 0.444, 0.0, 1.0]\n",
    "- Z-Score normalized list: [-0.308, -0.041, 0.226, -0.844, 0.968]\n"
   ]
  },
  {
   "cell_type": "code",
   "execution_count": 102,
   "metadata": {},
   "outputs": [],
   "source": [
    "class Normalization():\n",
    "    def __init__(self, liste):\n",
    "        self.liste = liste\n",
    "    \n",
    "    def methode_min_max(self):\n",
    "        L = self.liste.copy()\n",
    "\n",
    "        min_val = min(L)\n",
    "        max_val = max(L)\n",
    "\n",
    "        for i in range(len(L)):\n",
    "            L[i] = round( ( (L[i] - min_val) / (max_val - min_val) ), 3)\n",
    "\n",
    "        return f\"Min-Max normalized list : {L}\"\n",
    "        \n",
    "    def methode_z_score(self):\n",
    "        L = self.liste.copy()\n",
    "\n",
    "        moyenne = sum(L) / len(L)\n",
    "        variance = sum((x - moyenne) ** 2 for x in L) / (len(L) - 1)  \n",
    "        ecart_type = variance ** 0.5\n",
    "\n",
    "        for i in range(len(L)):\n",
    "            L[i] = round( ( (L[i] - moyenne) / ecart_type), 3 )\n",
    "        \n",
    "        return f\"Z-Score normalized list : {L}\"\n",
    "    \n",
    "    def display_list(self):\n",
    "        return f\"My list : {self.liste}\""
   ]
  },
  {
   "cell_type": "code",
   "execution_count": 103,
   "metadata": {},
   "outputs": [
    {
     "name": "stdout",
     "output_type": "stream",
     "text": [
      "My list : [4, 5, 6, 2, 10]\n",
      "Min-Max normalized list : [0.25, 0.375, 0.5, 0.0, 1.0]\n",
      "Z-Score normalized list : [-0.472, -0.135, 0.202, -1.146, 1.551]\n"
     ]
    }
   ],
   "source": [
    "L = [4,5,6,2,10]\n",
    "\n",
    "norm = Normalization(L)\n",
    "\n",
    "print(norm.display_list())\n",
    "print(norm.methode_min_max())\n",
    "print(norm.methode_z_score())"
   ]
  },
  {
   "cell_type": "code",
   "execution_count": 98,
   "metadata": {},
   "outputs": [
    {
     "name": "stdout",
     "output_type": "stream",
     "text": [
      "My list : [4, 5, 6, 2, 10]\n"
     ]
    }
   ],
   "source": [
    "print(norm.display_list())"
   ]
  },
  {
   "cell_type": "markdown",
   "metadata": {},
   "source": [
    "Le clipping est une technique utilisée pour gérer les valeurs aberrantes (ou outliers) dans un ensemble de données. Elle consiste à limiter les valeurs extrêmes en les ramenant à un seuil maximum ou minimum prédéfini."
   ]
  },
  {
   "cell_type": "code",
   "execution_count": null,
   "metadata": {},
   "outputs": [],
   "source": []
  },
  {
   "cell_type": "markdown",
   "metadata": {},
   "source": []
  }
 ],
 "metadata": {
  "kernelspec": {
   "display_name": "Python 3 (ipykernel)",
   "language": "python",
   "name": "python3"
  },
  "language_info": {
   "codemirror_mode": {
    "name": "ipython",
    "version": 3
   },
   "file_extension": ".py",
   "mimetype": "text/x-python",
   "name": "python",
   "nbconvert_exporter": "python",
   "pygments_lexer": "ipython3",
   "version": "3.11.9"
  }
 },
 "nbformat": 4,
 "nbformat_minor": 2
}
