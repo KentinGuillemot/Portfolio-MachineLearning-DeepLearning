{
 "cells": [
  {
   "cell_type": "markdown",
   "metadata": {},
   "source": [
    "## DATA PRE-PROCESSING WITH PYTHON\n",
    "#### École d'ingénieurs Léonard de Vinci, La Défense, Paris\n",
    "**Hugo Alatrista Salas** \n",
    "\n",
    "**Note:** This is a graded job.\n",
    "\n",
    "***"
   ]
  },
  {
   "cell_type": "markdown",
   "metadata": {},
   "source": [
    "Data pre-processing is crucial in data analytics because it ensures the data is clean, consistent, and ready for analysis. Techniques like discretization help convert continuous data into categorical intervals, making it easier to interpret patterns or use certain machine learning algorithms. Normalization adjusts the scale of features, ensuring that no single feature dominates due to magnitude differences, which is particularly important for algorithms that rely on distance measurements. Handling missing values by replacing or imputing them prevents biased results and incomplete analyses. Outlier detection helps in identifying anomalies that could distort analysis or represent significant insights. Together, these preprocessing techniques enhance data quality, leading to more accurate and meaningful outcomes in data analytics.\n",
    "\n",
    "Our goal in this lab is to showcase the significance of these techniques in the context of data analysis."
   ]
  },
  {
   "cell_type": "markdown",
   "metadata": {},
   "source": [
    "We start this TP importing the libraries and reading a CSV file. This is possible thanks to the *read_csv* method of Pandas class."
   ]
  },
  {
   "cell_type": "code",
   "execution_count": 1,
   "metadata": {},
   "outputs": [],
   "source": [
    "# -*- coding: utf-8 -*-\n",
    "import pandas as pd\n",
    "import matplotlib.pyplot as plt\n",
    "import seaborn as sn\n",
    "import numpy as np"
   ]
  },
  {
   "cell_type": "code",
   "execution_count": 2,
   "metadata": {},
   "outputs": [],
   "source": [
    "# Reading the data\n",
    "df = pd.read_csv(\"data.csv\", sep=\",\", decimal=\".\", engine='python')"
   ]
  },
  {
   "cell_type": "markdown",
   "metadata": {},
   "source": [
    "## Discretization using equal ranges"
   ]
  },
  {
   "cell_type": "markdown",
   "metadata": {},
   "source": [
    "Discretization is a process by which continuous data is transformed into discrete data, a key aspect of data analysis. One of the first challenges in this process is determining the number of *bins*, classes, or groups of data we want to obtain. Once the number of bins has been selected, we must consider the discretization technique to be used. The first technique learned in the course is the *equal range* discretization. Fortunately, Pandas offers us the cut function, which simplifies our tasks."
   ]
  },
  {
   "cell_type": "markdown",
   "metadata": {},
   "source": [
    "### Exercise 1 (1/2 point)"
   ]
  },
  {
   "cell_type": "markdown",
   "metadata": {},
   "source": [
    "In this part, the feature temperature will be used. Before discretizing data at our disposal, we have to know the minimal and maximal values of the *TEMP* feature. There are many different ways to extract these values. Note that we will work only with the temperature feature; then, all results will only show these features. Write a Python code to show the min and max values of *TEMP* feature."
   ]
  },
  {
   "cell_type": "code",
   "execution_count": 3,
   "metadata": {},
   "outputs": [
    {
     "data": {
      "text/html": [
       "<div>\n",
       "<style scoped>\n",
       "    .dataframe tbody tr th:only-of-type {\n",
       "        vertical-align: middle;\n",
       "    }\n",
       "\n",
       "    .dataframe tbody tr th {\n",
       "        vertical-align: top;\n",
       "    }\n",
       "\n",
       "    .dataframe thead th {\n",
       "        text-align: right;\n",
       "    }\n",
       "</style>\n",
       "<table border=\"1\" class=\"dataframe\">\n",
       "  <thead>\n",
       "    <tr style=\"text-align: right;\">\n",
       "      <th></th>\n",
       "      <th>STATION</th>\n",
       "      <th>DATE</th>\n",
       "      <th>LATITUDE</th>\n",
       "      <th>LONGITUDE</th>\n",
       "      <th>ELEVATION</th>\n",
       "      <th>NAME</th>\n",
       "      <th>TEMP</th>\n",
       "      <th>TEMP_ATTRIBUTES</th>\n",
       "      <th>DEWP</th>\n",
       "      <th>DEWP_ATTRIBUTES</th>\n",
       "      <th>...</th>\n",
       "      <th>MXSPD</th>\n",
       "      <th>GUST</th>\n",
       "      <th>MAX</th>\n",
       "      <th>MAX_ATTRIBUTES</th>\n",
       "      <th>MIN</th>\n",
       "      <th>MIN_ATTRIBUTES</th>\n",
       "      <th>PRCP</th>\n",
       "      <th>PRCP_ATTRIBUTES</th>\n",
       "      <th>SNDP</th>\n",
       "      <th>FRSHTT</th>\n",
       "    </tr>\n",
       "  </thead>\n",
       "  <tbody>\n",
       "    <tr>\n",
       "      <th>0</th>\n",
       "      <td>84628099999</td>\n",
       "      <td>2020-01-01</td>\n",
       "      <td>-12.021889</td>\n",
       "      <td>-77.114319</td>\n",
       "      <td>34.44</td>\n",
       "      <td>JORGE CHAVEZ INTERNATIONAL, PE</td>\n",
       "      <td>72.3</td>\n",
       "      <td>24</td>\n",
       "      <td>66.6</td>\n",
       "      <td>24</td>\n",
       "      <td>...</td>\n",
       "      <td>15.0</td>\n",
       "      <td>999.9</td>\n",
       "      <td>77.2</td>\n",
       "      <td>*</td>\n",
       "      <td>69.3</td>\n",
       "      <td></td>\n",
       "      <td>0.0</td>\n",
       "      <td>I</td>\n",
       "      <td>999.9</td>\n",
       "      <td>0</td>\n",
       "    </tr>\n",
       "    <tr>\n",
       "      <th>1</th>\n",
       "      <td>84628099999</td>\n",
       "      <td>2020-01-02</td>\n",
       "      <td>-12.021889</td>\n",
       "      <td>-77.114319</td>\n",
       "      <td>34.44</td>\n",
       "      <td>JORGE CHAVEZ INTERNATIONAL, PE</td>\n",
       "      <td>72.9</td>\n",
       "      <td>24</td>\n",
       "      <td>66.8</td>\n",
       "      <td>24</td>\n",
       "      <td>...</td>\n",
       "      <td>13.0</td>\n",
       "      <td>999.9</td>\n",
       "      <td>80.6</td>\n",
       "      <td>*</td>\n",
       "      <td>68.9</td>\n",
       "      <td></td>\n",
       "      <td>0.0</td>\n",
       "      <td>I</td>\n",
       "      <td>999.9</td>\n",
       "      <td>0</td>\n",
       "    </tr>\n",
       "    <tr>\n",
       "      <th>2</th>\n",
       "      <td>84628099999</td>\n",
       "      <td>2020-01-03</td>\n",
       "      <td>-12.021889</td>\n",
       "      <td>-77.114319</td>\n",
       "      <td>34.44</td>\n",
       "      <td>JORGE CHAVEZ INTERNATIONAL, PE</td>\n",
       "      <td>73.1</td>\n",
       "      <td>24</td>\n",
       "      <td>65.6</td>\n",
       "      <td>24</td>\n",
       "      <td>...</td>\n",
       "      <td>17.1</td>\n",
       "      <td>999.9</td>\n",
       "      <td>81.0</td>\n",
       "      <td></td>\n",
       "      <td>69.4</td>\n",
       "      <td></td>\n",
       "      <td>0.0</td>\n",
       "      <td>I</td>\n",
       "      <td>999.9</td>\n",
       "      <td>0</td>\n",
       "    </tr>\n",
       "    <tr>\n",
       "      <th>3</th>\n",
       "      <td>84628099999</td>\n",
       "      <td>2020-01-04</td>\n",
       "      <td>-12.021889</td>\n",
       "      <td>-77.114319</td>\n",
       "      <td>34.44</td>\n",
       "      <td>JORGE CHAVEZ INTERNATIONAL, PE</td>\n",
       "      <td>73.4</td>\n",
       "      <td>24</td>\n",
       "      <td>67.6</td>\n",
       "      <td>24</td>\n",
       "      <td>...</td>\n",
       "      <td>14.0</td>\n",
       "      <td>999.9</td>\n",
       "      <td>79.0</td>\n",
       "      <td></td>\n",
       "      <td>69.8</td>\n",
       "      <td>*</td>\n",
       "      <td>0.0</td>\n",
       "      <td>I</td>\n",
       "      <td>999.9</td>\n",
       "      <td>0</td>\n",
       "    </tr>\n",
       "    <tr>\n",
       "      <th>4</th>\n",
       "      <td>84628099999</td>\n",
       "      <td>2020-01-05</td>\n",
       "      <td>-12.021889</td>\n",
       "      <td>-77.114319</td>\n",
       "      <td>34.44</td>\n",
       "      <td>JORGE CHAVEZ INTERNATIONAL, PE</td>\n",
       "      <td>73.3</td>\n",
       "      <td>24</td>\n",
       "      <td>67.2</td>\n",
       "      <td>24</td>\n",
       "      <td>...</td>\n",
       "      <td>15.0</td>\n",
       "      <td>999.9</td>\n",
       "      <td>80.6</td>\n",
       "      <td>*</td>\n",
       "      <td>69.8</td>\n",
       "      <td></td>\n",
       "      <td>0.0</td>\n",
       "      <td>I</td>\n",
       "      <td>999.9</td>\n",
       "      <td>0</td>\n",
       "    </tr>\n",
       "  </tbody>\n",
       "</table>\n",
       "<p>5 rows × 28 columns</p>\n",
       "</div>"
      ],
      "text/plain": [
       "       STATION        DATE   LATITUDE  LONGITUDE  ELEVATION  \\\n",
       "0  84628099999  2020-01-01 -12.021889 -77.114319      34.44   \n",
       "1  84628099999  2020-01-02 -12.021889 -77.114319      34.44   \n",
       "2  84628099999  2020-01-03 -12.021889 -77.114319      34.44   \n",
       "3  84628099999  2020-01-04 -12.021889 -77.114319      34.44   \n",
       "4  84628099999  2020-01-05 -12.021889 -77.114319      34.44   \n",
       "\n",
       "                             NAME  TEMP  TEMP_ATTRIBUTES  DEWP  \\\n",
       "0  JORGE CHAVEZ INTERNATIONAL, PE  72.3               24  66.6   \n",
       "1  JORGE CHAVEZ INTERNATIONAL, PE  72.9               24  66.8   \n",
       "2  JORGE CHAVEZ INTERNATIONAL, PE  73.1               24  65.6   \n",
       "3  JORGE CHAVEZ INTERNATIONAL, PE  73.4               24  67.6   \n",
       "4  JORGE CHAVEZ INTERNATIONAL, PE  73.3               24  67.2   \n",
       "\n",
       "   DEWP_ATTRIBUTES  ...  MXSPD   GUST   MAX  MAX_ATTRIBUTES   MIN  \\\n",
       "0               24  ...   15.0  999.9  77.2               *  69.3   \n",
       "1               24  ...   13.0  999.9  80.6               *  68.9   \n",
       "2               24  ...   17.1  999.9  81.0                  69.4   \n",
       "3               24  ...   14.0  999.9  79.0                  69.8   \n",
       "4               24  ...   15.0  999.9  80.6               *  69.8   \n",
       "\n",
       "   MIN_ATTRIBUTES  PRCP  PRCP_ATTRIBUTES   SNDP  FRSHTT  \n",
       "0                   0.0                I  999.9       0  \n",
       "1                   0.0                I  999.9       0  \n",
       "2                   0.0                I  999.9       0  \n",
       "3               *   0.0                I  999.9       0  \n",
       "4                   0.0                I  999.9       0  \n",
       "\n",
       "[5 rows x 28 columns]"
      ]
     },
     "execution_count": 3,
     "metadata": {},
     "output_type": "execute_result"
    }
   ],
   "source": [
    "df.head()"
   ]
  },
  {
   "cell_type": "markdown",
   "metadata": {},
   "source": [
    "We can see that the temperature value varies between $59.1$ and $78.2$. In order to discretize the Temperature attribute, we will choose the number of *bins* or classes we want to obtain. For example, imagine that we want to obtain $3$ classes or bins. To do this, we create a vector with the classes we want to build."
   ]
  },
  {
   "cell_type": "code",
   "execution_count": 4,
   "metadata": {},
   "outputs": [],
   "source": [
    "bins = [50, 60, 70, 80]"
   ]
  },
  {
   "cell_type": "code",
   "execution_count": 5,
   "metadata": {},
   "outputs": [
    {
     "data": {
      "text/plain": [
       "0      72.3\n",
       "1      72.9\n",
       "2      73.1\n",
       "3      73.4\n",
       "4      73.3\n",
       "       ... \n",
       "229    60.7\n",
       "230    60.4\n",
       "231    60.5\n",
       "232    60.9\n",
       "233    61.3\n",
       "Name: TEMP, Length: 234, dtype: float64"
      ]
     },
     "execution_count": 5,
     "metadata": {},
     "output_type": "execute_result"
    }
   ],
   "source": [
    "df.TEMP"
   ]
  },
  {
   "cell_type": "markdown",
   "metadata": {},
   "source": [
    "In the vector above, we are implicitly forming three bins or ranges of values: $(50 - 60], (60-70], (70-80]$, that is, values ​​between $51$ and $60$, values ​​between $61$ and $70$, etc. Using the vector *bins* created above, we transform the temperature data into the three classes. We can do that with the following statement."
   ]
  },
  {
   "cell_type": "code",
   "execution_count": 6,
   "metadata": {},
   "outputs": [],
   "source": [
    "cat_ranges = pd.cut(df['TEMP'], bins)"
   ]
  },
  {
   "cell_type": "markdown",
   "metadata": {},
   "source": [
    "In the previous line, we created a variable *cat_ranges* and stored the discrete representation of the continuous temperature values. Then, all that remains is to display the new variable called *cat_ranges*. This is done with a simple **print(cat_ranges)**. We must remember that *cat_ranges* is a new variable and is not associated with our *dataframe* of meteorological data."
   ]
  },
  {
   "cell_type": "code",
   "execution_count": 7,
   "metadata": {},
   "outputs": [
    {
     "data": {
      "text/plain": [
       "0      (70, 80]\n",
       "1      (70, 80]\n",
       "2      (70, 80]\n",
       "3      (70, 80]\n",
       "4      (70, 80]\n",
       "         ...   \n",
       "229    (60, 70]\n",
       "230    (60, 70]\n",
       "231    (60, 70]\n",
       "232    (60, 70]\n",
       "233    (60, 70]\n",
       "Name: TEMP, Length: 234, dtype: category\n",
       "Categories (3, interval[int64, right]): [(50, 60] < (60, 70] < (70, 80]]"
      ]
     },
     "execution_count": 7,
     "metadata": {},
     "output_type": "execute_result"
    }
   ],
   "source": [
    "cat_ranges"
   ]
  },
  {
   "cell_type": "markdown",
   "metadata": {},
   "source": [
    "On the other hand, the **cut** function has two other parameters that might be useful: the first is **right=False**, which inverts the inclusive side, i.e., $(50-60]$ will be $[50-60)$. The cut method has also the **labels=['x','y','z']** parameter allowing us to add custom labels ('x','y','z') to our value ranges. In our example, this last parameter can be used as follows:"
   ]
  },
  {
   "cell_type": "code",
   "execution_count": 8,
   "metadata": {},
   "outputs": [],
   "source": [
    "cat_ranges = pd.cut(df[\"TEMP\"], bins, labels=['Temp 50-60','Temp 60-70','Temp 70-80'])"
   ]
  },
  {
   "cell_type": "markdown",
   "metadata": {},
   "source": [
    "Then, we can do a *print* again to see how our **bins** turned out."
   ]
  },
  {
   "cell_type": "code",
   "execution_count": 9,
   "metadata": {},
   "outputs": [
    {
     "data": {
      "text/plain": [
       "0      Temp 70-80\n",
       "1      Temp 70-80\n",
       "2      Temp 70-80\n",
       "3      Temp 70-80\n",
       "4      Temp 70-80\n",
       "          ...    \n",
       "229    Temp 60-70\n",
       "230    Temp 60-70\n",
       "231    Temp 60-70\n",
       "232    Temp 60-70\n",
       "233    Temp 60-70\n",
       "Name: TEMP, Length: 234, dtype: category\n",
       "Categories (3, object): ['Temp 50-60' < 'Temp 60-70' < 'Temp 70-80']"
      ]
     },
     "execution_count": 9,
     "metadata": {},
     "output_type": "execute_result"
    }
   ],
   "source": [
    "cat_ranges"
   ]
  },
  {
   "cell_type": "markdown",
   "metadata": {},
   "source": [
    "Finally, we can see the frequency distribution for each of our value intervals using the following statement **print(categories.value\\_counts())**"
   ]
  },
  {
   "cell_type": "code",
   "execution_count": 181,
   "metadata": {},
   "outputs": [
    {
     "name": "stdout",
     "output_type": "stream",
     "text": [
      "Temp 70-80    120\n",
      "Temp 60-70    106\n",
      "Temp 50-60      8\n",
      "Name: TEMP, dtype: int64\n"
     ]
    }
   ],
   "source": [
    "print(cat_ranges.value_counts())"
   ]
  },
  {
   "cell_type": "markdown",
   "metadata": {},
   "source": [
    "Now we will visualize the number of elements per *bins*"
   ]
  },
  {
   "cell_type": "code",
   "execution_count": 182,
   "metadata": {},
   "outputs": [
    {
     "data": {
      "image/png": "[encoded data removed]",
      "text/plain": [
       "<Figure size 640x480 with 1 Axes>"
      ]
     },
     "metadata": {},
     "output_type": "display_data"
    }
   ],
   "source": [
    "fig = plt.figure()\n",
    "ax = fig.add_axes([0,0,1,1]) # This line helps us to create 3 bars \n",
    "ax.bar(cat_ranges.value_counts().keys(),cat_ranges.value_counts())\n",
    "plt.show()\n",
    "\n"
   ]
  },
  {
   "cell_type": "markdown",
   "metadata": {},
   "source": [
    "## Discretization using equal frequencies"
   ]
  },
  {
   "cell_type": "markdown",
   "metadata": {},
   "source": [
    "As we can see from the results of the previous discretization technique, the number of instances per **bin** or class differs substantially. To have more homogeneous **bins** (in the number of instances per bin), we can use the \"equal frequency discretization\" technique. In Pandas, the function that does this job is **qcut**. Since the equal frequency technique separates the data into bins with the same number of instances per class, we do not need to build a **bins** vector as in the previous technique. The function only requires the column (or data) and the number of bins to be discretized. For example, we use the following expression to discretize the temperature into $3$ intervals using *equal frequencies*."
   ]
  },
  {
   "cell_type": "code",
   "execution_count": 183,
   "metadata": {},
   "outputs": [],
   "source": [
    "cat_freq = pd.qcut(df['TEMP'], 3)"
   ]
  },
  {
   "cell_type": "markdown",
   "metadata": {},
   "source": [
    "We can see which categories were built with the discretization thanks to the sentence *cat.categories*"
   ]
  },
  {
   "cell_type": "code",
   "execution_count": 184,
   "metadata": {},
   "outputs": [
    {
     "data": {
      "text/plain": [
       "IntervalIndex([(59.099000000000004, 64.4], (64.4, 73.3], (73.3, 78.2]], dtype='interval[float64, right]')"
      ]
     },
     "execution_count": 184,
     "metadata": {},
     "output_type": "execute_result"
    }
   ],
   "source": [
    "cat_freq.cat.categories"
   ]
  },
  {
   "cell_type": "markdown",
   "metadata": {},
   "source": [
    "For display purposes, we will rename the bin labels with letters *a*, *b*, and *c*."
   ]
  },
  {
   "cell_type": "code",
   "execution_count": 185,
   "metadata": {},
   "outputs": [],
   "source": [
    "cat_freq = cat_freq.cat.rename_categories(list(\"abc\"))"
   ]
  },
  {
   "cell_type": "markdown",
   "metadata": {},
   "source": [
    "To depict the frequency distribution for each *bin*, we use the statement **print(categories1.value\\_counts())**."
   ]
  },
  {
   "cell_type": "code",
   "execution_count": 186,
   "metadata": {},
   "outputs": [
    {
     "data": {
      "text/plain": [
       "a    79\n",
       "b    78\n",
       "c    77\n",
       "Name: TEMP, dtype: int64"
      ]
     },
     "execution_count": 186,
     "metadata": {},
     "output_type": "execute_result"
    }
   ],
   "source": [
    "cat_freq.value_counts()"
   ]
  },
  {
   "cell_type": "markdown",
   "metadata": {},
   "source": [
    "Now we will visualize the number of elements per *bins*"
   ]
  },
  {
   "cell_type": "code",
   "execution_count": 187,
   "metadata": {},
   "outputs": [
    {
     "data": {
      "image/png": "[encoded data removed]",
      "text/plain": [
       "<Figure size 640x480 with 1 Axes>"
      ]
     },
     "metadata": {},
     "output_type": "display_data"
    }
   ],
   "source": [
    "fig = plt.figure()\n",
    "ax = fig.add_axes([0,0,1,1])\n",
    "ax.bar(cat_freq.value_counts().keys().to_list(),cat_freq.value_counts())\n",
    "plt.show()"
   ]
  },
  {
   "cell_type": "markdown",
   "metadata": {},
   "source": [
    "### Exercise 2 (4 points)"
   ]
  },
  {
   "cell_type": "markdown",
   "metadata": {},
   "source": [
    "In previous blocks of code, we have studied two discretizing techniques: equal range and equal frequency discretization. We will now encapsulate these two techniques into a class. The class constructor should take two parameters: a list of numerical values and the number of bins *nbins*. It should also implement the two discretization techniques. It is important to note that, in previous examples of this lab, we post-process the result in order to show values and bins nicely, but in this case, our class should show standard results, i.e., the list of bins and the edges of the bins. \n",
    "\n",
    "In addition, a method to plot a frequency histogram should be implemented. This should take the list of bins and edges as parameters. To this aim, think of having a list of unique bins and their frequencies. Also, the list of bins might be transformed into a range of values, like [i, i+1]. In this manner, your code will capture and show the right bin edges. "
   ]
  },
  {
   "cell_type": "code",
   "execution_count": 188,
   "metadata": {},
   "outputs": [],
   "source": [
    "\n",
    "class Exercie2:\n",
    "    def __init__(self, num_values, nbins):\n",
    "        self.num_values = np.array(num_values)\n",
    "        self.nbins = nbins\n",
    "    \n",
    "    def equal_width(self):\n",
    "        \"\"\"\n",
    "        Technique 1 : Bins d'égale largeur (equal width discretization) avec pd.cut\n",
    "        \"\"\"\n",
    "        bins = np.linspace(self.num_values.min(), self.num_values.max(), self.nbins + 1)  # Créer les edges des bins\n",
    "        bin_categories = pd.cut(self.num_values, bins, labels=False, include_lowest=True)  # labels=False pour avoir les indices des bins et pas les bins eux-mêmes, include_lowest=True pour inclure la première edge\n",
    "        return bin_categories, bins\n",
    "    \n",
    "    def equal_frequency(self):\n",
    "        \"\"\"\n",
    "        Technique 2 : Bins d'égale fréquence (equal frequency discretization) avec pd.qcut\n",
    "        \"\"\"\n",
    "        bin_categories, bins = pd.qcut(self.num_values, self.nbins, labels=False, retbins=True) \n",
    "        return bin_categories, bins\n",
    "        \n",
    "    def plot_frequency(self, bin_indices, bins):\n",
    "        \"\"\"\n",
    "        Fonction pour tracer un histogramme des fréquences.\n",
    "        \"\"\"\n",
    "        unique, counts = np.unique(bin_indices, return_counts=True)\n",
    "        plt.bar(unique, counts, width=0.5, align='center')\n",
    "        plt.xticks(unique, [f'{bins[i]:.2f} - {bins[i+1]:.2f}' for i in range(len(bins) - 1)], rotation=45)\n",
    "        plt.xlabel('Bins')\n",
    "        plt.ylabel('Frequency')\n",
    "        plt.title('Histogram of Bins')\n",
    "        plt.tight_layout()\n",
    "        plt.show()\n",
    "\n",
    "\n"
   ]
  },
  {
   "cell_type": "code",
   "execution_count": 189,
   "metadata": {},
   "outputs": [],
   "source": [
    "# Test your class here\n",
    "\n",
    "'''\n",
    "data = [8, 2, 20, 4, 5, 17, 7, 8, 9, 9, 9, 12, 13, 14, 15, 16, 17, 18, 19, 20] and nbins = 4\n",
    "Your result should show something like\n",
    "equal_width = (array([1, 0, 3, 0, 0, 3, 1, 1, 1, 1, 1, 2, 2, 2, 2, 3, 3, 3, 3, 3]), array([ 1.982,  6.5  , 11.   , 15.5  , 20.   ]))\n",
    "equal_frequency = (array([0, 0, 3, 0, 0, 2, 0, 0, 1, 1, 1, 1, 2, 2, 2, 2, 2, 3, 3, 3]), array([ 2. ,  8. , 12.5, 17. , 20. ]))\n",
    "Note: My solution shows the list of the bins' values and the edges of each bin (in two different lists returned by the same function). \n",
    "Other possible solutions are possible, but the list containing the bins belonging to each value of the input list should be the same as my example.\n",
    "'''\n",
    "\n",
    "data = [8, 2, 20, 4, 5, 17, 7, 8, 9, 9, 9, 12, 13, 14, 15, 16, 17, 18, 19, 20]"
   ]
  },
  {
   "cell_type": "code",
   "execution_count": 190,
   "metadata": {},
   "outputs": [
    {
     "name": "stdout",
     "output_type": "stream",
     "text": [
      "Equal Width Discretization:\n",
      "Bins: [1 0 3 0 0 3 1 1 1 1 1 2 2 2 2 3 3 3 3 3]\n",
      "Edges: [ 2.   6.5 11.  15.5 20. ]\n",
      "\n"
     ]
    },
    {
     "data": {
      "image/png": "[encoded data removed]",
      "text/plain": [
       "<Figure size 640x480 with 1 Axes>"
      ]
     },
     "metadata": {},
     "output_type": "display_data"
    }
   ],
   "source": [
    "# Exemple d'utilisation\n",
    "nbins = 4\n",
    "ex = Exercie2(data, nbins)\n",
    "\n",
    "# Technique 1 : Bins d'égale largeur\n",
    "equal_width_bins, equal_width_edges = ex.equal_width()\n",
    "print(\"Equal Width Discretization:\")\n",
    "print(f\"Bins: {equal_width_bins}\")\n",
    "print(f\"Edges: {equal_width_edges}\\n\")\n",
    "\n",
    "# Tracer l'histogramme pour la technique 1\n",
    "ex.plot_frequency(equal_width_bins, equal_width_edges)\n"
   ]
  },
  {
   "cell_type": "code",
   "execution_count": 191,
   "metadata": {},
   "outputs": [
    {
     "name": "stdout",
     "output_type": "stream",
     "text": [
      "Equal Frequency Discretization:\n",
      "Bins: [0 0 3 0 0 2 0 0 1 1 1 1 2 2 2 2 2 3 3 3]\n",
      "Edges: [ 2.   8.  12.5 17.  20. ]\n",
      "\n"
     ]
    },
    {
     "data": {
      "image/png": "[encoded data removed]",
      "text/plain": [
       "<Figure size 640x480 with 1 Axes>"
      ]
     },
     "metadata": {},
     "output_type": "display_data"
    }
   ],
   "source": [
    "# Technique 2 : Bins d'égale fréquence\n",
    "equal_freq_bins, equal_freq_edges = ex.equal_frequency()\n",
    "print(\"Equal Frequency Discretization:\")\n",
    "print(f\"Bins: {equal_freq_bins}\")\n",
    "print(f\"Edges: {equal_freq_edges}\\n\")\n",
    "\n",
    "ex.plot_frequency(equal_freq_bins, equal_freq_edges)"
   ]
  },
  {
   "cell_type": "markdown",
   "metadata": {},
   "source": [
    "## Outlier detection"
   ]
  },
  {
   "cell_type": "markdown",
   "metadata": {},
   "source": [
    "Outlier detection is a crucial aspect of data analytics, as it helps identify observations that significantly deviate from the expected patterns in a dataset. These outliers may result from data entry errors, measurement noise, or reflect rare but important events. In analytics, detecting and handling outliers is essential for improving data quality, as outliers can distort statistical measures like the mean and standard deviation, leading to misleading insights.\n",
    "Outliers can negatively impact machine learning models by skewing the results, so addressing them ensures a more reliable and accurate analysis. In some cases, outliers indicate critical events, such as fraud or system malfunctions, making their detection vital for decision-making and problem-solving. In this section, we will study different ways to detect outliers with Python and some of its libraries."
   ]
  },
  {
   "cell_type": "markdown",
   "metadata": {},
   "source": [
    "### Exercise 3 (2 point)"
   ]
  },
  {
   "cell_type": "markdown",
   "metadata": {},
   "source": [
    "Take your lab 2 code related to the Normalization class implementation. Transform it into a **.py** file (e.g., *Normalization.py*). Store it in a new directory (e.g., P4DA). This new directory will used as a module in Python. Having our module P4DA and inside a class Normalization, we can import our class using the sentence **from MODULE import CLASS**. "
   ]
  },
  {
   "cell_type": "code",
   "execution_count": 192,
   "metadata": {},
   "outputs": [],
   "source": [
    "# Your class was imported correctly if the following like runs without errors\n",
    "from P4DA import normalization as mynor"
   ]
  },
  {
   "cell_type": "code",
   "execution_count": 193,
   "metadata": {},
   "outputs": [
    {
     "name": "stdout",
     "output_type": "stream",
     "text": [
      "My list : [4, 5, 6, 2, 10]\n",
      "[0.25, 0.375, 0.5, 0.0, 1.0]\n",
      "[-0.472, -0.135, 0.202, -1.146, 1.551]\n"
     ]
    }
   ],
   "source": [
    "#test voir si ça c'est bien importé\n",
    "\n",
    "L = [4,5,6,2,10]\n",
    "\n",
    "norm = mynor.Normalization(L)\n",
    "\n",
    "print(norm.display_list())\n",
    "print(norm.methode_min_max())\n",
    "print(norm.methode_z_score())"
   ]
  },
  {
   "cell_type": "markdown",
   "metadata": {},
   "source": [
    "### Exercise 4 (1/2 point)"
   ]
  },
  {
   "cell_type": "markdown",
   "metadata": {},
   "source": [
    "Once your class Normalization has been imported, it is time to recover the CSV file. The dataset used in this lab was provided by the USA Forensic Science Service, which studies the classification of types of glass in a criminological investigation. It contains 214 instances and 9 features. The complete information about the dataset is available at https://archive.ics.uci.edu/dataset/42/glass+identification."
   ]
  },
  {
   "cell_type": "code",
   "execution_count": 194,
   "metadata": {},
   "outputs": [
    {
     "data": {
      "text/html": [
       "<div>\n",
       "<style scoped>\n",
       "    .dataframe tbody tr th:only-of-type {\n",
       "        vertical-align: middle;\n",
       "    }\n",
       "\n",
       "    .dataframe tbody tr th {\n",
       "        vertical-align: top;\n",
       "    }\n",
       "\n",
       "    .dataframe thead th {\n",
       "        text-align: right;\n",
       "    }\n",
       "</style>\n",
       "<table border=\"1\" class=\"dataframe\">\n",
       "  <thead>\n",
       "    <tr style=\"text-align: right;\">\n",
       "      <th></th>\n",
       "      <th>Id number</th>\n",
       "      <th>RI</th>\n",
       "      <th>Mg</th>\n",
       "      <th>Al</th>\n",
       "      <th>Si</th>\n",
       "      <th>K_Pota</th>\n",
       "      <th>Ca</th>\n",
       "      <th>Ba</th>\n",
       "      <th>Fe</th>\n",
       "      <th>iron</th>\n",
       "      <th>glass_type</th>\n",
       "    </tr>\n",
       "  </thead>\n",
       "  <tbody>\n",
       "    <tr>\n",
       "      <th>0</th>\n",
       "      <td>1</td>\n",
       "      <td>1.52101</td>\n",
       "      <td>13.64</td>\n",
       "      <td>4.49</td>\n",
       "      <td>1.10</td>\n",
       "      <td>71.78</td>\n",
       "      <td>0.06</td>\n",
       "      <td>8.75</td>\n",
       "      <td>0.00</td>\n",
       "      <td>0.0</td>\n",
       "      <td>1</td>\n",
       "    </tr>\n",
       "    <tr>\n",
       "      <th>1</th>\n",
       "      <td>2</td>\n",
       "      <td>1.51761</td>\n",
       "      <td>13.89</td>\n",
       "      <td>3.60</td>\n",
       "      <td>1.36</td>\n",
       "      <td>72.73</td>\n",
       "      <td>0.48</td>\n",
       "      <td>7.83</td>\n",
       "      <td>0.00</td>\n",
       "      <td>0.0</td>\n",
       "      <td>1</td>\n",
       "    </tr>\n",
       "    <tr>\n",
       "      <th>2</th>\n",
       "      <td>3</td>\n",
       "      <td>1.51618</td>\n",
       "      <td>13.53</td>\n",
       "      <td>3.55</td>\n",
       "      <td>1.54</td>\n",
       "      <td>72.99</td>\n",
       "      <td>0.39</td>\n",
       "      <td>7.78</td>\n",
       "      <td>0.00</td>\n",
       "      <td>0.0</td>\n",
       "      <td>1</td>\n",
       "    </tr>\n",
       "    <tr>\n",
       "      <th>3</th>\n",
       "      <td>4</td>\n",
       "      <td>1.51766</td>\n",
       "      <td>13.21</td>\n",
       "      <td>3.69</td>\n",
       "      <td>1.29</td>\n",
       "      <td>72.61</td>\n",
       "      <td>0.57</td>\n",
       "      <td>8.22</td>\n",
       "      <td>0.00</td>\n",
       "      <td>0.0</td>\n",
       "      <td>1</td>\n",
       "    </tr>\n",
       "    <tr>\n",
       "      <th>4</th>\n",
       "      <td>5</td>\n",
       "      <td>1.51742</td>\n",
       "      <td>13.27</td>\n",
       "      <td>3.62</td>\n",
       "      <td>1.24</td>\n",
       "      <td>73.08</td>\n",
       "      <td>0.55</td>\n",
       "      <td>8.07</td>\n",
       "      <td>0.00</td>\n",
       "      <td>0.0</td>\n",
       "      <td>1</td>\n",
       "    </tr>\n",
       "    <tr>\n",
       "      <th>...</th>\n",
       "      <td>...</td>\n",
       "      <td>...</td>\n",
       "      <td>...</td>\n",
       "      <td>...</td>\n",
       "      <td>...</td>\n",
       "      <td>...</td>\n",
       "      <td>...</td>\n",
       "      <td>...</td>\n",
       "      <td>...</td>\n",
       "      <td>...</td>\n",
       "      <td>...</td>\n",
       "    </tr>\n",
       "    <tr>\n",
       "      <th>209</th>\n",
       "      <td>210</td>\n",
       "      <td>1.51623</td>\n",
       "      <td>14.14</td>\n",
       "      <td>0.00</td>\n",
       "      <td>2.88</td>\n",
       "      <td>72.61</td>\n",
       "      <td>0.08</td>\n",
       "      <td>9.18</td>\n",
       "      <td>1.06</td>\n",
       "      <td>0.0</td>\n",
       "      <td>7</td>\n",
       "    </tr>\n",
       "    <tr>\n",
       "      <th>210</th>\n",
       "      <td>211</td>\n",
       "      <td>1.51685</td>\n",
       "      <td>14.92</td>\n",
       "      <td>0.00</td>\n",
       "      <td>1.99</td>\n",
       "      <td>73.06</td>\n",
       "      <td>0.00</td>\n",
       "      <td>8.40</td>\n",
       "      <td>1.59</td>\n",
       "      <td>0.0</td>\n",
       "      <td>7</td>\n",
       "    </tr>\n",
       "    <tr>\n",
       "      <th>211</th>\n",
       "      <td>212</td>\n",
       "      <td>1.52065</td>\n",
       "      <td>14.36</td>\n",
       "      <td>0.00</td>\n",
       "      <td>2.02</td>\n",
       "      <td>73.42</td>\n",
       "      <td>0.00</td>\n",
       "      <td>8.44</td>\n",
       "      <td>1.64</td>\n",
       "      <td>0.0</td>\n",
       "      <td>7</td>\n",
       "    </tr>\n",
       "    <tr>\n",
       "      <th>212</th>\n",
       "      <td>213</td>\n",
       "      <td>1.51651</td>\n",
       "      <td>14.38</td>\n",
       "      <td>0.00</td>\n",
       "      <td>1.94</td>\n",
       "      <td>73.61</td>\n",
       "      <td>0.00</td>\n",
       "      <td>8.48</td>\n",
       "      <td>1.57</td>\n",
       "      <td>0.0</td>\n",
       "      <td>7</td>\n",
       "    </tr>\n",
       "    <tr>\n",
       "      <th>213</th>\n",
       "      <td>214</td>\n",
       "      <td>1.51711</td>\n",
       "      <td>14.23</td>\n",
       "      <td>0.00</td>\n",
       "      <td>2.08</td>\n",
       "      <td>73.36</td>\n",
       "      <td>0.00</td>\n",
       "      <td>8.62</td>\n",
       "      <td>1.67</td>\n",
       "      <td>0.0</td>\n",
       "      <td>7</td>\n",
       "    </tr>\n",
       "  </tbody>\n",
       "</table>\n",
       "<p>214 rows × 11 columns</p>\n",
       "</div>"
      ],
      "text/plain": [
       "     Id number       RI     Mg    Al    Si  K_Pota    Ca    Ba    Fe  iron  \\\n",
       "0            1  1.52101  13.64  4.49  1.10   71.78  0.06  8.75  0.00   0.0   \n",
       "1            2  1.51761  13.89  3.60  1.36   72.73  0.48  7.83  0.00   0.0   \n",
       "2            3  1.51618  13.53  3.55  1.54   72.99  0.39  7.78  0.00   0.0   \n",
       "3            4  1.51766  13.21  3.69  1.29   72.61  0.57  8.22  0.00   0.0   \n",
       "4            5  1.51742  13.27  3.62  1.24   73.08  0.55  8.07  0.00   0.0   \n",
       "..         ...      ...    ...   ...   ...     ...   ...   ...   ...   ...   \n",
       "209        210  1.51623  14.14  0.00  2.88   72.61  0.08  9.18  1.06   0.0   \n",
       "210        211  1.51685  14.92  0.00  1.99   73.06  0.00  8.40  1.59   0.0   \n",
       "211        212  1.52065  14.36  0.00  2.02   73.42  0.00  8.44  1.64   0.0   \n",
       "212        213  1.51651  14.38  0.00  1.94   73.61  0.00  8.48  1.57   0.0   \n",
       "213        214  1.51711  14.23  0.00  2.08   73.36  0.00  8.62  1.67   0.0   \n",
       "\n",
       "     glass_type  \n",
       "0             1  \n",
       "1             1  \n",
       "2             1  \n",
       "3             1  \n",
       "4             1  \n",
       "..          ...  \n",
       "209           7  \n",
       "210           7  \n",
       "211           7  \n",
       "212           7  \n",
       "213           7  \n",
       "\n",
       "[214 rows x 11 columns]"
      ]
     },
     "execution_count": 194,
     "metadata": {},
     "output_type": "execute_result"
    }
   ],
   "source": [
    "df_glass = pd.read_csv(\"df_glass.csv\")\n",
    "df_glass\n"
   ]
  },
  {
   "cell_type": "code",
   "execution_count": 195,
   "metadata": {},
   "outputs": [
    {
     "data": {
      "text/html": [
       "<div>\n",
       "<style scoped>\n",
       "    .dataframe tbody tr th:only-of-type {\n",
       "        vertical-align: middle;\n",
       "    }\n",
       "\n",
       "    .dataframe tbody tr th {\n",
       "        vertical-align: top;\n",
       "    }\n",
       "\n",
       "    .dataframe thead th {\n",
       "        text-align: right;\n",
       "    }\n",
       "</style>\n",
       "<table border=\"1\" class=\"dataframe\">\n",
       "  <thead>\n",
       "    <tr style=\"text-align: right;\">\n",
       "      <th></th>\n",
       "      <th>RI</th>\n",
       "      <th>Mg</th>\n",
       "      <th>Al</th>\n",
       "      <th>Si</th>\n",
       "      <th>K_Pota</th>\n",
       "      <th>Ca</th>\n",
       "      <th>Ba</th>\n",
       "      <th>Fe</th>\n",
       "      <th>iron</th>\n",
       "      <th>glass_type</th>\n",
       "    </tr>\n",
       "  </thead>\n",
       "  <tbody>\n",
       "    <tr>\n",
       "      <th>0</th>\n",
       "      <td>1.52101</td>\n",
       "      <td>13.64</td>\n",
       "      <td>4.49</td>\n",
       "      <td>1.10</td>\n",
       "      <td>71.78</td>\n",
       "      <td>0.06</td>\n",
       "      <td>8.75</td>\n",
       "      <td>0.00</td>\n",
       "      <td>0.0</td>\n",
       "      <td>1</td>\n",
       "    </tr>\n",
       "    <tr>\n",
       "      <th>1</th>\n",
       "      <td>1.51761</td>\n",
       "      <td>13.89</td>\n",
       "      <td>3.60</td>\n",
       "      <td>1.36</td>\n",
       "      <td>72.73</td>\n",
       "      <td>0.48</td>\n",
       "      <td>7.83</td>\n",
       "      <td>0.00</td>\n",
       "      <td>0.0</td>\n",
       "      <td>1</td>\n",
       "    </tr>\n",
       "    <tr>\n",
       "      <th>2</th>\n",
       "      <td>1.51618</td>\n",
       "      <td>13.53</td>\n",
       "      <td>3.55</td>\n",
       "      <td>1.54</td>\n",
       "      <td>72.99</td>\n",
       "      <td>0.39</td>\n",
       "      <td>7.78</td>\n",
       "      <td>0.00</td>\n",
       "      <td>0.0</td>\n",
       "      <td>1</td>\n",
       "    </tr>\n",
       "    <tr>\n",
       "      <th>3</th>\n",
       "      <td>1.51766</td>\n",
       "      <td>13.21</td>\n",
       "      <td>3.69</td>\n",
       "      <td>1.29</td>\n",
       "      <td>72.61</td>\n",
       "      <td>0.57</td>\n",
       "      <td>8.22</td>\n",
       "      <td>0.00</td>\n",
       "      <td>0.0</td>\n",
       "      <td>1</td>\n",
       "    </tr>\n",
       "    <tr>\n",
       "      <th>4</th>\n",
       "      <td>1.51742</td>\n",
       "      <td>13.27</td>\n",
       "      <td>3.62</td>\n",
       "      <td>1.24</td>\n",
       "      <td>73.08</td>\n",
       "      <td>0.55</td>\n",
       "      <td>8.07</td>\n",
       "      <td>0.00</td>\n",
       "      <td>0.0</td>\n",
       "      <td>1</td>\n",
       "    </tr>\n",
       "    <tr>\n",
       "      <th>...</th>\n",
       "      <td>...</td>\n",
       "      <td>...</td>\n",
       "      <td>...</td>\n",
       "      <td>...</td>\n",
       "      <td>...</td>\n",
       "      <td>...</td>\n",
       "      <td>...</td>\n",
       "      <td>...</td>\n",
       "      <td>...</td>\n",
       "      <td>...</td>\n",
       "    </tr>\n",
       "    <tr>\n",
       "      <th>209</th>\n",
       "      <td>1.51623</td>\n",
       "      <td>14.14</td>\n",
       "      <td>0.00</td>\n",
       "      <td>2.88</td>\n",
       "      <td>72.61</td>\n",
       "      <td>0.08</td>\n",
       "      <td>9.18</td>\n",
       "      <td>1.06</td>\n",
       "      <td>0.0</td>\n",
       "      <td>7</td>\n",
       "    </tr>\n",
       "    <tr>\n",
       "      <th>210</th>\n",
       "      <td>1.51685</td>\n",
       "      <td>14.92</td>\n",
       "      <td>0.00</td>\n",
       "      <td>1.99</td>\n",
       "      <td>73.06</td>\n",
       "      <td>0.00</td>\n",
       "      <td>8.40</td>\n",
       "      <td>1.59</td>\n",
       "      <td>0.0</td>\n",
       "      <td>7</td>\n",
       "    </tr>\n",
       "    <tr>\n",
       "      <th>211</th>\n",
       "      <td>1.52065</td>\n",
       "      <td>14.36</td>\n",
       "      <td>0.00</td>\n",
       "      <td>2.02</td>\n",
       "      <td>73.42</td>\n",
       "      <td>0.00</td>\n",
       "      <td>8.44</td>\n",
       "      <td>1.64</td>\n",
       "      <td>0.0</td>\n",
       "      <td>7</td>\n",
       "    </tr>\n",
       "    <tr>\n",
       "      <th>212</th>\n",
       "      <td>1.51651</td>\n",
       "      <td>14.38</td>\n",
       "      <td>0.00</td>\n",
       "      <td>1.94</td>\n",
       "      <td>73.61</td>\n",
       "      <td>0.00</td>\n",
       "      <td>8.48</td>\n",
       "      <td>1.57</td>\n",
       "      <td>0.0</td>\n",
       "      <td>7</td>\n",
       "    </tr>\n",
       "    <tr>\n",
       "      <th>213</th>\n",
       "      <td>1.51711</td>\n",
       "      <td>14.23</td>\n",
       "      <td>0.00</td>\n",
       "      <td>2.08</td>\n",
       "      <td>73.36</td>\n",
       "      <td>0.00</td>\n",
       "      <td>8.62</td>\n",
       "      <td>1.67</td>\n",
       "      <td>0.0</td>\n",
       "      <td>7</td>\n",
       "    </tr>\n",
       "  </tbody>\n",
       "</table>\n",
       "<p>214 rows × 10 columns</p>\n",
       "</div>"
      ],
      "text/plain": [
       "          RI     Mg    Al    Si  K_Pota    Ca    Ba    Fe  iron  glass_type\n",
       "0    1.52101  13.64  4.49  1.10   71.78  0.06  8.75  0.00   0.0           1\n",
       "1    1.51761  13.89  3.60  1.36   72.73  0.48  7.83  0.00   0.0           1\n",
       "2    1.51618  13.53  3.55  1.54   72.99  0.39  7.78  0.00   0.0           1\n",
       "3    1.51766  13.21  3.69  1.29   72.61  0.57  8.22  0.00   0.0           1\n",
       "4    1.51742  13.27  3.62  1.24   73.08  0.55  8.07  0.00   0.0           1\n",
       "..       ...    ...   ...   ...     ...   ...   ...   ...   ...         ...\n",
       "209  1.51623  14.14  0.00  2.88   72.61  0.08  9.18  1.06   0.0           7\n",
       "210  1.51685  14.92  0.00  1.99   73.06  0.00  8.40  1.59   0.0           7\n",
       "211  1.52065  14.36  0.00  2.02   73.42  0.00  8.44  1.64   0.0           7\n",
       "212  1.51651  14.38  0.00  1.94   73.61  0.00  8.48  1.57   0.0           7\n",
       "213  1.51711  14.23  0.00  2.08   73.36  0.00  8.62  1.67   0.0           7\n",
       "\n",
       "[214 rows x 10 columns]"
      ]
     },
     "execution_count": 195,
     "metadata": {},
     "output_type": "execute_result"
    }
   ],
   "source": [
    "df_glass.drop('Id number', axis=1, inplace=True) # ne sert à rien car deja les index\n",
    "df_glass"
   ]
  },
  {
   "cell_type": "code",
   "execution_count": 196,
   "metadata": {},
   "outputs": [
    {
     "data": {
      "text/plain": [
       " RI           float64\n",
       "Mg            float64\n",
       "Al            float64\n",
       "Si            float64\n",
       "K_Pota        float64\n",
       "Ca            float64\n",
       "Ba            float64\n",
       "Fe            float64\n",
       "iron          float64\n",
       "glass_type      int64\n",
       "dtype: object"
      ]
     },
     "execution_count": 196,
     "metadata": {},
     "output_type": "execute_result"
    }
   ],
   "source": [
    "df_glass.dtypes"
   ]
  },
  {
   "cell_type": "code",
   "execution_count": 197,
   "metadata": {},
   "outputs": [
    {
     "data": {
      "text/plain": [
       " RI           0\n",
       "Mg            0\n",
       "Al            0\n",
       "Si            0\n",
       "K_Pota        0\n",
       "Ca            0\n",
       "Ba            0\n",
       "Fe            0\n",
       "iron          0\n",
       "glass_type    0\n",
       "dtype: int64"
      ]
     },
     "execution_count": 197,
     "metadata": {},
     "output_type": "execute_result"
    }
   ],
   "source": [
    "df_glass.isnull().sum()"
   ]
  },
  {
   "cell_type": "markdown",
   "metadata": {},
   "source": [
    "### Exercise 5 (4 points)"
   ]
  },
  {
   "cell_type": "markdown",
   "metadata": {},
   "source": [
    "Now, it is time to detect outliers from a complete dataset. Then, write a function that automatically detects outliers for each dataframe column. Obviously, features with discrete, ordinal, or binary datatypes will be avoided. The input of this function should be a dataframe, and the function selects the numerical features and analyzes them with the z-score normalization method of our Normalization class. One important thing is that we need a threshold for detecting the outliers. Indeed, for extracting outliers from a list, first, we transform their values using the z-score normalization; later, we compare the abs() of each value with a threshold. In this exercise, let us fix this threshold in 3."
   ]
  },
  {
   "cell_type": "code",
   "execution_count": 198,
   "metadata": {},
   "outputs": [],
   "source": [
    "def detect_outliers(df):\n",
    "\n",
    "    seuil = 3  # Seuil de l'énoncé\n",
    "    outliers = {}\n",
    "\n",
    "    # Sélectionner les colonnes numériques du dataframe\n",
    "    numeric_columns = df.select_dtypes(include=['float64', 'int64']).columns\n",
    "\n",
    "    for column in numeric_columns:\n",
    "        # On appliquer la méthode Z-score sur la colonne\n",
    "        normalizer = mynor.Normalization(df[column].tolist())\n",
    "        z_scores = normalizer.methode_z_score()\n",
    "\n",
    "        # on stock pour chaque colonne leur outliers\n",
    "        for i in range(len(z_scores)):\n",
    "            if abs(z_scores[i]) > seuil:\n",
    "                if column not in outliers:\n",
    "                    outliers[column] = []\n",
    "                outliers[column].append(z_scores[i])\n",
    "\n",
    "\n",
    "        # on aurait pu faire cette methode pour simplifier la boucle ci-dessus : \n",
    "        \n",
    "        # outliers[column] = [z_scores[i] for i in range(len(z_scores)) if abs(z_scores[i]) > seuil]\n",
    "    \n",
    "    return outliers"
   ]
  },
  {
   "cell_type": "code",
   "execution_count": 199,
   "metadata": {},
   "outputs": [
    {
     "name": "stdout",
     "output_type": "stream",
     "text": [
      "{' RI': [4.243, 5.125, 3.097], 'Mg': [-3.279, 4.864], 'Si': [4.116, 3.195, 3.155], 'K_Pota': [-3.668, -3.216, -3.565, 3.562, -3.087, 3.265], 'Ca': [8.76, 8.76, 3.378], 'Ba': [3.01, 3.052, 5.082, 4.021, 4.218, 3.825, 3.15], 'Fe': [5.983, 4.073, 3.027, 3.087, 5.44, 3.007], 'iron': [3.007, 3.212, 4.649]}\n"
     ]
    },
    {
     "data": {
      "text/plain": [
       "\"\\nYour answer should be the following (if you are storing the outlies as a dictionary of lists)\\n{'Id number': [], ' RI': [4.252673357413172, 5.137231883487097, 3.1040675101231807], \\n'Mg': [-3.2869427542411156, 4.875637487898511], 'Al': [], 'Si': [4.125850610450435, 3.2023445414339937, 3.16219210365067], \\n'K_Pota': [-3.676471617584673, -3.223534378034229, -3.572943105687429, 3.5705242152225387, -3.0941237381626605, 3.2728797435179695], \\n'Ca': [8.780144872002806, 8.780144872002806, 3.3856741920775777], \\n'Ba': [3.01659640155971, 3.0588551464412, 5.094318024899604, 4.030806278715454, 4.228013754829072, 3.8335988026018377, 3.1574588844980074], \\n'Fe': [5.997210462947946, 4.082104771949395, 3.0338363937186092, 3.094313415539616, 5.452917266558884, 3.0136773864449404], \\n'iron': [3.0139730766299326, 3.219711589675804, 4.659881180996901], 'glass_type': []}\\n\""
      ]
     },
     "execution_count": 199,
     "metadata": {},
     "output_type": "execute_result"
    }
   ],
   "source": [
    "outliers = detect_outliers(df_glass)\n",
    "print(outliers)\n",
    "\n",
    "\n",
    "'''\n",
    "Your answer should be the following (if you are storing the outlies as a dictionary of lists)\n",
    "{'Id number': [], ' RI': [4.252673357413172, 5.137231883487097, 3.1040675101231807], \n",
    "'Mg': [-3.2869427542411156, 4.875637487898511], 'Al': [], 'Si': [4.125850610450435, 3.2023445414339937, 3.16219210365067], \n",
    "'K_Pota': [-3.676471617584673, -3.223534378034229, -3.572943105687429, 3.5705242152225387, -3.0941237381626605, 3.2728797435179695], \n",
    "'Ca': [8.780144872002806, 8.780144872002806, 3.3856741920775777], \n",
    "'Ba': [3.01659640155971, 3.0588551464412, 5.094318024899604, 4.030806278715454, 4.228013754829072, 3.8335988026018377, 3.1574588844980074], \n",
    "'Fe': [5.997210462947946, 4.082104771949395, 3.0338363937186092, 3.094313415539616, 5.452917266558884, 3.0136773864449404], \n",
    "'iron': [3.0139730766299326, 3.219711589675804, 4.659881180996901], 'glass_type': []}\n",
    "'''\n",
    "\n"
   ]
  },
  {
   "cell_type": "markdown",
   "metadata": {},
   "source": [
    "### Les resultats sont correct, je les est seulement arrondie à 3 chiffres après la virgule"
   ]
  },
  {
   "cell_type": "markdown",
   "metadata": {},
   "source": [
    "### Using a modified Z-Score transformation for outlier detection "
   ]
  },
  {
   "cell_type": "markdown",
   "metadata": {},
   "source": [
    "When data are skewed or not normally distributed, the modified z-score, also known as the MAD-Z-Score, offers a simple yet effective solution. Unlike the z-score, it uses the median and the median absolute deviation (MAD) instead of the mean and standard deviation, making it easier to understand and apply while avoiding the effect of outliers on the latter two measures.\n",
    "\n",
    "Therefore, the modified z-score measures how far a value is from the median in terms of the median absolute deviation. In other words, it tells us how many median absolute deviations, or MADs, a data point is from the median of the distribution.\n",
    "\n",
    "In this context, a threshold of 3.5 is often used to consider a data point to be an outlier (Hoaglin, D.C. (2013). Volume 16: How to Detect and Handle Outliers). The equation to compute the modified Z-Score normalization is the following.\n",
    "\n",
    "$$\n",
    "M_i = \\frac{0.6745 \\times (x_i-mediana)}{MAD}\n",
    "$$"
   ]
  },
  {
   "cell_type": "markdown",
   "metadata": {},
   "source": [
    "### Exercise 6 (2 points)"
   ]
  },
  {
   "cell_type": "markdown",
   "metadata": {},
   "source": [
    "Write a function that uses as an imput a list and returs the list of outliers from this list. The method used by identifying the outlier is the modified Z-Score abobe described."
   ]
  },
  {
   "cell_type": "code",
   "execution_count": 200,
   "metadata": {},
   "outputs": [
    {
     "data": {
      "text/plain": [
       "'\\ndata = [1, 2, 2, 2, 3, 3, 10, 12, 12, 14, 15, 100]\\nOutliers: [100]\\n'"
      ]
     },
     "execution_count": 200,
     "metadata": {},
     "output_type": "execute_result"
    }
   ],
   "source": [
    "def methode_z_score_MAD(L):\n",
    "        \n",
    "        L_normalized = L.copy()\n",
    "\n",
    "        mediane = np.median(L)\n",
    "\n",
    "        for i in range(len(L)):\n",
    "            L_normalized[i] = 0.6745 * ((L[i] - mediane) / np.median(np.abs(L - mediane)))\n",
    "        \n",
    "        return L_normalized\n",
    "\n",
    "\n",
    "def detect_outliers_MAD(L):\n",
    "\n",
    "    seuil = 3.5  # Seuil de l'énoncé\n",
    "    outliers = []\n",
    "\n",
    "    L_normalized = methode_z_score_MAD(L)\n",
    "\n",
    "    for i in range(len(L_normalized)):\n",
    "        if abs(L_normalized[i]) > seuil:\n",
    "            outliers.append(L[i])\n",
    "\n",
    "    \n",
    "    return outliers\n",
    "'''\n",
    "data = [1, 2, 2, 2, 3, 3, 10, 12, 12, 14, 15, 100]\n",
    "Outliers: [100]\n",
    "'''\n"
   ]
  },
  {
   "cell_type": "code",
   "execution_count": 201,
   "metadata": {},
   "outputs": [
    {
     "name": "stdout",
     "output_type": "stream",
     "text": [
      "Données outliers : [100]\n"
     ]
    }
   ],
   "source": [
    "# Test your code here\n",
    "\n",
    "data = [1, 2, 2, 2, 3, 3, 10, 12, 12, 14, 15, 100]\n",
    "\n",
    "print(f\"Données outliers : {detect_outliers_MAD(data)}\")"
   ]
  },
  {
   "cell_type": "markdown",
   "metadata": {},
   "source": [
    "## Missing data"
   ]
  },
  {
   "cell_type": "markdown",
   "metadata": {},
   "source": [
    "Another topic studied in the main course is the imputation of missing data in a dataset. There are several techniques, even very sophisticated ones. In this lab, we use the median to replace missing values ​​in our data frame. For example, we will create a data frame with the height (in meters) of 10 individuals. Now, we add missing values ​​to our data frame of weights. For this, we use the Numpy library. The following lines do that."
   ]
  },
  {
   "cell_type": "code",
   "execution_count": 202,
   "metadata": {},
   "outputs": [
    {
     "name": "stderr",
     "output_type": "stream",
     "text": [
      "C:\\Users\\guill\\AppData\\Local\\Temp\\ipykernel_34836\\3680225292.py:5: FutureWarning: The frame.append method is deprecated and will be removed from pandas in a future version. Use pandas.concat instead.\n",
      "  df1 = df1.append(series, ignore_index=True)\n"
     ]
    }
   ],
   "source": [
    "df1 = pd.DataFrame()\n",
    "df1['weight'] = [1.589491718, 1.650781882, 1.713147405, 1.713566229, 1.721236971, 1.729617843, 1.734294905, 1.766343383,\n",
    "               1.801768905, 1.839402089, 1.886878334, 1.935731523, 1.948178893, 2.10379666, 22.81353]\n",
    "series = pd.Series([np.nan], index = [\"weight\"])\n",
    "df1 = df1.append(series, ignore_index=True)"
   ]
  },
  {
   "cell_type": "code",
   "execution_count": 203,
   "metadata": {},
   "outputs": [
    {
     "data": {
      "text/html": [
       "<div>\n",
       "<style scoped>\n",
       "    .dataframe tbody tr th:only-of-type {\n",
       "        vertical-align: middle;\n",
       "    }\n",
       "\n",
       "    .dataframe tbody tr th {\n",
       "        vertical-align: top;\n",
       "    }\n",
       "\n",
       "    .dataframe thead th {\n",
       "        text-align: right;\n",
       "    }\n",
       "</style>\n",
       "<table border=\"1\" class=\"dataframe\">\n",
       "  <thead>\n",
       "    <tr style=\"text-align: right;\">\n",
       "      <th></th>\n",
       "      <th>weight</th>\n",
       "    </tr>\n",
       "  </thead>\n",
       "  <tbody>\n",
       "    <tr>\n",
       "      <th>0</th>\n",
       "      <td>1.589492</td>\n",
       "    </tr>\n",
       "    <tr>\n",
       "      <th>1</th>\n",
       "      <td>1.650782</td>\n",
       "    </tr>\n",
       "    <tr>\n",
       "      <th>2</th>\n",
       "      <td>1.713147</td>\n",
       "    </tr>\n",
       "    <tr>\n",
       "      <th>3</th>\n",
       "      <td>1.713566</td>\n",
       "    </tr>\n",
       "    <tr>\n",
       "      <th>4</th>\n",
       "      <td>1.721237</td>\n",
       "    </tr>\n",
       "    <tr>\n",
       "      <th>5</th>\n",
       "      <td>1.729618</td>\n",
       "    </tr>\n",
       "    <tr>\n",
       "      <th>6</th>\n",
       "      <td>1.734295</td>\n",
       "    </tr>\n",
       "    <tr>\n",
       "      <th>7</th>\n",
       "      <td>1.766343</td>\n",
       "    </tr>\n",
       "    <tr>\n",
       "      <th>8</th>\n",
       "      <td>1.801769</td>\n",
       "    </tr>\n",
       "    <tr>\n",
       "      <th>9</th>\n",
       "      <td>1.839402</td>\n",
       "    </tr>\n",
       "    <tr>\n",
       "      <th>10</th>\n",
       "      <td>1.886878</td>\n",
       "    </tr>\n",
       "    <tr>\n",
       "      <th>11</th>\n",
       "      <td>1.935732</td>\n",
       "    </tr>\n",
       "    <tr>\n",
       "      <th>12</th>\n",
       "      <td>1.948179</td>\n",
       "    </tr>\n",
       "    <tr>\n",
       "      <th>13</th>\n",
       "      <td>2.103797</td>\n",
       "    </tr>\n",
       "    <tr>\n",
       "      <th>14</th>\n",
       "      <td>22.813530</td>\n",
       "    </tr>\n",
       "    <tr>\n",
       "      <th>15</th>\n",
       "      <td>NaN</td>\n",
       "    </tr>\n",
       "  </tbody>\n",
       "</table>\n",
       "</div>"
      ],
      "text/plain": [
       "       weight\n",
       "0    1.589492\n",
       "1    1.650782\n",
       "2    1.713147\n",
       "3    1.713566\n",
       "4    1.721237\n",
       "5    1.729618\n",
       "6    1.734295\n",
       "7    1.766343\n",
       "8    1.801769\n",
       "9    1.839402\n",
       "10   1.886878\n",
       "11   1.935732\n",
       "12   1.948179\n",
       "13   2.103797\n",
       "14  22.813530\n",
       "15        NaN"
      ]
     },
     "execution_count": 203,
     "metadata": {},
     "output_type": "execute_result"
    }
   ],
   "source": [
    "df1"
   ]
  },
  {
   "cell_type": "markdown",
   "metadata": {},
   "source": [
    "We then tell Pandas to fill the missing values ​​(represented by Nan) with the mean."
   ]
  },
  {
   "cell_type": "code",
   "execution_count": 204,
   "metadata": {},
   "outputs": [
    {
     "data": {
      "text/html": [
       "<div>\n",
       "<style scoped>\n",
       "    .dataframe tbody tr th:only-of-type {\n",
       "        vertical-align: middle;\n",
       "    }\n",
       "\n",
       "    .dataframe tbody tr th {\n",
       "        vertical-align: top;\n",
       "    }\n",
       "\n",
       "    .dataframe thead th {\n",
       "        text-align: right;\n",
       "    }\n",
       "</style>\n",
       "<table border=\"1\" class=\"dataframe\">\n",
       "  <thead>\n",
       "    <tr style=\"text-align: right;\">\n",
       "      <th></th>\n",
       "      <th>weight</th>\n",
       "    </tr>\n",
       "  </thead>\n",
       "  <tbody>\n",
       "    <tr>\n",
       "      <th>0</th>\n",
       "      <td>1.589492</td>\n",
       "    </tr>\n",
       "    <tr>\n",
       "      <th>1</th>\n",
       "      <td>1.650782</td>\n",
       "    </tr>\n",
       "    <tr>\n",
       "      <th>2</th>\n",
       "      <td>1.713147</td>\n",
       "    </tr>\n",
       "    <tr>\n",
       "      <th>3</th>\n",
       "      <td>1.713566</td>\n",
       "    </tr>\n",
       "    <tr>\n",
       "      <th>4</th>\n",
       "      <td>1.721237</td>\n",
       "    </tr>\n",
       "    <tr>\n",
       "      <th>5</th>\n",
       "      <td>1.729618</td>\n",
       "    </tr>\n",
       "    <tr>\n",
       "      <th>6</th>\n",
       "      <td>1.734295</td>\n",
       "    </tr>\n",
       "    <tr>\n",
       "      <th>7</th>\n",
       "      <td>1.766343</td>\n",
       "    </tr>\n",
       "    <tr>\n",
       "      <th>8</th>\n",
       "      <td>1.801769</td>\n",
       "    </tr>\n",
       "    <tr>\n",
       "      <th>9</th>\n",
       "      <td>1.839402</td>\n",
       "    </tr>\n",
       "    <tr>\n",
       "      <th>10</th>\n",
       "      <td>1.886878</td>\n",
       "    </tr>\n",
       "    <tr>\n",
       "      <th>11</th>\n",
       "      <td>1.935732</td>\n",
       "    </tr>\n",
       "    <tr>\n",
       "      <th>12</th>\n",
       "      <td>1.948179</td>\n",
       "    </tr>\n",
       "    <tr>\n",
       "      <th>13</th>\n",
       "      <td>2.103797</td>\n",
       "    </tr>\n",
       "    <tr>\n",
       "      <th>14</th>\n",
       "      <td>22.813530</td>\n",
       "    </tr>\n",
       "    <tr>\n",
       "      <th>15</th>\n",
       "      <td>3.196518</td>\n",
       "    </tr>\n",
       "  </tbody>\n",
       "</table>\n",
       "</div>"
      ],
      "text/plain": [
       "       weight\n",
       "0    1.589492\n",
       "1    1.650782\n",
       "2    1.713147\n",
       "3    1.713566\n",
       "4    1.721237\n",
       "5    1.729618\n",
       "6    1.734295\n",
       "7    1.766343\n",
       "8    1.801769\n",
       "9    1.839402\n",
       "10   1.886878\n",
       "11   1.935732\n",
       "12   1.948179\n",
       "13   2.103797\n",
       "14  22.813530\n",
       "15   3.196518"
      ]
     },
     "execution_count": 204,
     "metadata": {},
     "output_type": "execute_result"
    }
   ],
   "source": [
    "new_df1 = df1.fillna(df1.mean())\n",
    "new_df1"
   ]
  },
  {
   "cell_type": "markdown",
   "metadata": {},
   "source": [
    "### Exercise 7 (1 point)"
   ]
  },
  {
   "cell_type": "markdown",
   "metadata": {},
   "source": [
    "Is the value assigned to the missing value correct? Modify the dataframe in order to rectify the error (if any). \n",
    "\n",
    "**Tip:** the Clipping method can be used in this exercise, but other solutions are also possible. "
   ]
  },
  {
   "cell_type": "code",
   "execution_count": 205,
   "metadata": {},
   "outputs": [],
   "source": [
    "# La nouvelle valeur n'est pas correcte car elle à été calculé en prenant en compte l'outlier à l'index 14.\n",
    "# Nous allons donc retirer cette valeur et recalculer la nouvelle valeur manquante sans compter l'outliers.\n",
    "\n"
   ]
  },
  {
   "cell_type": "code",
   "execution_count": 206,
   "metadata": {},
   "outputs": [
    {
     "data": {
      "text/html": [
       "<div>\n",
       "<style scoped>\n",
       "    .dataframe tbody tr th:only-of-type {\n",
       "        vertical-align: middle;\n",
       "    }\n",
       "\n",
       "    .dataframe tbody tr th {\n",
       "        vertical-align: top;\n",
       "    }\n",
       "\n",
       "    .dataframe thead th {\n",
       "        text-align: right;\n",
       "    }\n",
       "</style>\n",
       "<table border=\"1\" class=\"dataframe\">\n",
       "  <thead>\n",
       "    <tr style=\"text-align: right;\">\n",
       "      <th></th>\n",
       "      <th>weight</th>\n",
       "    </tr>\n",
       "  </thead>\n",
       "  <tbody>\n",
       "    <tr>\n",
       "      <th>0</th>\n",
       "      <td>1.589492</td>\n",
       "    </tr>\n",
       "    <tr>\n",
       "      <th>1</th>\n",
       "      <td>1.650782</td>\n",
       "    </tr>\n",
       "    <tr>\n",
       "      <th>2</th>\n",
       "      <td>1.713147</td>\n",
       "    </tr>\n",
       "    <tr>\n",
       "      <th>3</th>\n",
       "      <td>1.713566</td>\n",
       "    </tr>\n",
       "    <tr>\n",
       "      <th>4</th>\n",
       "      <td>1.721237</td>\n",
       "    </tr>\n",
       "    <tr>\n",
       "      <th>5</th>\n",
       "      <td>1.729618</td>\n",
       "    </tr>\n",
       "    <tr>\n",
       "      <th>6</th>\n",
       "      <td>1.734295</td>\n",
       "    </tr>\n",
       "    <tr>\n",
       "      <th>7</th>\n",
       "      <td>1.766343</td>\n",
       "    </tr>\n",
       "    <tr>\n",
       "      <th>8</th>\n",
       "      <td>1.801769</td>\n",
       "    </tr>\n",
       "    <tr>\n",
       "      <th>9</th>\n",
       "      <td>1.839402</td>\n",
       "    </tr>\n",
       "    <tr>\n",
       "      <th>10</th>\n",
       "      <td>1.886878</td>\n",
       "    </tr>\n",
       "    <tr>\n",
       "      <th>11</th>\n",
       "      <td>1.935732</td>\n",
       "    </tr>\n",
       "    <tr>\n",
       "      <th>12</th>\n",
       "      <td>1.948179</td>\n",
       "    </tr>\n",
       "    <tr>\n",
       "      <th>13</th>\n",
       "      <td>2.103797</td>\n",
       "    </tr>\n",
       "    <tr>\n",
       "      <th>15</th>\n",
       "      <td>NaN</td>\n",
       "    </tr>\n",
       "  </tbody>\n",
       "</table>\n",
       "</div>"
      ],
      "text/plain": [
       "      weight\n",
       "0   1.589492\n",
       "1   1.650782\n",
       "2   1.713147\n",
       "3   1.713566\n",
       "4   1.721237\n",
       "5   1.729618\n",
       "6   1.734295\n",
       "7   1.766343\n",
       "8   1.801769\n",
       "9   1.839402\n",
       "10  1.886878\n",
       "11  1.935732\n",
       "12  1.948179\n",
       "13  2.103797\n",
       "15       NaN"
      ]
     },
     "execution_count": 206,
     "metadata": {},
     "output_type": "execute_result"
    }
   ],
   "source": [
    "new_df1.iloc[15] = np.nan # On remet la valeur à NaN\n",
    "new_df1.drop(14, inplace=True) # On retire l'outlier\n",
    "new_df1"
   ]
  },
  {
   "cell_type": "code",
   "execution_count": 207,
   "metadata": {},
   "outputs": [
    {
     "data": {
      "text/html": [
       "<div>\n",
       "<style scoped>\n",
       "    .dataframe tbody tr th:only-of-type {\n",
       "        vertical-align: middle;\n",
       "    }\n",
       "\n",
       "    .dataframe tbody tr th {\n",
       "        vertical-align: top;\n",
       "    }\n",
       "\n",
       "    .dataframe thead th {\n",
       "        text-align: right;\n",
       "    }\n",
       "</style>\n",
       "<table border=\"1\" class=\"dataframe\">\n",
       "  <thead>\n",
       "    <tr style=\"text-align: right;\">\n",
       "      <th></th>\n",
       "      <th>weight</th>\n",
       "    </tr>\n",
       "  </thead>\n",
       "  <tbody>\n",
       "    <tr>\n",
       "      <th>0</th>\n",
       "      <td>1.589492</td>\n",
       "    </tr>\n",
       "    <tr>\n",
       "      <th>1</th>\n",
       "      <td>1.650782</td>\n",
       "    </tr>\n",
       "    <tr>\n",
       "      <th>2</th>\n",
       "      <td>1.713147</td>\n",
       "    </tr>\n",
       "    <tr>\n",
       "      <th>3</th>\n",
       "      <td>1.713566</td>\n",
       "    </tr>\n",
       "    <tr>\n",
       "      <th>4</th>\n",
       "      <td>1.721237</td>\n",
       "    </tr>\n",
       "    <tr>\n",
       "      <th>5</th>\n",
       "      <td>1.729618</td>\n",
       "    </tr>\n",
       "    <tr>\n",
       "      <th>6</th>\n",
       "      <td>1.734295</td>\n",
       "    </tr>\n",
       "    <tr>\n",
       "      <th>7</th>\n",
       "      <td>1.766343</td>\n",
       "    </tr>\n",
       "    <tr>\n",
       "      <th>8</th>\n",
       "      <td>1.801769</td>\n",
       "    </tr>\n",
       "    <tr>\n",
       "      <th>9</th>\n",
       "      <td>1.839402</td>\n",
       "    </tr>\n",
       "    <tr>\n",
       "      <th>10</th>\n",
       "      <td>1.886878</td>\n",
       "    </tr>\n",
       "    <tr>\n",
       "      <th>11</th>\n",
       "      <td>1.935732</td>\n",
       "    </tr>\n",
       "    <tr>\n",
       "      <th>12</th>\n",
       "      <td>1.948179</td>\n",
       "    </tr>\n",
       "    <tr>\n",
       "      <th>13</th>\n",
       "      <td>2.103797</td>\n",
       "    </tr>\n",
       "    <tr>\n",
       "      <th>14</th>\n",
       "      <td>1.795303</td>\n",
       "    </tr>\n",
       "  </tbody>\n",
       "</table>\n",
       "</div>"
      ],
      "text/plain": [
       "      weight\n",
       "0   1.589492\n",
       "1   1.650782\n",
       "2   1.713147\n",
       "3   1.713566\n",
       "4   1.721237\n",
       "5   1.729618\n",
       "6   1.734295\n",
       "7   1.766343\n",
       "8   1.801769\n",
       "9   1.839402\n",
       "10  1.886878\n",
       "11  1.935732\n",
       "12  1.948179\n",
       "13  2.103797\n",
       "14  1.795303"
      ]
     },
     "execution_count": 207,
     "metadata": {},
     "output_type": "execute_result"
    }
   ],
   "source": [
    "new_df1 = new_df1.fillna(new_df1.mean())\n",
    "new_df1.reset_index(drop=True, inplace=True) #pour rearranger les index\n",
    "new_df1"
   ]
  },
  {
   "cell_type": "markdown",
   "metadata": {},
   "source": [
    "It is time to use real data using different techniques to fill out NaN values. In this part, we will use a dataset related to diabetes. This dataset contains 768 rows and 9 features. The last feature represents the class. This dataset includes 652 missing values distributed in 5 of the 9 columns. First, the dataset called *Diabetes.csv* should be uploaded and stored in a dataframe. Later, we count the number of NaN values by column."
   ]
  },
  {
   "cell_type": "code",
   "execution_count": 208,
   "metadata": {},
   "outputs": [
    {
     "name": "stdout",
     "output_type": "stream",
     "text": [
      "Pregnant               0\n",
      "Glucose                5\n",
      "Diastolic_BP          35\n",
      "Skin_Fold            227\n",
      "Serum_Insulin        374\n",
      "BMI                   11\n",
      "Diabetes_Pedigree      0\n",
      "Age                    0\n",
      "Class                  0\n",
      "dtype: int64\n"
     ]
    }
   ],
   "source": [
    "df3 = pd.read_csv(\"Diabetes.csv\", sep=\",\", decimal=\".\")\n",
    "print(df3.isnull().sum())"
   ]
  },
  {
   "cell_type": "code",
   "execution_count": 209,
   "metadata": {},
   "outputs": [
    {
     "data": {
      "text/html": [
       "<div>\n",
       "<style scoped>\n",
       "    .dataframe tbody tr th:only-of-type {\n",
       "        vertical-align: middle;\n",
       "    }\n",
       "\n",
       "    .dataframe tbody tr th {\n",
       "        vertical-align: top;\n",
       "    }\n",
       "\n",
       "    .dataframe thead th {\n",
       "        text-align: right;\n",
       "    }\n",
       "</style>\n",
       "<table border=\"1\" class=\"dataframe\">\n",
       "  <thead>\n",
       "    <tr style=\"text-align: right;\">\n",
       "      <th></th>\n",
       "      <th>Pregnant</th>\n",
       "      <th>Glucose</th>\n",
       "      <th>Diastolic_BP</th>\n",
       "      <th>Skin_Fold</th>\n",
       "      <th>Serum_Insulin</th>\n",
       "      <th>BMI</th>\n",
       "      <th>Diabetes_Pedigree</th>\n",
       "      <th>Age</th>\n",
       "      <th>Class</th>\n",
       "    </tr>\n",
       "  </thead>\n",
       "  <tbody>\n",
       "    <tr>\n",
       "      <th>0</th>\n",
       "      <td>6</td>\n",
       "      <td>148.0</td>\n",
       "      <td>72.0</td>\n",
       "      <td>35.0</td>\n",
       "      <td>NaN</td>\n",
       "      <td>33.6</td>\n",
       "      <td>0.627</td>\n",
       "      <td>50</td>\n",
       "      <td>1</td>\n",
       "    </tr>\n",
       "    <tr>\n",
       "      <th>1</th>\n",
       "      <td>1</td>\n",
       "      <td>85.0</td>\n",
       "      <td>66.0</td>\n",
       "      <td>29.0</td>\n",
       "      <td>NaN</td>\n",
       "      <td>26.6</td>\n",
       "      <td>0.351</td>\n",
       "      <td>31</td>\n",
       "      <td>0</td>\n",
       "    </tr>\n",
       "    <tr>\n",
       "      <th>2</th>\n",
       "      <td>8</td>\n",
       "      <td>183.0</td>\n",
       "      <td>64.0</td>\n",
       "      <td>NaN</td>\n",
       "      <td>NaN</td>\n",
       "      <td>23.3</td>\n",
       "      <td>0.672</td>\n",
       "      <td>32</td>\n",
       "      <td>1</td>\n",
       "    </tr>\n",
       "    <tr>\n",
       "      <th>3</th>\n",
       "      <td>1</td>\n",
       "      <td>89.0</td>\n",
       "      <td>66.0</td>\n",
       "      <td>23.0</td>\n",
       "      <td>94.0</td>\n",
       "      <td>28.1</td>\n",
       "      <td>0.167</td>\n",
       "      <td>21</td>\n",
       "      <td>0</td>\n",
       "    </tr>\n",
       "    <tr>\n",
       "      <th>4</th>\n",
       "      <td>0</td>\n",
       "      <td>137.0</td>\n",
       "      <td>40.0</td>\n",
       "      <td>35.0</td>\n",
       "      <td>168.0</td>\n",
       "      <td>43.1</td>\n",
       "      <td>2.288</td>\n",
       "      <td>33</td>\n",
       "      <td>1</td>\n",
       "    </tr>\n",
       "    <tr>\n",
       "      <th>...</th>\n",
       "      <td>...</td>\n",
       "      <td>...</td>\n",
       "      <td>...</td>\n",
       "      <td>...</td>\n",
       "      <td>...</td>\n",
       "      <td>...</td>\n",
       "      <td>...</td>\n",
       "      <td>...</td>\n",
       "      <td>...</td>\n",
       "    </tr>\n",
       "    <tr>\n",
       "      <th>763</th>\n",
       "      <td>10</td>\n",
       "      <td>101.0</td>\n",
       "      <td>76.0</td>\n",
       "      <td>48.0</td>\n",
       "      <td>180.0</td>\n",
       "      <td>32.9</td>\n",
       "      <td>0.171</td>\n",
       "      <td>63</td>\n",
       "      <td>0</td>\n",
       "    </tr>\n",
       "    <tr>\n",
       "      <th>764</th>\n",
       "      <td>2</td>\n",
       "      <td>122.0</td>\n",
       "      <td>70.0</td>\n",
       "      <td>27.0</td>\n",
       "      <td>NaN</td>\n",
       "      <td>36.8</td>\n",
       "      <td>0.340</td>\n",
       "      <td>27</td>\n",
       "      <td>0</td>\n",
       "    </tr>\n",
       "    <tr>\n",
       "      <th>765</th>\n",
       "      <td>5</td>\n",
       "      <td>121.0</td>\n",
       "      <td>72.0</td>\n",
       "      <td>23.0</td>\n",
       "      <td>112.0</td>\n",
       "      <td>26.2</td>\n",
       "      <td>0.245</td>\n",
       "      <td>30</td>\n",
       "      <td>0</td>\n",
       "    </tr>\n",
       "    <tr>\n",
       "      <th>766</th>\n",
       "      <td>1</td>\n",
       "      <td>126.0</td>\n",
       "      <td>60.0</td>\n",
       "      <td>NaN</td>\n",
       "      <td>NaN</td>\n",
       "      <td>30.1</td>\n",
       "      <td>0.349</td>\n",
       "      <td>47</td>\n",
       "      <td>1</td>\n",
       "    </tr>\n",
       "    <tr>\n",
       "      <th>767</th>\n",
       "      <td>1</td>\n",
       "      <td>93.0</td>\n",
       "      <td>70.0</td>\n",
       "      <td>31.0</td>\n",
       "      <td>NaN</td>\n",
       "      <td>30.4</td>\n",
       "      <td>0.315</td>\n",
       "      <td>23</td>\n",
       "      <td>0</td>\n",
       "    </tr>\n",
       "  </tbody>\n",
       "</table>\n",
       "<p>768 rows × 9 columns</p>\n",
       "</div>"
      ],
      "text/plain": [
       "     Pregnant  Glucose  Diastolic_BP  Skin_Fold  Serum_Insulin   BMI  \\\n",
       "0           6    148.0          72.0       35.0            NaN  33.6   \n",
       "1           1     85.0          66.0       29.0            NaN  26.6   \n",
       "2           8    183.0          64.0        NaN            NaN  23.3   \n",
       "3           1     89.0          66.0       23.0           94.0  28.1   \n",
       "4           0    137.0          40.0       35.0          168.0  43.1   \n",
       "..        ...      ...           ...        ...            ...   ...   \n",
       "763        10    101.0          76.0       48.0          180.0  32.9   \n",
       "764         2    122.0          70.0       27.0            NaN  36.8   \n",
       "765         5    121.0          72.0       23.0          112.0  26.2   \n",
       "766         1    126.0          60.0        NaN            NaN  30.1   \n",
       "767         1     93.0          70.0       31.0            NaN  30.4   \n",
       "\n",
       "     Diabetes_Pedigree  Age  Class  \n",
       "0                0.627   50      1  \n",
       "1                0.351   31      0  \n",
       "2                0.672   32      1  \n",
       "3                0.167   21      0  \n",
       "4                2.288   33      1  \n",
       "..                 ...  ...    ...  \n",
       "763              0.171   63      0  \n",
       "764              0.340   27      0  \n",
       "765              0.245   30      0  \n",
       "766              0.349   47      1  \n",
       "767              0.315   23      0  \n",
       "\n",
       "[768 rows x 9 columns]"
      ]
     },
     "execution_count": 209,
     "metadata": {},
     "output_type": "execute_result"
    }
   ],
   "source": [
    "df3"
   ]
  },
  {
   "cell_type": "markdown",
   "metadata": {},
   "source": [
    "### Exercise 8 (1 point)"
   ]
  },
  {
   "cell_type": "markdown",
   "metadata": {},
   "source": [
    "Replace NaN values for the entire dataframe. Validate your answer by counting the missing values again.\n",
    "\n",
    "**Note:** Do not forget to create another dataframe with the new values "
   ]
  },
  {
   "cell_type": "code",
   "execution_count": 210,
   "metadata": {},
   "outputs": [
    {
     "name": "stdout",
     "output_type": "stream",
     "text": [
      "Données outliers de Pregnant : [15, 17, 14, 14]\n",
      "\n",
      "Données outliers de Glucose : []\n",
      "\n",
      "Données outliers de Diastolic_BP : []\n",
      "\n",
      "Données outliers de Skin_Fold : []\n",
      "\n",
      "Données outliers de Serum_Insulin : []\n",
      "\n",
      "Données outliers de BMI : []\n",
      "\n",
      "Données outliers de Diabetes_Pedigree : [2.288, 1.441, 1.39, 1.893, 1.781, 1.4, 1.321, 2.329, 1.318, 1.353, 1.391, 1.476, 2.137, 1.731, 1.268, 1.6, 2.42, 1.251, 1.699, 1.258, 1.282, 1.698, 1.461, 1.292, 1.394]\n",
      "\n",
      "Données outliers de Age : [69, 66, 67, 72, 81, 67, 66, 67, 66, 70, 68, 69, 66]\n",
      "\n",
      "Données outliers de Class : [1, 1, 1, 1, 1, 1, 1, 1, 1, 1, 1, 1, 1, 1, 1, 1, 1, 1, 1, 1, 1, 1, 1, 1, 1, 1, 1, 1, 1, 1, 1, 1, 1, 1, 1, 1, 1, 1, 1, 1, 1, 1, 1, 1, 1, 1, 1, 1, 1, 1, 1, 1, 1, 1, 1, 1, 1, 1, 1, 1, 1, 1, 1, 1, 1, 1, 1, 1, 1, 1, 1, 1, 1, 1, 1, 1, 1, 1, 1, 1, 1, 1, 1, 1, 1, 1, 1, 1, 1, 1, 1, 1, 1, 1, 1, 1, 1, 1, 1, 1, 1, 1, 1, 1, 1, 1, 1, 1, 1, 1, 1, 1, 1, 1, 1, 1, 1, 1, 1, 1, 1, 1, 1, 1, 1, 1, 1, 1, 1, 1, 1, 1, 1, 1, 1, 1, 1, 1, 1, 1, 1, 1, 1, 1, 1, 1, 1, 1, 1, 1, 1, 1, 1, 1, 1, 1, 1, 1, 1, 1, 1, 1, 1, 1, 1, 1, 1, 1, 1, 1, 1, 1, 1, 1, 1, 1, 1, 1, 1, 1, 1, 1, 1, 1, 1, 1, 1, 1, 1, 1, 1, 1, 1, 1, 1, 1, 1, 1, 1, 1, 1, 1, 1, 1, 1, 1, 1, 1, 1, 1, 1, 1, 1, 1, 1, 1, 1, 1, 1, 1, 1, 1, 1, 1, 1, 1, 1, 1, 1, 1, 1, 1, 1, 1, 1, 1, 1, 1, 1, 1, 1, 1, 1, 1, 1, 1, 1, 1, 1, 1, 1, 1, 1, 1, 1, 1, 1, 1, 1, 1, 1, 1, 1, 1, 1, 1, 1, 1]\n",
      "\n"
     ]
    },
    {
     "name": "stderr",
     "output_type": "stream",
     "text": [
      "C:\\Users\\guill\\AppData\\Local\\Temp\\ipykernel_34836\\3847603328.py:8: RuntimeWarning: divide by zero encountered in scalar divide\n",
      "  L_normalized[i] = 0.6745 * ((L[i] - mediane) / np.median(np.abs(L - mediane)))\n",
      "C:\\Users\\guill\\AppData\\Local\\Temp\\ipykernel_34836\\3847603328.py:8: RuntimeWarning: invalid value encountered in scalar divide\n",
      "  L_normalized[i] = 0.6745 * ((L[i] - mediane) / np.median(np.abs(L - mediane)))\n"
     ]
    }
   ],
   "source": [
    "for col in df3.columns:\n",
    "    print(f\"Données outliers de {col} : {detect_outliers_MAD(df3[col].tolist())}\\n\")"
   ]
  },
  {
   "cell_type": "markdown",
   "metadata": {},
   "source": [
    "On voit que dans les colonnes possédant des NaN values il n'y a pas de outliers\n",
    "\n",
    "Cela nous arrange car nous allons pouvoir remplacer les NaN values sans avoir à nous préoccuper des outliers"
   ]
  },
  {
   "cell_type": "code",
   "execution_count": 211,
   "metadata": {},
   "outputs": [],
   "source": [
    "from sklearn.impute import SimpleImputer\n",
    "\n",
    "imputer = SimpleImputer(strategy='mean') # On utilise la moyenne pour imputer les valeurs manquantes\n",
    "\n",
    "df3_imputed = pd.DataFrame(imputer.fit_transform(df3), columns=df3.columns)"
   ]
  },
  {
   "cell_type": "code",
   "execution_count": 212,
   "metadata": {},
   "outputs": [
    {
     "data": {
      "text/html": [
       "<div>\n",
       "<style scoped>\n",
       "    .dataframe tbody tr th:only-of-type {\n",
       "        vertical-align: middle;\n",
       "    }\n",
       "\n",
       "    .dataframe tbody tr th {\n",
       "        vertical-align: top;\n",
       "    }\n",
       "\n",
       "    .dataframe thead th {\n",
       "        text-align: right;\n",
       "    }\n",
       "</style>\n",
       "<table border=\"1\" class=\"dataframe\">\n",
       "  <thead>\n",
       "    <tr style=\"text-align: right;\">\n",
       "      <th></th>\n",
       "      <th>Pregnant</th>\n",
       "      <th>Glucose</th>\n",
       "      <th>Diastolic_BP</th>\n",
       "      <th>Skin_Fold</th>\n",
       "      <th>Serum_Insulin</th>\n",
       "      <th>BMI</th>\n",
       "      <th>Diabetes_Pedigree</th>\n",
       "      <th>Age</th>\n",
       "      <th>Class</th>\n",
       "    </tr>\n",
       "  </thead>\n",
       "  <tbody>\n",
       "    <tr>\n",
       "      <th>0</th>\n",
       "      <td>6.0</td>\n",
       "      <td>148.0</td>\n",
       "      <td>72.0</td>\n",
       "      <td>35.00000</td>\n",
       "      <td>155.548223</td>\n",
       "      <td>33.6</td>\n",
       "      <td>0.627</td>\n",
       "      <td>50.0</td>\n",
       "      <td>1.0</td>\n",
       "    </tr>\n",
       "    <tr>\n",
       "      <th>1</th>\n",
       "      <td>1.0</td>\n",
       "      <td>85.0</td>\n",
       "      <td>66.0</td>\n",
       "      <td>29.00000</td>\n",
       "      <td>155.548223</td>\n",
       "      <td>26.6</td>\n",
       "      <td>0.351</td>\n",
       "      <td>31.0</td>\n",
       "      <td>0.0</td>\n",
       "    </tr>\n",
       "    <tr>\n",
       "      <th>2</th>\n",
       "      <td>8.0</td>\n",
       "      <td>183.0</td>\n",
       "      <td>64.0</td>\n",
       "      <td>29.15342</td>\n",
       "      <td>155.548223</td>\n",
       "      <td>23.3</td>\n",
       "      <td>0.672</td>\n",
       "      <td>32.0</td>\n",
       "      <td>1.0</td>\n",
       "    </tr>\n",
       "    <tr>\n",
       "      <th>3</th>\n",
       "      <td>1.0</td>\n",
       "      <td>89.0</td>\n",
       "      <td>66.0</td>\n",
       "      <td>23.00000</td>\n",
       "      <td>94.000000</td>\n",
       "      <td>28.1</td>\n",
       "      <td>0.167</td>\n",
       "      <td>21.0</td>\n",
       "      <td>0.0</td>\n",
       "    </tr>\n",
       "    <tr>\n",
       "      <th>4</th>\n",
       "      <td>0.0</td>\n",
       "      <td>137.0</td>\n",
       "      <td>40.0</td>\n",
       "      <td>35.00000</td>\n",
       "      <td>168.000000</td>\n",
       "      <td>43.1</td>\n",
       "      <td>2.288</td>\n",
       "      <td>33.0</td>\n",
       "      <td>1.0</td>\n",
       "    </tr>\n",
       "    <tr>\n",
       "      <th>...</th>\n",
       "      <td>...</td>\n",
       "      <td>...</td>\n",
       "      <td>...</td>\n",
       "      <td>...</td>\n",
       "      <td>...</td>\n",
       "      <td>...</td>\n",
       "      <td>...</td>\n",
       "      <td>...</td>\n",
       "      <td>...</td>\n",
       "    </tr>\n",
       "    <tr>\n",
       "      <th>763</th>\n",
       "      <td>10.0</td>\n",
       "      <td>101.0</td>\n",
       "      <td>76.0</td>\n",
       "      <td>48.00000</td>\n",
       "      <td>180.000000</td>\n",
       "      <td>32.9</td>\n",
       "      <td>0.171</td>\n",
       "      <td>63.0</td>\n",
       "      <td>0.0</td>\n",
       "    </tr>\n",
       "    <tr>\n",
       "      <th>764</th>\n",
       "      <td>2.0</td>\n",
       "      <td>122.0</td>\n",
       "      <td>70.0</td>\n",
       "      <td>27.00000</td>\n",
       "      <td>155.548223</td>\n",
       "      <td>36.8</td>\n",
       "      <td>0.340</td>\n",
       "      <td>27.0</td>\n",
       "      <td>0.0</td>\n",
       "    </tr>\n",
       "    <tr>\n",
       "      <th>765</th>\n",
       "      <td>5.0</td>\n",
       "      <td>121.0</td>\n",
       "      <td>72.0</td>\n",
       "      <td>23.00000</td>\n",
       "      <td>112.000000</td>\n",
       "      <td>26.2</td>\n",
       "      <td>0.245</td>\n",
       "      <td>30.0</td>\n",
       "      <td>0.0</td>\n",
       "    </tr>\n",
       "    <tr>\n",
       "      <th>766</th>\n",
       "      <td>1.0</td>\n",
       "      <td>126.0</td>\n",
       "      <td>60.0</td>\n",
       "      <td>29.15342</td>\n",
       "      <td>155.548223</td>\n",
       "      <td>30.1</td>\n",
       "      <td>0.349</td>\n",
       "      <td>47.0</td>\n",
       "      <td>1.0</td>\n",
       "    </tr>\n",
       "    <tr>\n",
       "      <th>767</th>\n",
       "      <td>1.0</td>\n",
       "      <td>93.0</td>\n",
       "      <td>70.0</td>\n",
       "      <td>31.00000</td>\n",
       "      <td>155.548223</td>\n",
       "      <td>30.4</td>\n",
       "      <td>0.315</td>\n",
       "      <td>23.0</td>\n",
       "      <td>0.0</td>\n",
       "    </tr>\n",
       "  </tbody>\n",
       "</table>\n",
       "<p>768 rows × 9 columns</p>\n",
       "</div>"
      ],
      "text/plain": [
       "     Pregnant  Glucose  Diastolic_BP  Skin_Fold  Serum_Insulin   BMI  \\\n",
       "0         6.0    148.0          72.0   35.00000     155.548223  33.6   \n",
       "1         1.0     85.0          66.0   29.00000     155.548223  26.6   \n",
       "2         8.0    183.0          64.0   29.15342     155.548223  23.3   \n",
       "3         1.0     89.0          66.0   23.00000      94.000000  28.1   \n",
       "4         0.0    137.0          40.0   35.00000     168.000000  43.1   \n",
       "..        ...      ...           ...        ...            ...   ...   \n",
       "763      10.0    101.0          76.0   48.00000     180.000000  32.9   \n",
       "764       2.0    122.0          70.0   27.00000     155.548223  36.8   \n",
       "765       5.0    121.0          72.0   23.00000     112.000000  26.2   \n",
       "766       1.0    126.0          60.0   29.15342     155.548223  30.1   \n",
       "767       1.0     93.0          70.0   31.00000     155.548223  30.4   \n",
       "\n",
       "     Diabetes_Pedigree   Age  Class  \n",
       "0                0.627  50.0    1.0  \n",
       "1                0.351  31.0    0.0  \n",
       "2                0.672  32.0    1.0  \n",
       "3                0.167  21.0    0.0  \n",
       "4                2.288  33.0    1.0  \n",
       "..                 ...   ...    ...  \n",
       "763              0.171  63.0    0.0  \n",
       "764              0.340  27.0    0.0  \n",
       "765              0.245  30.0    0.0  \n",
       "766              0.349  47.0    1.0  \n",
       "767              0.315  23.0    0.0  \n",
       "\n",
       "[768 rows x 9 columns]"
      ]
     },
     "execution_count": 212,
     "metadata": {},
     "output_type": "execute_result"
    }
   ],
   "source": [
    "df3_imputed"
   ]
  },
  {
   "cell_type": "code",
   "execution_count": 213,
   "metadata": {},
   "outputs": [
    {
     "data": {
      "text/plain": [
       "Pregnant             0\n",
       "Glucose              0\n",
       "Diastolic_BP         0\n",
       "Skin_Fold            0\n",
       "Serum_Insulin        0\n",
       "BMI                  0\n",
       "Diabetes_Pedigree    0\n",
       "Age                  0\n",
       "Class                0\n",
       "dtype: int64"
      ]
     },
     "execution_count": 213,
     "metadata": {},
     "output_type": "execute_result"
    }
   ],
   "source": [
    "df3_imputed.isnull().sum()"
   ]
  },
  {
   "cell_type": "markdown",
   "metadata": {},
   "source": [
    "### KNN for missing values filling"
   ]
  },
  {
   "cell_type": "markdown",
   "metadata": {},
   "source": [
    "Other methods have been proposed in the last few years. For instance, the KNNImputer is an algorithm used to fill missing values in a dataset by leveraging the K-nearest neighbors (KNN) approach. It works by finding the k closest data points (neighbors) based on the non-missing values of a sample and then imputes the missing values by averaging the corresponding values of those neighbors. The algorithm calculates distances, typically using Euclidean distance, and imputes values based on either equal weights or by giving more influence to closer neighbors. Key parameters include n_neighbors (the number of neighbors to consider), weights (how to weigh the neighbors when imputing), and metric (the method to calculate distances). This method is particularly effective when neighboring data points are similar, making it more reliable than straightforward methods like mean or median imputation (it depends of the dataset).\n",
    "\n",
    "In this lab, we will use the KNNImputer implementation from the library sklearn. The following lines use KNNImputer in our data frame. "
   ]
  },
  {
   "cell_type": "code",
   "execution_count": 214,
   "metadata": {},
   "outputs": [],
   "source": [
    "from sklearn.impute import KNNImputer\n",
    "imputer = KNNImputer(n_neighbors=4, weights=\"uniform\")\n",
    "new_df3_nonNaN = imputer.fit_transform(df3)\n",
    "\n",
    "column_names = df3.columns.tolist()\n",
    "new_new_df3 = pd.DataFrame(new_df3_nonNaN, columns=column_names)\n",
    "new_new_df3['Class'] = df3['Class']"
   ]
  },
  {
   "cell_type": "markdown",
   "metadata": {},
   "source": [
    "### Exercise 9 (2 puntos)"
   ]
  },
  {
   "cell_type": "markdown",
   "metadata": {},
   "source": [
    "What is the function of the last line, and why is it necessary?"
   ]
  },
  {
   "cell_type": "markdown",
   "metadata": {},
   "source": [
    "It restores the 'Class' column from the original df3 DataFrame to the new new_new_df3 DataFrame.\n",
    "\n",
    "The imputation process (imputer.fit_transform) only works on numeric data, and if your 'Class' column is non-numeric (e.g., categorical), it would have been excluded from the imputation process. After imputation, you need to reattach this column to ensure that the newly imputed DataFrame has all the original columns, including the 'Class' label.\n",
    "\n",
    "Without this step, the new DataFrame would lack the 'Class' column, which could be critical if you're planning further analysis or machine learning tasks that rely on this label."
   ]
  },
  {
   "cell_type": "markdown",
   "metadata": {},
   "source": [
    "### Exercise 10 (4 puntos)"
   ]
  },
  {
   "cell_type": "markdown",
   "metadata": {},
   "source": [
    "Handling missing data is a critical step in data preprocessing, as it can significantly affect the performance of machine learning models. In this assignment, participants will explore the impact of different techniques for filling in missing values on the accuracy of a classification model. Specifically, we will compare a simple imputation method using the mean of the feature with a more advanced imputation approach using the KNNImputer. The steps requested in this exercise contain the following:\n",
    "\n",
    "1. On the one hand,  mean imputation will be applied to fill in missing values for the first version of the dataset. On the other hand, use KNNImputer to fill in the missing values for the second version of the dataset.\n",
    "\n",
    "2. Later, a decision tree classifier will be trained on both versions of the dataset (with NaN values replaced by mean and KNN imputation, respectively).\n",
    "\n",
    "3. Finally, the accuracy of the decision tree classifier for both imputation methods will be compared. Analyze which imputation technique leads to better classification performance and discuss why.\n",
    "\n",
    "**Note:** Accuracy can vary and depend of the decision tree configuration"
   ]
  },
  {
   "cell_type": "code",
   "execution_count": 215,
   "metadata": {},
   "outputs": [
    {
     "data": {
      "text/html": [
       "<div>\n",
       "<style scoped>\n",
       "    .dataframe tbody tr th:only-of-type {\n",
       "        vertical-align: middle;\n",
       "    }\n",
       "\n",
       "    .dataframe tbody tr th {\n",
       "        vertical-align: top;\n",
       "    }\n",
       "\n",
       "    .dataframe thead th {\n",
       "        text-align: right;\n",
       "    }\n",
       "</style>\n",
       "<table border=\"1\" class=\"dataframe\">\n",
       "  <thead>\n",
       "    <tr style=\"text-align: right;\">\n",
       "      <th></th>\n",
       "      <th>Pregnant</th>\n",
       "      <th>Glucose</th>\n",
       "      <th>Diastolic_BP</th>\n",
       "      <th>Skin_Fold</th>\n",
       "      <th>Serum_Insulin</th>\n",
       "      <th>BMI</th>\n",
       "      <th>Diabetes_Pedigree</th>\n",
       "      <th>Age</th>\n",
       "      <th>Class</th>\n",
       "    </tr>\n",
       "  </thead>\n",
       "  <tbody>\n",
       "    <tr>\n",
       "      <th>0</th>\n",
       "      <td>6</td>\n",
       "      <td>148.0</td>\n",
       "      <td>72.0</td>\n",
       "      <td>35.0</td>\n",
       "      <td>NaN</td>\n",
       "      <td>33.6</td>\n",
       "      <td>0.627</td>\n",
       "      <td>50</td>\n",
       "      <td>1</td>\n",
       "    </tr>\n",
       "    <tr>\n",
       "      <th>1</th>\n",
       "      <td>1</td>\n",
       "      <td>85.0</td>\n",
       "      <td>66.0</td>\n",
       "      <td>29.0</td>\n",
       "      <td>NaN</td>\n",
       "      <td>26.6</td>\n",
       "      <td>0.351</td>\n",
       "      <td>31</td>\n",
       "      <td>0</td>\n",
       "    </tr>\n",
       "    <tr>\n",
       "      <th>2</th>\n",
       "      <td>8</td>\n",
       "      <td>183.0</td>\n",
       "      <td>64.0</td>\n",
       "      <td>NaN</td>\n",
       "      <td>NaN</td>\n",
       "      <td>23.3</td>\n",
       "      <td>0.672</td>\n",
       "      <td>32</td>\n",
       "      <td>1</td>\n",
       "    </tr>\n",
       "    <tr>\n",
       "      <th>3</th>\n",
       "      <td>1</td>\n",
       "      <td>89.0</td>\n",
       "      <td>66.0</td>\n",
       "      <td>23.0</td>\n",
       "      <td>94.0</td>\n",
       "      <td>28.1</td>\n",
       "      <td>0.167</td>\n",
       "      <td>21</td>\n",
       "      <td>0</td>\n",
       "    </tr>\n",
       "    <tr>\n",
       "      <th>4</th>\n",
       "      <td>0</td>\n",
       "      <td>137.0</td>\n",
       "      <td>40.0</td>\n",
       "      <td>35.0</td>\n",
       "      <td>168.0</td>\n",
       "      <td>43.1</td>\n",
       "      <td>2.288</td>\n",
       "      <td>33</td>\n",
       "      <td>1</td>\n",
       "    </tr>\n",
       "    <tr>\n",
       "      <th>...</th>\n",
       "      <td>...</td>\n",
       "      <td>...</td>\n",
       "      <td>...</td>\n",
       "      <td>...</td>\n",
       "      <td>...</td>\n",
       "      <td>...</td>\n",
       "      <td>...</td>\n",
       "      <td>...</td>\n",
       "      <td>...</td>\n",
       "    </tr>\n",
       "    <tr>\n",
       "      <th>763</th>\n",
       "      <td>10</td>\n",
       "      <td>101.0</td>\n",
       "      <td>76.0</td>\n",
       "      <td>48.0</td>\n",
       "      <td>180.0</td>\n",
       "      <td>32.9</td>\n",
       "      <td>0.171</td>\n",
       "      <td>63</td>\n",
       "      <td>0</td>\n",
       "    </tr>\n",
       "    <tr>\n",
       "      <th>764</th>\n",
       "      <td>2</td>\n",
       "      <td>122.0</td>\n",
       "      <td>70.0</td>\n",
       "      <td>27.0</td>\n",
       "      <td>NaN</td>\n",
       "      <td>36.8</td>\n",
       "      <td>0.340</td>\n",
       "      <td>27</td>\n",
       "      <td>0</td>\n",
       "    </tr>\n",
       "    <tr>\n",
       "      <th>765</th>\n",
       "      <td>5</td>\n",
       "      <td>121.0</td>\n",
       "      <td>72.0</td>\n",
       "      <td>23.0</td>\n",
       "      <td>112.0</td>\n",
       "      <td>26.2</td>\n",
       "      <td>0.245</td>\n",
       "      <td>30</td>\n",
       "      <td>0</td>\n",
       "    </tr>\n",
       "    <tr>\n",
       "      <th>766</th>\n",
       "      <td>1</td>\n",
       "      <td>126.0</td>\n",
       "      <td>60.0</td>\n",
       "      <td>NaN</td>\n",
       "      <td>NaN</td>\n",
       "      <td>30.1</td>\n",
       "      <td>0.349</td>\n",
       "      <td>47</td>\n",
       "      <td>1</td>\n",
       "    </tr>\n",
       "    <tr>\n",
       "      <th>767</th>\n",
       "      <td>1</td>\n",
       "      <td>93.0</td>\n",
       "      <td>70.0</td>\n",
       "      <td>31.0</td>\n",
       "      <td>NaN</td>\n",
       "      <td>30.4</td>\n",
       "      <td>0.315</td>\n",
       "      <td>23</td>\n",
       "      <td>0</td>\n",
       "    </tr>\n",
       "  </tbody>\n",
       "</table>\n",
       "<p>768 rows × 9 columns</p>\n",
       "</div>"
      ],
      "text/plain": [
       "     Pregnant  Glucose  Diastolic_BP  Skin_Fold  Serum_Insulin   BMI  \\\n",
       "0           6    148.0          72.0       35.0            NaN  33.6   \n",
       "1           1     85.0          66.0       29.0            NaN  26.6   \n",
       "2           8    183.0          64.0        NaN            NaN  23.3   \n",
       "3           1     89.0          66.0       23.0           94.0  28.1   \n",
       "4           0    137.0          40.0       35.0          168.0  43.1   \n",
       "..        ...      ...           ...        ...            ...   ...   \n",
       "763        10    101.0          76.0       48.0          180.0  32.9   \n",
       "764         2    122.0          70.0       27.0            NaN  36.8   \n",
       "765         5    121.0          72.0       23.0          112.0  26.2   \n",
       "766         1    126.0          60.0        NaN            NaN  30.1   \n",
       "767         1     93.0          70.0       31.0            NaN  30.4   \n",
       "\n",
       "     Diabetes_Pedigree  Age  Class  \n",
       "0                0.627   50      1  \n",
       "1                0.351   31      0  \n",
       "2                0.672   32      1  \n",
       "3                0.167   21      0  \n",
       "4                2.288   33      1  \n",
       "..                 ...  ...    ...  \n",
       "763              0.171   63      0  \n",
       "764              0.340   27      0  \n",
       "765              0.245   30      0  \n",
       "766              0.349   47      1  \n",
       "767              0.315   23      0  \n",
       "\n",
       "[768 rows x 9 columns]"
      ]
     },
     "execution_count": 215,
     "metadata": {},
     "output_type": "execute_result"
    }
   ],
   "source": [
    "df3"
   ]
  },
  {
   "cell_type": "code",
   "execution_count": 216,
   "metadata": {},
   "outputs": [],
   "source": [
    "from sklearn.impute import SimpleImputer, KNNImputer\n",
    "from sklearn.tree import DecisionTreeClassifier\n",
    "from sklearn.model_selection import train_test_split\n",
    "from sklearn.metrics import accuracy_score\n",
    "\n",
    "# On reprend df3 pour la dataframe sur laquelle on va travailler\n",
    "\n",
    "# on sépare les features de la target\n",
    "X = df3.drop(columns=['Class'])\n",
    "y = df3['Class']\n",
    "\n",
    "# Etape 1 : Imputation par la moyenne\n",
    "mean_imputer = SimpleImputer(strategy='mean')\n",
    "X_mean_imputed = pd.DataFrame(mean_imputer.fit_transform(X), columns=X.columns)\n",
    "\n",
    "# Etape 2 : Imputation par KNN\n",
    "knn_imputer = KNNImputer(n_neighbors=4, weights='uniform')\n",
    "X_knn_imputed = pd.DataFrame(knn_imputer.fit_transform(X), columns=X.columns)\n"
   ]
  },
  {
   "cell_type": "code",
   "execution_count": 217,
   "metadata": {},
   "outputs": [
    {
     "name": "stdout",
     "output_type": "stream",
     "text": [
      "Accuracy avec Mean Imputation: 0.7208\n",
      "Accuracy avec KNN Imputation: 0.6623\n"
     ]
    }
   ],
   "source": [
    "# Train-test split pour le dataset imputé par la moyenne\n",
    "X_train_mean, X_test_mean, y_train_mean, y_test_mean = train_test_split(X_mean_imputed, y, test_size=0.2, random_state=42)\n",
    "\n",
    "# Train-test split pour le dataset imputé par KNN\n",
    "X_train_knn, X_test_knn, y_train_knn, y_test_knn = train_test_split(X_knn_imputed, y, test_size=0.2, random_state=42)\n",
    "\n",
    "# Initialisation du modèle d'arbre de décision pour la classification\n",
    "clf = DecisionTreeClassifier(random_state=42)\n",
    "\n",
    "# Train pour les dataset imputés par la moyenne\n",
    "clf.fit(X_train_mean, y_train_mean)\n",
    "y_pred_mean = clf.predict(X_test_mean)\n",
    "accuracy_mean = accuracy_score(y_test_mean, y_pred_mean)\n",
    "\n",
    "# Train pour les dataset imputés par KNN\n",
    "clf.fit(X_train_knn, y_train_knn)\n",
    "y_pred_knn = clf.predict(X_test_knn)\n",
    "accuracy_knn = accuracy_score(y_test_knn, y_pred_knn)\n",
    "\n",
    "print(f\"Accuracy avec Mean Imputation: {accuracy_mean:.4f}\")\n",
    "print(f\"Accuracy avec KNN Imputation: {accuracy_knn:.4f}\")\n"
   ]
  },
  {
   "cell_type": "markdown",
   "metadata": {},
   "source": [
    "On remarque ici une meilleur accuracy avec la dataset dont les nan values ont été remplacé par la moyenne"
   ]
  },
  {
   "cell_type": "markdown",
   "metadata": {},
   "source": [
    "## Feature reduction"
   ]
  },
  {
   "cell_type": "markdown",
   "metadata": {},
   "source": [
    "Feature reduction is crucial in data analytics because it enhances model performance, reduces computational costs, and helps prevent overfitting in classification tasks. By eliminating irrelevant or redundant features, the new dataset should have less noise, making it more robust to variations or errors in the data. It is important to note that the reduced dataset should still capture the essential patterns, trends, or variance in the original data. The goal is to retain most of the meaningful information despite fewer features. In this lab, we will use the *cars.csv* dataset. Let us recover the data and store it in a dataframe."
   ]
  },
  {
   "cell_type": "code",
   "execution_count": 218,
   "metadata": {},
   "outputs": [],
   "source": [
    "df2 = pd.read_csv(\"cars.csv\", sep=\";\", decimal=\".\", engine='python')"
   ]
  },
  {
   "cell_type": "code",
   "execution_count": 219,
   "metadata": {},
   "outputs": [
    {
     "data": {
      "text/html": [
       "<div>\n",
       "<style scoped>\n",
       "    .dataframe tbody tr th:only-of-type {\n",
       "        vertical-align: middle;\n",
       "    }\n",
       "\n",
       "    .dataframe tbody tr th {\n",
       "        vertical-align: top;\n",
       "    }\n",
       "\n",
       "    .dataframe thead th {\n",
       "        text-align: right;\n",
       "    }\n",
       "</style>\n",
       "<table border=\"1\" class=\"dataframe\">\n",
       "  <thead>\n",
       "    <tr style=\"text-align: right;\">\n",
       "      <th></th>\n",
       "      <th>Car</th>\n",
       "      <th>MPG</th>\n",
       "      <th>Cylinders</th>\n",
       "      <th>Displacement</th>\n",
       "      <th>Horsepower</th>\n",
       "      <th>Weight</th>\n",
       "      <th>Acceleration</th>\n",
       "      <th>Model</th>\n",
       "      <th>Origin</th>\n",
       "    </tr>\n",
       "  </thead>\n",
       "  <tbody>\n",
       "    <tr>\n",
       "      <th>0</th>\n",
       "      <td>STRING</td>\n",
       "      <td>DOUBLE</td>\n",
       "      <td>INT</td>\n",
       "      <td>DOUBLE</td>\n",
       "      <td>DOUBLE</td>\n",
       "      <td>DOUBLE</td>\n",
       "      <td>DOUBLE</td>\n",
       "      <td>INT</td>\n",
       "      <td>CAT</td>\n",
       "    </tr>\n",
       "    <tr>\n",
       "      <th>1</th>\n",
       "      <td>Chevrolet Chevelle Malibu</td>\n",
       "      <td>18.0</td>\n",
       "      <td>8</td>\n",
       "      <td>307.0</td>\n",
       "      <td>130.0</td>\n",
       "      <td>3504.</td>\n",
       "      <td>12.0</td>\n",
       "      <td>70</td>\n",
       "      <td>US</td>\n",
       "    </tr>\n",
       "    <tr>\n",
       "      <th>2</th>\n",
       "      <td>Buick Skylark 320</td>\n",
       "      <td>15.0</td>\n",
       "      <td>8</td>\n",
       "      <td>350.0</td>\n",
       "      <td>165.0</td>\n",
       "      <td>3693.</td>\n",
       "      <td>11.5</td>\n",
       "      <td>70</td>\n",
       "      <td>US</td>\n",
       "    </tr>\n",
       "    <tr>\n",
       "      <th>3</th>\n",
       "      <td>Plymouth Satellite</td>\n",
       "      <td>18.0</td>\n",
       "      <td>8</td>\n",
       "      <td>318.0</td>\n",
       "      <td>150.0</td>\n",
       "      <td>3436.</td>\n",
       "      <td>11.0</td>\n",
       "      <td>70</td>\n",
       "      <td>US</td>\n",
       "    </tr>\n",
       "    <tr>\n",
       "      <th>4</th>\n",
       "      <td>AMC Rebel SST</td>\n",
       "      <td>16.0</td>\n",
       "      <td>8</td>\n",
       "      <td>304.0</td>\n",
       "      <td>150.0</td>\n",
       "      <td>3433.</td>\n",
       "      <td>12.0</td>\n",
       "      <td>70</td>\n",
       "      <td>US</td>\n",
       "    </tr>\n",
       "  </tbody>\n",
       "</table>\n",
       "</div>"
      ],
      "text/plain": [
       "                         Car     MPG Cylinders Displacement Horsepower  \\\n",
       "0                     STRING  DOUBLE       INT       DOUBLE     DOUBLE   \n",
       "1  Chevrolet Chevelle Malibu    18.0         8        307.0      130.0   \n",
       "2          Buick Skylark 320    15.0         8        350.0      165.0   \n",
       "3         Plymouth Satellite    18.0         8        318.0      150.0   \n",
       "4              AMC Rebel SST    16.0         8        304.0      150.0   \n",
       "\n",
       "   Weight Acceleration Model Origin  \n",
       "0  DOUBLE       DOUBLE   INT    CAT  \n",
       "1   3504.         12.0    70     US  \n",
       "2   3693.         11.5    70     US  \n",
       "3   3436.         11.0    70     US  \n",
       "4   3433.         12.0    70     US  "
      ]
     },
     "execution_count": 219,
     "metadata": {},
     "output_type": "execute_result"
    }
   ],
   "source": [
    "df2.head()"
   ]
  },
  {
   "cell_type": "markdown",
   "metadata": {},
   "source": [
    "Before using any technique, we need to clean the dataset (remove categorical data). We must remove the first row and the first and the last columns. Finally, we have to *cast* all columns to float type.\n",
    "\n",
    "**Note**: You can upload this dataset using some restrictions when using the **pd.read_csv** method. See the lab01. "
   ]
  },
  {
   "cell_type": "code",
   "execution_count": 220,
   "metadata": {},
   "outputs": [
    {
     "data": {
      "text/html": [
       "<div>\n",
       "<style scoped>\n",
       "    .dataframe tbody tr th:only-of-type {\n",
       "        vertical-align: middle;\n",
       "    }\n",
       "\n",
       "    .dataframe tbody tr th {\n",
       "        vertical-align: top;\n",
       "    }\n",
       "\n",
       "    .dataframe thead th {\n",
       "        text-align: right;\n",
       "    }\n",
       "</style>\n",
       "<table border=\"1\" class=\"dataframe\">\n",
       "  <thead>\n",
       "    <tr style=\"text-align: right;\">\n",
       "      <th></th>\n",
       "      <th>MPG</th>\n",
       "      <th>Cylinders</th>\n",
       "      <th>Displacement</th>\n",
       "      <th>Horsepower</th>\n",
       "      <th>Weight</th>\n",
       "      <th>Acceleration</th>\n",
       "      <th>Model</th>\n",
       "    </tr>\n",
       "  </thead>\n",
       "  <tbody>\n",
       "    <tr>\n",
       "      <th>1</th>\n",
       "      <td>18.0</td>\n",
       "      <td>8</td>\n",
       "      <td>307.0</td>\n",
       "      <td>130.0</td>\n",
       "      <td>3504.</td>\n",
       "      <td>12.0</td>\n",
       "      <td>70</td>\n",
       "    </tr>\n",
       "    <tr>\n",
       "      <th>2</th>\n",
       "      <td>15.0</td>\n",
       "      <td>8</td>\n",
       "      <td>350.0</td>\n",
       "      <td>165.0</td>\n",
       "      <td>3693.</td>\n",
       "      <td>11.5</td>\n",
       "      <td>70</td>\n",
       "    </tr>\n",
       "    <tr>\n",
       "      <th>3</th>\n",
       "      <td>18.0</td>\n",
       "      <td>8</td>\n",
       "      <td>318.0</td>\n",
       "      <td>150.0</td>\n",
       "      <td>3436.</td>\n",
       "      <td>11.0</td>\n",
       "      <td>70</td>\n",
       "    </tr>\n",
       "    <tr>\n",
       "      <th>4</th>\n",
       "      <td>16.0</td>\n",
       "      <td>8</td>\n",
       "      <td>304.0</td>\n",
       "      <td>150.0</td>\n",
       "      <td>3433.</td>\n",
       "      <td>12.0</td>\n",
       "      <td>70</td>\n",
       "    </tr>\n",
       "    <tr>\n",
       "      <th>5</th>\n",
       "      <td>17.0</td>\n",
       "      <td>8</td>\n",
       "      <td>302.0</td>\n",
       "      <td>140.0</td>\n",
       "      <td>3449.</td>\n",
       "      <td>10.5</td>\n",
       "      <td>70</td>\n",
       "    </tr>\n",
       "  </tbody>\n",
       "</table>\n",
       "</div>"
      ],
      "text/plain": [
       "    MPG Cylinders Displacement Horsepower Weight Acceleration Model\n",
       "1  18.0         8        307.0      130.0  3504.         12.0    70\n",
       "2  15.0         8        350.0      165.0  3693.         11.5    70\n",
       "3  18.0         8        318.0      150.0  3436.         11.0    70\n",
       "4  16.0         8        304.0      150.0  3433.         12.0    70\n",
       "5  17.0         8        302.0      140.0  3449.         10.5    70"
      ]
     },
     "execution_count": 220,
     "metadata": {},
     "output_type": "execute_result"
    }
   ],
   "source": [
    "df2 = df2.iloc[1: , 1:]\n",
    "del df2[df2.columns[-1]]\n",
    "df2.head()"
   ]
  },
  {
   "cell_type": "code",
   "execution_count": 221,
   "metadata": {},
   "outputs": [
    {
     "data": {
      "text/plain": [
       "MPG             float64\n",
       "Cylinders       float64\n",
       "Displacement    float64\n",
       "Horsepower      float64\n",
       "Weight          float64\n",
       "Acceleration    float64\n",
       "Model           float64\n",
       "dtype: object"
      ]
     },
     "execution_count": 221,
     "metadata": {},
     "output_type": "execute_result"
    }
   ],
   "source": [
    "df2 = df2.astype('float')\n",
    "df2.dtypes"
   ]
  },
  {
   "cell_type": "markdown",
   "metadata": {},
   "source": [
    "Another essential point before embarking on the task of feature reduction is a visual assessment of the data's correlation using a correlation matrix. Using this matrix, we can manually remove highly correlated attributes. We can use an automatic technique such as PCA if this is insufficient."
   ]
  },
  {
   "cell_type": "code",
   "execution_count": 222,
   "metadata": {},
   "outputs": [
    {
     "name": "stdout",
     "output_type": "stream",
     "text": [
      "                   MPG  Cylinders  Displacement  Horsepower    Weight  \\\n",
      "MPG           1.000000  -0.735563     -0.764277   -0.726670 -0.787510   \n",
      "Cylinders    -0.735563   1.000000      0.951787    0.823467  0.895220   \n",
      "Displacement -0.764277   0.951787      1.000000    0.873758  0.932475   \n",
      "Horsepower   -0.726670   0.823467      0.873758    1.000000  0.840811   \n",
      "Weight       -0.787510   0.895220      0.932475    0.840811  1.000000   \n",
      "Acceleration  0.424490  -0.522452     -0.557984   -0.682047 -0.430086   \n",
      "Model         0.586234  -0.360762     -0.381714   -0.419929 -0.315389   \n",
      "\n",
      "              Acceleration     Model  \n",
      "MPG               0.424490  0.586234  \n",
      "Cylinders        -0.522452 -0.360762  \n",
      "Displacement     -0.557984 -0.381714  \n",
      "Horsepower       -0.682047 -0.419929  \n",
      "Weight           -0.430086 -0.315389  \n",
      "Acceleration      1.000000  0.301992  \n",
      "Model             0.301992  1.000000  \n"
     ]
    }
   ],
   "source": [
    "corr_matrix = df2.corr()\n",
    "print(corr_matrix)"
   ]
  },
  {
   "cell_type": "markdown",
   "metadata": {},
   "source": [
    "The correlation matrix can be visualized using the *seaborn* library. The following code can help us do that."
   ]
  },
  {
   "cell_type": "code",
   "execution_count": 223,
   "metadata": {},
   "outputs": [
    {
     "data": {
      "image/png": "[encoded data removed]",
      "text/plain": [
       "<Figure size 640x480 with 2 Axes>"
      ]
     },
     "metadata": {},
     "output_type": "display_data"
    }
   ],
   "source": [
    "sn.heatmap(corr_matrix, annot=True)\n",
    "plt.show()"
   ]
  },
  {
   "cell_type": "markdown",
   "metadata": {},
   "source": [
    "A correlation matrix is a valuable tool in data mining and machine learning, particularly for feature selection, dimensionality reduction, and understanding relationships between variables. Indeed, in machine learning, highly correlated features (both positive and negative) often provide redundant information. Using a correlation matrix, you can identify pairs of variables that are highly correlated (correlation values close to +1 or -1). Including both in a model may lead to multicollinearity, making the model more complex, harder to interpret, and less stable. In addition, the correlation matrix gives insight into relationships between independent variables, and between the independent and dependent variables. This can guide feature engineering, where you might create new features that capture those relationships more effectively."
   ]
  },
  {
   "cell_type": "markdown",
   "metadata": {},
   "source": [
    "### Clustering using K-means and PCA"
   ]
  },
  {
   "cell_type": "markdown",
   "metadata": {},
   "source": [
    "Visualizing the clustering results can become challenging when working with datasets with multiple features, especially if there are more than two dimensions. In such cases, Principal Component Analysis (PCA) plays a crucial role in reducing the dimensionality of the data while preserving as much of the variance as possible. PCA allows us to project high-dimensional data into a lower-dimensional space, typically two or three dimensions, which makes it feasible to represent the data in a scatter plot."
   ]
  },
  {
   "cell_type": "code",
   "execution_count": 224,
   "metadata": {},
   "outputs": [
    {
     "name": "stderr",
     "output_type": "stream",
     "text": [
      "c:\\Users\\guill\\anaconda3\\Lib\\site-packages\\sklearn\\cluster\\_kmeans.py:1446: UserWarning: KMeans is known to have a memory leak on Windows with MKL, when there are less chunks than available threads. You can avoid it by setting the environment variable OMP_NUM_THREADS=2.\n",
      "  warnings.warn(\n"
     ]
    },
    {
     "data": {
      "text/plain": [
       "array([0, 1, 0, 0, 0, 1, 1, 1, 1, 1, 0, 1, 1, 1, 1, 0, 0, 0, 1, 0, 2, 0,\n",
       "       0, 2, 2, 2, 2, 2, 2, 2, 2, 1, 1, 1, 1, 2, 2, 2, 2, 2, 2, 0, 0, 0,\n",
       "       0, 1, 1, 1, 1, 1, 1, 1, 0, 2, 0, 0, 2, 2, 2, 2, 2, 2, 2, 2, 2, 2,\n",
       "       2, 2, 2, 1, 1, 1, 1, 0, 1, 1, 1, 1, 2, 1, 1, 1, 1, 0, 2, 0, 2, 2,\n",
       "       2, 2, 2, 2, 1, 0, 1, 1, 1, 1, 1, 1, 1, 1, 1, 1, 0, 0, 0, 0, 0, 2,\n",
       "       1, 1, 1, 1, 0, 2, 2, 2, 2, 2, 2, 2, 1, 1, 2, 2, 2, 0, 0, 2, 0, 0,\n",
       "       0, 0, 0, 0, 2, 2, 2, 2, 1, 0, 0, 1, 1, 1, 1, 1, 2, 2, 2, 2, 2, 2,\n",
       "       2, 2, 2, 2, 2, 0, 0, 0, 0, 1, 1, 1, 1, 1, 1, 1, 1, 0, 0, 0, 2, 2,\n",
       "       0, 2, 0, 2, 2, 0, 2, 0, 0, 0, 0, 2, 2, 2, 2, 2, 2, 2, 1, 1, 1, 1,\n",
       "       0, 0, 0, 0, 2, 2, 2, 2, 0, 0, 0, 0, 2, 2, 2, 2, 0, 1, 0, 0, 1, 1,\n",
       "       1, 1, 1, 2, 2, 2, 2, 2, 1, 1, 1, 1, 0, 0, 0, 0, 1, 1, 1, 1, 2, 0,\n",
       "       2, 0, 2, 2, 2, 2, 0, 2, 0, 2, 2, 2, 2, 2, 0, 1, 0, 0, 0, 0, 0, 0,\n",
       "       0, 0, 0, 0, 0, 0, 0, 0, 1, 2, 2, 2, 2, 2, 0, 0, 2, 0, 0, 0, 0, 2,\n",
       "       2, 0, 0, 0, 0, 0, 1, 1, 1, 1, 1, 1, 0, 1, 2, 2, 2, 2, 0, 1, 0, 0,\n",
       "       2, 2, 2, 2, 2, 2, 0, 2, 2, 2, 2, 2, 2, 0, 0, 0, 2, 0, 2, 2, 2, 2,\n",
       "       0, 2, 2, 2, 0, 0, 2, 2, 2, 2, 0, 2, 2, 0, 2, 2, 2, 2, 0, 2, 2, 2,\n",
       "       2, 2, 2, 2, 2, 2, 2, 2, 2, 2, 2, 2, 2, 2, 0, 0, 0, 0, 0, 0, 1, 0,\n",
       "       0, 2, 2, 2, 2, 2, 0, 0, 0, 2, 2, 2, 2, 2, 2, 2, 2, 2, 2, 2, 0, 0,\n",
       "       2, 0, 2, 2, 0, 0, 2, 2, 2, 0])"
      ]
     },
     "execution_count": 224,
     "metadata": {},
     "output_type": "execute_result"
    }
   ],
   "source": [
    "from sklearn.cluster import KMeans\n",
    "\n",
    "kmeans = KMeans(init=\"random\", n_clusters=3, n_init=10, random_state=1) # The KMeans class in instanciate\n",
    "kmeans.fit(df2) # The instance of KMeans class is applied to our dataframe\n",
    "kmeans.labels_ # Method to show the labels/clusters for each row"
   ]
  },
  {
   "cell_type": "code",
   "execution_count": 225,
   "metadata": {},
   "outputs": [],
   "source": [
    "df2['cluster'] = kmeans.labels_"
   ]
  },
  {
   "cell_type": "code",
   "execution_count": 226,
   "metadata": {},
   "outputs": [
    {
     "data": {
      "text/html": [
       "<div>\n",
       "<style scoped>\n",
       "    .dataframe tbody tr th:only-of-type {\n",
       "        vertical-align: middle;\n",
       "    }\n",
       "\n",
       "    .dataframe tbody tr th {\n",
       "        vertical-align: top;\n",
       "    }\n",
       "\n",
       "    .dataframe thead th {\n",
       "        text-align: right;\n",
       "    }\n",
       "</style>\n",
       "<table border=\"1\" class=\"dataframe\">\n",
       "  <thead>\n",
       "    <tr style=\"text-align: right;\">\n",
       "      <th></th>\n",
       "      <th>MPG</th>\n",
       "      <th>Cylinders</th>\n",
       "      <th>Displacement</th>\n",
       "      <th>Horsepower</th>\n",
       "      <th>Weight</th>\n",
       "      <th>Acceleration</th>\n",
       "      <th>Model</th>\n",
       "      <th>cluster</th>\n",
       "    </tr>\n",
       "  </thead>\n",
       "  <tbody>\n",
       "    <tr>\n",
       "      <th>1</th>\n",
       "      <td>18.0</td>\n",
       "      <td>8.0</td>\n",
       "      <td>307.0</td>\n",
       "      <td>130.0</td>\n",
       "      <td>3504.0</td>\n",
       "      <td>12.0</td>\n",
       "      <td>70.0</td>\n",
       "      <td>0</td>\n",
       "    </tr>\n",
       "    <tr>\n",
       "      <th>2</th>\n",
       "      <td>15.0</td>\n",
       "      <td>8.0</td>\n",
       "      <td>350.0</td>\n",
       "      <td>165.0</td>\n",
       "      <td>3693.0</td>\n",
       "      <td>11.5</td>\n",
       "      <td>70.0</td>\n",
       "      <td>1</td>\n",
       "    </tr>\n",
       "    <tr>\n",
       "      <th>3</th>\n",
       "      <td>18.0</td>\n",
       "      <td>8.0</td>\n",
       "      <td>318.0</td>\n",
       "      <td>150.0</td>\n",
       "      <td>3436.0</td>\n",
       "      <td>11.0</td>\n",
       "      <td>70.0</td>\n",
       "      <td>0</td>\n",
       "    </tr>\n",
       "    <tr>\n",
       "      <th>4</th>\n",
       "      <td>16.0</td>\n",
       "      <td>8.0</td>\n",
       "      <td>304.0</td>\n",
       "      <td>150.0</td>\n",
       "      <td>3433.0</td>\n",
       "      <td>12.0</td>\n",
       "      <td>70.0</td>\n",
       "      <td>0</td>\n",
       "    </tr>\n",
       "    <tr>\n",
       "      <th>5</th>\n",
       "      <td>17.0</td>\n",
       "      <td>8.0</td>\n",
       "      <td>302.0</td>\n",
       "      <td>140.0</td>\n",
       "      <td>3449.0</td>\n",
       "      <td>10.5</td>\n",
       "      <td>70.0</td>\n",
       "      <td>0</td>\n",
       "    </tr>\n",
       "  </tbody>\n",
       "</table>\n",
       "</div>"
      ],
      "text/plain": [
       "    MPG  Cylinders  Displacement  Horsepower  Weight  Acceleration  Model  \\\n",
       "1  18.0        8.0         307.0       130.0  3504.0          12.0   70.0   \n",
       "2  15.0        8.0         350.0       165.0  3693.0          11.5   70.0   \n",
       "3  18.0        8.0         318.0       150.0  3436.0          11.0   70.0   \n",
       "4  16.0        8.0         304.0       150.0  3433.0          12.0   70.0   \n",
       "5  17.0        8.0         302.0       140.0  3449.0          10.5   70.0   \n",
       "\n",
       "   cluster  \n",
       "1        0  \n",
       "2        1  \n",
       "3        0  \n",
       "4        0  \n",
       "5        0  "
      ]
     },
     "execution_count": 226,
     "metadata": {},
     "output_type": "execute_result"
    }
   ],
   "source": [
    "df2.head()"
   ]
  },
  {
   "cell_type": "markdown",
   "metadata": {},
   "source": [
    "Now, we can take two features to visualize the clusters formed. For example, we use displacement (on the X-axis) and acceleration (on the Y-axis) as features, and the *cluster* feature is used to color our statements. The following line does this."
   ]
  },
  {
   "cell_type": "code",
   "execution_count": 227,
   "metadata": {},
   "outputs": [
    {
     "data": {
      "text/plain": [
       "<matplotlib.collections.PathCollection at 0x1c297e9b350>"
      ]
     },
     "execution_count": 227,
     "metadata": {},
     "output_type": "execute_result"
    },
    {
     "data": {
      "image/png": "[encoded data removed]",
      "text/plain": [
       "<Figure size 640x480 with 1 Axes>"
      ]
     },
     "metadata": {},
     "output_type": "display_data"
    }
   ],
   "source": [
    "plt.scatter(df2.Displacement, df2.Acceleration, c = df2.cluster, alpha=0.5)"
   ]
  },
  {
   "cell_type": "markdown",
   "metadata": {},
   "source": [
    "As we can see in the previous plot, visualizing clustering becomes problematic, especially if the dataset has many features. Scatter plots are inherently two-dimensional, meaning they can only effectively display two variables simultaneously. If a dataset contains more than two features, it is impossible to represent all the dimensions simultaneously in a single plot, which leads to the loss of important information. Additionally, attempting to visualize multiple feature combinations separately can result in a cluttered and confusing interpretation of the clustering results. Therefore, reducing dimensionality, for instance, using techniques like PCA, is crucial to clarify the most significant patterns from the data and provide a clearer, more interpretable visualization of clusters."
   ]
  },
  {
   "cell_type": "markdown",
   "metadata": {},
   "source": [
    "### Challenge 1 (2 puntos)"
   ]
  },
  {
   "cell_type": "markdown",
   "metadata": {},
   "source": [
    "In this challenge, we will apply Principal Component Analysis (PCA) to visualize the results of a clustering algorithm on a multi-dimensional dataset. The goal is to reduce the dimensionality of the dataset to two principal components and plot a scatter plot where each data point is colored according to its assigned cluster. The steps involve applying a clustering algorithm (e.g., K-means) to a dataset dataframe called DF2, then using PCA to project the data into a 2D space. The resulting scatter plot should clearly show the distribution of the clusters, allowing for an intuitive visual analysis of their separation. \n",
    "\n",
    "**Note**: Remember that the PCA technique should only use features describing the vehicles. Then, the new column called cluster should be integrated after the PCA results."
   ]
  },
  {
   "cell_type": "markdown",
   "metadata": {},
   "source": [
    "### Dans ce qui suit je vais faire les clusters et la PCA pour le dataset cars.csv sans compter la colonne Car et origin"
   ]
  },
  {
   "cell_type": "code",
   "execution_count": 228,
   "metadata": {},
   "outputs": [
    {
     "data": {
      "text/html": [
       "<div>\n",
       "<style scoped>\n",
       "    .dataframe tbody tr th:only-of-type {\n",
       "        vertical-align: middle;\n",
       "    }\n",
       "\n",
       "    .dataframe tbody tr th {\n",
       "        vertical-align: top;\n",
       "    }\n",
       "\n",
       "    .dataframe thead th {\n",
       "        text-align: right;\n",
       "    }\n",
       "</style>\n",
       "<table border=\"1\" class=\"dataframe\">\n",
       "  <thead>\n",
       "    <tr style=\"text-align: right;\">\n",
       "      <th></th>\n",
       "      <th>MPG</th>\n",
       "      <th>Cylinders</th>\n",
       "      <th>Displacement</th>\n",
       "      <th>Horsepower</th>\n",
       "      <th>Weight</th>\n",
       "      <th>Acceleration</th>\n",
       "      <th>Model</th>\n",
       "    </tr>\n",
       "  </thead>\n",
       "  <tbody>\n",
       "    <tr>\n",
       "      <th>1</th>\n",
       "      <td>18.0</td>\n",
       "      <td>8</td>\n",
       "      <td>307.0</td>\n",
       "      <td>130.0</td>\n",
       "      <td>3504.</td>\n",
       "      <td>12.0</td>\n",
       "      <td>70</td>\n",
       "    </tr>\n",
       "    <tr>\n",
       "      <th>2</th>\n",
       "      <td>15.0</td>\n",
       "      <td>8</td>\n",
       "      <td>350.0</td>\n",
       "      <td>165.0</td>\n",
       "      <td>3693.</td>\n",
       "      <td>11.5</td>\n",
       "      <td>70</td>\n",
       "    </tr>\n",
       "    <tr>\n",
       "      <th>3</th>\n",
       "      <td>18.0</td>\n",
       "      <td>8</td>\n",
       "      <td>318.0</td>\n",
       "      <td>150.0</td>\n",
       "      <td>3436.</td>\n",
       "      <td>11.0</td>\n",
       "      <td>70</td>\n",
       "    </tr>\n",
       "    <tr>\n",
       "      <th>4</th>\n",
       "      <td>16.0</td>\n",
       "      <td>8</td>\n",
       "      <td>304.0</td>\n",
       "      <td>150.0</td>\n",
       "      <td>3433.</td>\n",
       "      <td>12.0</td>\n",
       "      <td>70</td>\n",
       "    </tr>\n",
       "    <tr>\n",
       "      <th>5</th>\n",
       "      <td>17.0</td>\n",
       "      <td>8</td>\n",
       "      <td>302.0</td>\n",
       "      <td>140.0</td>\n",
       "      <td>3449.</td>\n",
       "      <td>10.5</td>\n",
       "      <td>70</td>\n",
       "    </tr>\n",
       "  </tbody>\n",
       "</table>\n",
       "</div>"
      ],
      "text/plain": [
       "    MPG Cylinders Displacement Horsepower Weight Acceleration Model\n",
       "1  18.0         8        307.0      130.0  3504.         12.0    70\n",
       "2  15.0         8        350.0      165.0  3693.         11.5    70\n",
       "3  18.0         8        318.0      150.0  3436.         11.0    70\n",
       "4  16.0         8        304.0      150.0  3433.         12.0    70\n",
       "5  17.0         8        302.0      140.0  3449.         10.5    70"
      ]
     },
     "execution_count": 228,
     "metadata": {},
     "output_type": "execute_result"
    }
   ],
   "source": [
    "#Sans Car et origin et encoder\n",
    "DF2 = pd.read_csv(\"cars.csv\", sep=\";\", decimal=\".\", engine='python')\n",
    "DF2 = DF2.iloc[1: , 1:]\n",
    "del DF2[DF2.columns[-1]]\n",
    "DF2.head()"
   ]
  },
  {
   "cell_type": "markdown",
   "metadata": {},
   "source": [
    "Je vais regarder le type des colonnes"
   ]
  },
  {
   "cell_type": "code",
   "execution_count": 229,
   "metadata": {},
   "outputs": [
    {
     "data": {
      "text/plain": [
       "MPG             object\n",
       "Cylinders       object\n",
       "Displacement    object\n",
       "Horsepower      object\n",
       "Weight          object\n",
       "Acceleration    object\n",
       "Model           object\n",
       "dtype: object"
      ]
     },
     "execution_count": 229,
     "metadata": {},
     "output_type": "execute_result"
    }
   ],
   "source": [
    "DF2.dtypes"
   ]
  },
  {
   "cell_type": "markdown",
   "metadata": {},
   "source": [
    "Je modifie le type des colonnes en float"
   ]
  },
  {
   "cell_type": "code",
   "execution_count": 230,
   "metadata": {},
   "outputs": [
    {
     "data": {
      "text/plain": [
       "MPG             float64\n",
       "Cylinders       float64\n",
       "Displacement    float64\n",
       "Horsepower      float64\n",
       "Weight          float64\n",
       "Acceleration    float64\n",
       "Model           float64\n",
       "dtype: object"
      ]
     },
     "execution_count": 230,
     "metadata": {},
     "output_type": "execute_result"
    }
   ],
   "source": [
    "DF2 = DF2.astype('float')\n",
    "DF2.dtypes"
   ]
  },
  {
   "cell_type": "code",
   "execution_count": 231,
   "metadata": {},
   "outputs": [],
   "source": [
    "from sklearn.decomposition import PCA\n",
    "from sklearn.cluster import KMeans\n",
    "import matplotlib.pyplot as plt\n",
    "from sklearn.preprocessing import StandardScaler"
   ]
  },
  {
   "cell_type": "code",
   "execution_count": 232,
   "metadata": {},
   "outputs": [
    {
     "name": "stderr",
     "output_type": "stream",
     "text": [
      "c:\\Users\\guill\\anaconda3\\Lib\\site-packages\\sklearn\\cluster\\_kmeans.py:1446: UserWarning: KMeans is known to have a memory leak on Windows with MKL, when there are less chunks than available threads. You can avoid it by setting the environment variable OMP_NUM_THREADS=2.\n",
      "  warnings.warn(\n"
     ]
    }
   ],
   "source": [
    "scaler = StandardScaler()\n",
    "DF2_scaled = scaler.fit_transform(DF2) #Pour une mise à l'echelle avant de faire le clustering et la PCA\n",
    "\n",
    "kmeans = KMeans(n_clusters=3, random_state=1) # On fait un clustering avec 3 clusters\n",
    "DF2['cluster'] = kmeans.fit_predict(DF2_scaled)"
   ]
  },
  {
   "cell_type": "code",
   "execution_count": 233,
   "metadata": {},
   "outputs": [
    {
     "data": {
      "text/html": [
       "<div>\n",
       "<style scoped>\n",
       "    .dataframe tbody tr th:only-of-type {\n",
       "        vertical-align: middle;\n",
       "    }\n",
       "\n",
       "    .dataframe tbody tr th {\n",
       "        vertical-align: top;\n",
       "    }\n",
       "\n",
       "    .dataframe thead th {\n",
       "        text-align: right;\n",
       "    }\n",
       "</style>\n",
       "<table border=\"1\" class=\"dataframe\">\n",
       "  <thead>\n",
       "    <tr style=\"text-align: right;\">\n",
       "      <th></th>\n",
       "      <th>MPG</th>\n",
       "      <th>Cylinders</th>\n",
       "      <th>Displacement</th>\n",
       "      <th>Horsepower</th>\n",
       "      <th>Weight</th>\n",
       "      <th>Acceleration</th>\n",
       "      <th>Model</th>\n",
       "      <th>cluster</th>\n",
       "    </tr>\n",
       "  </thead>\n",
       "  <tbody>\n",
       "    <tr>\n",
       "      <th>1</th>\n",
       "      <td>18.0</td>\n",
       "      <td>8.0</td>\n",
       "      <td>307.0</td>\n",
       "      <td>130.0</td>\n",
       "      <td>3504.0</td>\n",
       "      <td>12.0</td>\n",
       "      <td>70.0</td>\n",
       "      <td>2</td>\n",
       "    </tr>\n",
       "    <tr>\n",
       "      <th>2</th>\n",
       "      <td>15.0</td>\n",
       "      <td>8.0</td>\n",
       "      <td>350.0</td>\n",
       "      <td>165.0</td>\n",
       "      <td>3693.0</td>\n",
       "      <td>11.5</td>\n",
       "      <td>70.0</td>\n",
       "      <td>2</td>\n",
       "    </tr>\n",
       "    <tr>\n",
       "      <th>3</th>\n",
       "      <td>18.0</td>\n",
       "      <td>8.0</td>\n",
       "      <td>318.0</td>\n",
       "      <td>150.0</td>\n",
       "      <td>3436.0</td>\n",
       "      <td>11.0</td>\n",
       "      <td>70.0</td>\n",
       "      <td>2</td>\n",
       "    </tr>\n",
       "    <tr>\n",
       "      <th>4</th>\n",
       "      <td>16.0</td>\n",
       "      <td>8.0</td>\n",
       "      <td>304.0</td>\n",
       "      <td>150.0</td>\n",
       "      <td>3433.0</td>\n",
       "      <td>12.0</td>\n",
       "      <td>70.0</td>\n",
       "      <td>2</td>\n",
       "    </tr>\n",
       "    <tr>\n",
       "      <th>5</th>\n",
       "      <td>17.0</td>\n",
       "      <td>8.0</td>\n",
       "      <td>302.0</td>\n",
       "      <td>140.0</td>\n",
       "      <td>3449.0</td>\n",
       "      <td>10.5</td>\n",
       "      <td>70.0</td>\n",
       "      <td>2</td>\n",
       "    </tr>\n",
       "    <tr>\n",
       "      <th>...</th>\n",
       "      <td>...</td>\n",
       "      <td>...</td>\n",
       "      <td>...</td>\n",
       "      <td>...</td>\n",
       "      <td>...</td>\n",
       "      <td>...</td>\n",
       "      <td>...</td>\n",
       "      <td>...</td>\n",
       "    </tr>\n",
       "    <tr>\n",
       "      <th>402</th>\n",
       "      <td>27.0</td>\n",
       "      <td>4.0</td>\n",
       "      <td>140.0</td>\n",
       "      <td>86.0</td>\n",
       "      <td>2790.0</td>\n",
       "      <td>15.6</td>\n",
       "      <td>82.0</td>\n",
       "      <td>1</td>\n",
       "    </tr>\n",
       "    <tr>\n",
       "      <th>403</th>\n",
       "      <td>44.0</td>\n",
       "      <td>4.0</td>\n",
       "      <td>97.0</td>\n",
       "      <td>52.0</td>\n",
       "      <td>2130.0</td>\n",
       "      <td>24.6</td>\n",
       "      <td>82.0</td>\n",
       "      <td>1</td>\n",
       "    </tr>\n",
       "    <tr>\n",
       "      <th>404</th>\n",
       "      <td>32.0</td>\n",
       "      <td>4.0</td>\n",
       "      <td>135.0</td>\n",
       "      <td>84.0</td>\n",
       "      <td>2295.0</td>\n",
       "      <td>11.6</td>\n",
       "      <td>82.0</td>\n",
       "      <td>1</td>\n",
       "    </tr>\n",
       "    <tr>\n",
       "      <th>405</th>\n",
       "      <td>28.0</td>\n",
       "      <td>4.0</td>\n",
       "      <td>120.0</td>\n",
       "      <td>79.0</td>\n",
       "      <td>2625.0</td>\n",
       "      <td>18.6</td>\n",
       "      <td>82.0</td>\n",
       "      <td>1</td>\n",
       "    </tr>\n",
       "    <tr>\n",
       "      <th>406</th>\n",
       "      <td>31.0</td>\n",
       "      <td>4.0</td>\n",
       "      <td>119.0</td>\n",
       "      <td>82.0</td>\n",
       "      <td>2720.0</td>\n",
       "      <td>19.4</td>\n",
       "      <td>82.0</td>\n",
       "      <td>1</td>\n",
       "    </tr>\n",
       "  </tbody>\n",
       "</table>\n",
       "<p>406 rows × 8 columns</p>\n",
       "</div>"
      ],
      "text/plain": [
       "      MPG  Cylinders  Displacement  Horsepower  Weight  Acceleration  Model  \\\n",
       "1    18.0        8.0         307.0       130.0  3504.0          12.0   70.0   \n",
       "2    15.0        8.0         350.0       165.0  3693.0          11.5   70.0   \n",
       "3    18.0        8.0         318.0       150.0  3436.0          11.0   70.0   \n",
       "4    16.0        8.0         304.0       150.0  3433.0          12.0   70.0   \n",
       "5    17.0        8.0         302.0       140.0  3449.0          10.5   70.0   \n",
       "..    ...        ...           ...         ...     ...           ...    ...   \n",
       "402  27.0        4.0         140.0        86.0  2790.0          15.6   82.0   \n",
       "403  44.0        4.0          97.0        52.0  2130.0          24.6   82.0   \n",
       "404  32.0        4.0         135.0        84.0  2295.0          11.6   82.0   \n",
       "405  28.0        4.0         120.0        79.0  2625.0          18.6   82.0   \n",
       "406  31.0        4.0         119.0        82.0  2720.0          19.4   82.0   \n",
       "\n",
       "     cluster  \n",
       "1          2  \n",
       "2          2  \n",
       "3          2  \n",
       "4          2  \n",
       "5          2  \n",
       "..       ...  \n",
       "402        1  \n",
       "403        1  \n",
       "404        1  \n",
       "405        1  \n",
       "406        1  \n",
       "\n",
       "[406 rows x 8 columns]"
      ]
     },
     "execution_count": 233,
     "metadata": {},
     "output_type": "execute_result"
    }
   ],
   "source": [
    "DF2 #pour voir la nouvelle colonne cluster"
   ]
  },
  {
   "cell_type": "code",
   "execution_count": 234,
   "metadata": {},
   "outputs": [
    {
     "data": {
      "text/plain": [
       "1    207\n",
       "2    100\n",
       "0     99\n",
       "Name: cluster, dtype: int64"
      ]
     },
     "execution_count": 234,
     "metadata": {},
     "output_type": "execute_result"
    }
   ],
   "source": [
    "DF2.cluster.value_counts() #pour voir le nombre d'éléments dans chaque cluster"
   ]
  },
  {
   "cell_type": "code",
   "execution_count": 235,
   "metadata": {},
   "outputs": [],
   "source": [
    "pca = PCA(n_components=2) # on veut reduire à 2 dimensions donc n_components = 2\n",
    "DF2_pca = pca.fit_transform(DF2_scaled)"
   ]
  },
  {
   "cell_type": "code",
   "execution_count": 236,
   "metadata": {},
   "outputs": [
    {
     "data": {
      "image/png": "[encoded data removed]",
      "text/plain": [
       "<Figure size 800x600 with 2 Axes>"
      ]
     },
     "metadata": {},
     "output_type": "display_data"
    }
   ],
   "source": [
    "plt.figure(figsize=(8, 6))\n",
    "plt.scatter(DF2_pca[:, 0], DF2_pca[:, 1], c=DF2['cluster'], cmap='viridis', s=50, alpha=0.7)\n",
    "plt.title('PCA of Vehicle Dataset with K-means Clustering')\n",
    "plt.xlabel('Principal Component 1')\n",
    "plt.ylabel('Principal Component 2')\n",
    "plt.colorbar(label='Cluster')\n",
    "plt.show()"
   ]
  },
  {
   "cell_type": "markdown",
   "metadata": {},
   "source": [
    "### Dans ce qui suit je vais faire les clusters et la PCA pour le dataset cars.csv en comptant la colonne Car et Origin après les avoir encodé"
   ]
  },
  {
   "cell_type": "code",
   "execution_count": 237,
   "metadata": {},
   "outputs": [
    {
     "data": {
      "text/html": [
       "<div>\n",
       "<style scoped>\n",
       "    .dataframe tbody tr th:only-of-type {\n",
       "        vertical-align: middle;\n",
       "    }\n",
       "\n",
       "    .dataframe tbody tr th {\n",
       "        vertical-align: top;\n",
       "    }\n",
       "\n",
       "    .dataframe thead th {\n",
       "        text-align: right;\n",
       "    }\n",
       "</style>\n",
       "<table border=\"1\" class=\"dataframe\">\n",
       "  <thead>\n",
       "    <tr style=\"text-align: right;\">\n",
       "      <th></th>\n",
       "      <th>Car</th>\n",
       "      <th>MPG</th>\n",
       "      <th>Cylinders</th>\n",
       "      <th>Displacement</th>\n",
       "      <th>Horsepower</th>\n",
       "      <th>Weight</th>\n",
       "      <th>Acceleration</th>\n",
       "      <th>Model</th>\n",
       "      <th>Origin</th>\n",
       "    </tr>\n",
       "  </thead>\n",
       "  <tbody>\n",
       "    <tr>\n",
       "      <th>1</th>\n",
       "      <td>Chevrolet Chevelle Malibu</td>\n",
       "      <td>18.0</td>\n",
       "      <td>8</td>\n",
       "      <td>307.0</td>\n",
       "      <td>130.0</td>\n",
       "      <td>3504.</td>\n",
       "      <td>12.0</td>\n",
       "      <td>70</td>\n",
       "      <td>US</td>\n",
       "    </tr>\n",
       "    <tr>\n",
       "      <th>2</th>\n",
       "      <td>Buick Skylark 320</td>\n",
       "      <td>15.0</td>\n",
       "      <td>8</td>\n",
       "      <td>350.0</td>\n",
       "      <td>165.0</td>\n",
       "      <td>3693.</td>\n",
       "      <td>11.5</td>\n",
       "      <td>70</td>\n",
       "      <td>US</td>\n",
       "    </tr>\n",
       "    <tr>\n",
       "      <th>3</th>\n",
       "      <td>Plymouth Satellite</td>\n",
       "      <td>18.0</td>\n",
       "      <td>8</td>\n",
       "      <td>318.0</td>\n",
       "      <td>150.0</td>\n",
       "      <td>3436.</td>\n",
       "      <td>11.0</td>\n",
       "      <td>70</td>\n",
       "      <td>US</td>\n",
       "    </tr>\n",
       "    <tr>\n",
       "      <th>4</th>\n",
       "      <td>AMC Rebel SST</td>\n",
       "      <td>16.0</td>\n",
       "      <td>8</td>\n",
       "      <td>304.0</td>\n",
       "      <td>150.0</td>\n",
       "      <td>3433.</td>\n",
       "      <td>12.0</td>\n",
       "      <td>70</td>\n",
       "      <td>US</td>\n",
       "    </tr>\n",
       "    <tr>\n",
       "      <th>5</th>\n",
       "      <td>Ford Torino</td>\n",
       "      <td>17.0</td>\n",
       "      <td>8</td>\n",
       "      <td>302.0</td>\n",
       "      <td>140.0</td>\n",
       "      <td>3449.</td>\n",
       "      <td>10.5</td>\n",
       "      <td>70</td>\n",
       "      <td>US</td>\n",
       "    </tr>\n",
       "  </tbody>\n",
       "</table>\n",
       "</div>"
      ],
      "text/plain": [
       "                         Car   MPG Cylinders Displacement Horsepower Weight  \\\n",
       "1  Chevrolet Chevelle Malibu  18.0         8        307.0      130.0  3504.   \n",
       "2          Buick Skylark 320  15.0         8        350.0      165.0  3693.   \n",
       "3         Plymouth Satellite  18.0         8        318.0      150.0  3436.   \n",
       "4              AMC Rebel SST  16.0         8        304.0      150.0  3433.   \n",
       "5                Ford Torino  17.0         8        302.0      140.0  3449.   \n",
       "\n",
       "  Acceleration Model Origin  \n",
       "1         12.0    70     US  \n",
       "2         11.5    70     US  \n",
       "3         11.0    70     US  \n",
       "4         12.0    70     US  \n",
       "5         10.5    70     US  "
      ]
     },
     "execution_count": 237,
     "metadata": {},
     "output_type": "execute_result"
    }
   ],
   "source": [
    "#Avec Car et origin et encoder\n",
    "DF2_V2 = pd.read_csv(\"cars.csv\", sep=\";\", decimal=\".\", engine='python')\n",
    "DF2_V2 = DF2_V2.iloc[1: , :]\n",
    "DF2_V2.head()"
   ]
  },
  {
   "cell_type": "code",
   "execution_count": 238,
   "metadata": {},
   "outputs": [
    {
     "data": {
      "text/html": [
       "<div>\n",
       "<style scoped>\n",
       "    .dataframe tbody tr th:only-of-type {\n",
       "        vertical-align: middle;\n",
       "    }\n",
       "\n",
       "    .dataframe tbody tr th {\n",
       "        vertical-align: top;\n",
       "    }\n",
       "\n",
       "    .dataframe thead th {\n",
       "        text-align: right;\n",
       "    }\n",
       "</style>\n",
       "<table border=\"1\" class=\"dataframe\">\n",
       "  <thead>\n",
       "    <tr style=\"text-align: right;\">\n",
       "      <th></th>\n",
       "      <th>Car</th>\n",
       "      <th>MPG</th>\n",
       "      <th>Cylinders</th>\n",
       "      <th>Displacement</th>\n",
       "      <th>Horsepower</th>\n",
       "      <th>Weight</th>\n",
       "      <th>Acceleration</th>\n",
       "      <th>Model</th>\n",
       "      <th>Origin</th>\n",
       "    </tr>\n",
       "  </thead>\n",
       "  <tbody>\n",
       "    <tr>\n",
       "      <th>1</th>\n",
       "      <td>50.0</td>\n",
       "      <td>18.0</td>\n",
       "      <td>8</td>\n",
       "      <td>307.0</td>\n",
       "      <td>130.0</td>\n",
       "      <td>3504.</td>\n",
       "      <td>12.0</td>\n",
       "      <td>70</td>\n",
       "      <td>2.0</td>\n",
       "    </tr>\n",
       "    <tr>\n",
       "      <th>2</th>\n",
       "      <td>37.0</td>\n",
       "      <td>15.0</td>\n",
       "      <td>8</td>\n",
       "      <td>350.0</td>\n",
       "      <td>165.0</td>\n",
       "      <td>3693.</td>\n",
       "      <td>11.5</td>\n",
       "      <td>70</td>\n",
       "      <td>2.0</td>\n",
       "    </tr>\n",
       "    <tr>\n",
       "      <th>3</th>\n",
       "      <td>235.0</td>\n",
       "      <td>18.0</td>\n",
       "      <td>8</td>\n",
       "      <td>318.0</td>\n",
       "      <td>150.0</td>\n",
       "      <td>3436.</td>\n",
       "      <td>11.0</td>\n",
       "      <td>70</td>\n",
       "      <td>2.0</td>\n",
       "    </tr>\n",
       "    <tr>\n",
       "      <th>4</th>\n",
       "      <td>14.0</td>\n",
       "      <td>16.0</td>\n",
       "      <td>8</td>\n",
       "      <td>304.0</td>\n",
       "      <td>150.0</td>\n",
       "      <td>3433.</td>\n",
       "      <td>12.0</td>\n",
       "      <td>70</td>\n",
       "      <td>2.0</td>\n",
       "    </tr>\n",
       "    <tr>\n",
       "      <th>5</th>\n",
       "      <td>164.0</td>\n",
       "      <td>17.0</td>\n",
       "      <td>8</td>\n",
       "      <td>302.0</td>\n",
       "      <td>140.0</td>\n",
       "      <td>3449.</td>\n",
       "      <td>10.5</td>\n",
       "      <td>70</td>\n",
       "      <td>2.0</td>\n",
       "    </tr>\n",
       "  </tbody>\n",
       "</table>\n",
       "</div>"
      ],
      "text/plain": [
       "     Car   MPG Cylinders Displacement Horsepower Weight Acceleration Model  \\\n",
       "1   50.0  18.0         8        307.0      130.0  3504.         12.0    70   \n",
       "2   37.0  15.0         8        350.0      165.0  3693.         11.5    70   \n",
       "3  235.0  18.0         8        318.0      150.0  3436.         11.0    70   \n",
       "4   14.0  16.0         8        304.0      150.0  3433.         12.0    70   \n",
       "5  164.0  17.0         8        302.0      140.0  3449.         10.5    70   \n",
       "\n",
       "   Origin  \n",
       "1     2.0  \n",
       "2     2.0  \n",
       "3     2.0  \n",
       "4     2.0  \n",
       "5     2.0  "
      ]
     },
     "execution_count": 238,
     "metadata": {},
     "output_type": "execute_result"
    }
   ],
   "source": [
    "#Encodage des colonnes Car et Origin\n",
    "\n",
    "from sklearn.preprocessing import OrdinalEncoder\n",
    "\n",
    "encoder = OrdinalEncoder()\n",
    "\n",
    "columns_to_encode = ['Car', 'Origin']\n",
    "\n",
    "DF2_V2[columns_to_encode] = encoder.fit_transform(DF2_V2[columns_to_encode])\n",
    "\n",
    "DF2_V2.head()"
   ]
  },
  {
   "cell_type": "code",
   "execution_count": 239,
   "metadata": {},
   "outputs": [
    {
     "data": {
      "text/plain": [
       "Car             float64\n",
       "MPG              object\n",
       "Cylinders        object\n",
       "Displacement     object\n",
       "Horsepower       object\n",
       "Weight           object\n",
       "Acceleration     object\n",
       "Model            object\n",
       "Origin          float64\n",
       "dtype: object"
      ]
     },
     "execution_count": 239,
     "metadata": {},
     "output_type": "execute_result"
    }
   ],
   "source": [
    "DF2_V2.dtypes"
   ]
  },
  {
   "cell_type": "code",
   "execution_count": 240,
   "metadata": {},
   "outputs": [],
   "source": [
    "DF2_V2 = DF2_V2.astype('float') #Pour convertir les toutes colonnes en float"
   ]
  },
  {
   "cell_type": "code",
   "execution_count": 241,
   "metadata": {},
   "outputs": [
    {
     "data": {
      "text/plain": [
       "Car             float64\n",
       "MPG             float64\n",
       "Cylinders       float64\n",
       "Displacement    float64\n",
       "Horsepower      float64\n",
       "Weight          float64\n",
       "Acceleration    float64\n",
       "Model           float64\n",
       "Origin          float64\n",
       "dtype: object"
      ]
     },
     "execution_count": 241,
     "metadata": {},
     "output_type": "execute_result"
    }
   ],
   "source": [
    "DF2_V2.dtypes"
   ]
  },
  {
   "cell_type": "code",
   "execution_count": 243,
   "metadata": {},
   "outputs": [],
   "source": [
    "from sklearn.decomposition import PCA\n",
    "from sklearn.cluster import KMeans\n",
    "import matplotlib.pyplot as plt\n",
    "from sklearn.preprocessing import StandardScaler"
   ]
  },
  {
   "cell_type": "code",
   "execution_count": 244,
   "metadata": {},
   "outputs": [
    {
     "name": "stderr",
     "output_type": "stream",
     "text": [
      "c:\\Users\\guill\\anaconda3\\Lib\\site-packages\\sklearn\\cluster\\_kmeans.py:1446: UserWarning: KMeans is known to have a memory leak on Windows with MKL, when there are less chunks than available threads. You can avoid it by setting the environment variable OMP_NUM_THREADS=2.\n",
      "  warnings.warn(\n"
     ]
    }
   ],
   "source": [
    "scaler = StandardScaler()\n",
    "DF2_V2_scaled = scaler.fit_transform(DF2_V2) #Pour une mise à l'echelle avant de faire le clustering et la PCA\n",
    "\n",
    "kmeans = KMeans(n_clusters=3, random_state=1) # On fait un clustering avec 3 clusters\n",
    "DF2_V2['cluster'] = kmeans.fit_predict(DF2_V2_scaled)"
   ]
  },
  {
   "cell_type": "code",
   "execution_count": 248,
   "metadata": {},
   "outputs": [
    {
     "data": {
      "text/html": [
       "<div>\n",
       "<style scoped>\n",
       "    .dataframe tbody tr th:only-of-type {\n",
       "        vertical-align: middle;\n",
       "    }\n",
       "\n",
       "    .dataframe tbody tr th {\n",
       "        vertical-align: top;\n",
       "    }\n",
       "\n",
       "    .dataframe thead th {\n",
       "        text-align: right;\n",
       "    }\n",
       "</style>\n",
       "<table border=\"1\" class=\"dataframe\">\n",
       "  <thead>\n",
       "    <tr style=\"text-align: right;\">\n",
       "      <th></th>\n",
       "      <th>Car</th>\n",
       "      <th>MPG</th>\n",
       "      <th>Cylinders</th>\n",
       "      <th>Displacement</th>\n",
       "      <th>Horsepower</th>\n",
       "      <th>Weight</th>\n",
       "      <th>Acceleration</th>\n",
       "      <th>Model</th>\n",
       "      <th>Origin</th>\n",
       "      <th>cluster</th>\n",
       "    </tr>\n",
       "  </thead>\n",
       "  <tbody>\n",
       "    <tr>\n",
       "      <th>1</th>\n",
       "      <td>50.0</td>\n",
       "      <td>18.0</td>\n",
       "      <td>8.0</td>\n",
       "      <td>307.0</td>\n",
       "      <td>130.0</td>\n",
       "      <td>3504.0</td>\n",
       "      <td>12.0</td>\n",
       "      <td>70.0</td>\n",
       "      <td>2.0</td>\n",
       "      <td>2</td>\n",
       "    </tr>\n",
       "    <tr>\n",
       "      <th>2</th>\n",
       "      <td>37.0</td>\n",
       "      <td>15.0</td>\n",
       "      <td>8.0</td>\n",
       "      <td>350.0</td>\n",
       "      <td>165.0</td>\n",
       "      <td>3693.0</td>\n",
       "      <td>11.5</td>\n",
       "      <td>70.0</td>\n",
       "      <td>2.0</td>\n",
       "      <td>2</td>\n",
       "    </tr>\n",
       "    <tr>\n",
       "      <th>3</th>\n",
       "      <td>235.0</td>\n",
       "      <td>18.0</td>\n",
       "      <td>8.0</td>\n",
       "      <td>318.0</td>\n",
       "      <td>150.0</td>\n",
       "      <td>3436.0</td>\n",
       "      <td>11.0</td>\n",
       "      <td>70.0</td>\n",
       "      <td>2.0</td>\n",
       "      <td>2</td>\n",
       "    </tr>\n",
       "    <tr>\n",
       "      <th>4</th>\n",
       "      <td>14.0</td>\n",
       "      <td>16.0</td>\n",
       "      <td>8.0</td>\n",
       "      <td>304.0</td>\n",
       "      <td>150.0</td>\n",
       "      <td>3433.0</td>\n",
       "      <td>12.0</td>\n",
       "      <td>70.0</td>\n",
       "      <td>2.0</td>\n",
       "      <td>2</td>\n",
       "    </tr>\n",
       "    <tr>\n",
       "      <th>5</th>\n",
       "      <td>164.0</td>\n",
       "      <td>17.0</td>\n",
       "      <td>8.0</td>\n",
       "      <td>302.0</td>\n",
       "      <td>140.0</td>\n",
       "      <td>3449.0</td>\n",
       "      <td>10.5</td>\n",
       "      <td>70.0</td>\n",
       "      <td>2.0</td>\n",
       "      <td>2</td>\n",
       "    </tr>\n",
       "    <tr>\n",
       "      <th>...</th>\n",
       "      <td>...</td>\n",
       "      <td>...</td>\n",
       "      <td>...</td>\n",
       "      <td>...</td>\n",
       "      <td>...</td>\n",
       "      <td>...</td>\n",
       "      <td>...</td>\n",
       "      <td>...</td>\n",
       "      <td>...</td>\n",
       "      <td>...</td>\n",
       "    </tr>\n",
       "    <tr>\n",
       "      <th>402</th>\n",
       "      <td>156.0</td>\n",
       "      <td>27.0</td>\n",
       "      <td>4.0</td>\n",
       "      <td>140.0</td>\n",
       "      <td>86.0</td>\n",
       "      <td>2790.0</td>\n",
       "      <td>15.6</td>\n",
       "      <td>82.0</td>\n",
       "      <td>2.0</td>\n",
       "      <td>0</td>\n",
       "    </tr>\n",
       "    <tr>\n",
       "      <th>403</th>\n",
       "      <td>292.0</td>\n",
       "      <td>44.0</td>\n",
       "      <td>4.0</td>\n",
       "      <td>97.0</td>\n",
       "      <td>52.0</td>\n",
       "      <td>2130.0</td>\n",
       "      <td>24.6</td>\n",
       "      <td>82.0</td>\n",
       "      <td>0.0</td>\n",
       "      <td>1</td>\n",
       "    </tr>\n",
       "    <tr>\n",
       "      <th>404</th>\n",
       "      <td>121.0</td>\n",
       "      <td>32.0</td>\n",
       "      <td>4.0</td>\n",
       "      <td>135.0</td>\n",
       "      <td>84.0</td>\n",
       "      <td>2295.0</td>\n",
       "      <td>11.6</td>\n",
       "      <td>82.0</td>\n",
       "      <td>2.0</td>\n",
       "      <td>0</td>\n",
       "    </tr>\n",
       "    <tr>\n",
       "      <th>405</th>\n",
       "      <td>162.0</td>\n",
       "      <td>28.0</td>\n",
       "      <td>4.0</td>\n",
       "      <td>120.0</td>\n",
       "      <td>79.0</td>\n",
       "      <td>2625.0</td>\n",
       "      <td>18.6</td>\n",
       "      <td>82.0</td>\n",
       "      <td>2.0</td>\n",
       "      <td>0</td>\n",
       "    </tr>\n",
       "    <tr>\n",
       "      <th>406</th>\n",
       "      <td>70.0</td>\n",
       "      <td>31.0</td>\n",
       "      <td>4.0</td>\n",
       "      <td>119.0</td>\n",
       "      <td>82.0</td>\n",
       "      <td>2720.0</td>\n",
       "      <td>19.4</td>\n",
       "      <td>82.0</td>\n",
       "      <td>2.0</td>\n",
       "      <td>0</td>\n",
       "    </tr>\n",
       "  </tbody>\n",
       "</table>\n",
       "<p>406 rows × 10 columns</p>\n",
       "</div>"
      ],
      "text/plain": [
       "       Car   MPG  Cylinders  Displacement  Horsepower  Weight  Acceleration  \\\n",
       "1     50.0  18.0        8.0         307.0       130.0  3504.0          12.0   \n",
       "2     37.0  15.0        8.0         350.0       165.0  3693.0          11.5   \n",
       "3    235.0  18.0        8.0         318.0       150.0  3436.0          11.0   \n",
       "4     14.0  16.0        8.0         304.0       150.0  3433.0          12.0   \n",
       "5    164.0  17.0        8.0         302.0       140.0  3449.0          10.5   \n",
       "..     ...   ...        ...           ...         ...     ...           ...   \n",
       "402  156.0  27.0        4.0         140.0        86.0  2790.0          15.6   \n",
       "403  292.0  44.0        4.0          97.0        52.0  2130.0          24.6   \n",
       "404  121.0  32.0        4.0         135.0        84.0  2295.0          11.6   \n",
       "405  162.0  28.0        4.0         120.0        79.0  2625.0          18.6   \n",
       "406   70.0  31.0        4.0         119.0        82.0  2720.0          19.4   \n",
       "\n",
       "     Model  Origin  cluster  \n",
       "1     70.0     2.0        2  \n",
       "2     70.0     2.0        2  \n",
       "3     70.0     2.0        2  \n",
       "4     70.0     2.0        2  \n",
       "5     70.0     2.0        2  \n",
       "..     ...     ...      ...  \n",
       "402   82.0     2.0        0  \n",
       "403   82.0     0.0        1  \n",
       "404   82.0     2.0        0  \n",
       "405   82.0     2.0        0  \n",
       "406   82.0     2.0        0  \n",
       "\n",
       "[406 rows x 10 columns]"
      ]
     },
     "execution_count": 248,
     "metadata": {},
     "output_type": "execute_result"
    }
   ],
   "source": [
    "DF2_V2"
   ]
  },
  {
   "cell_type": "code",
   "execution_count": 245,
   "metadata": {},
   "outputs": [
    {
     "data": {
      "text/plain": [
       "1    162\n",
       "0    139\n",
       "2    105\n",
       "Name: cluster, dtype: int64"
      ]
     },
     "execution_count": 245,
     "metadata": {},
     "output_type": "execute_result"
    }
   ],
   "source": [
    "DF2_V2.cluster.value_counts()"
   ]
  },
  {
   "cell_type": "code",
   "execution_count": 246,
   "metadata": {},
   "outputs": [],
   "source": [
    "pca = PCA(n_components=2) # on veut reduire à 2 dimensions donc n_components = 2\n",
    "DF2_pca = pca.fit_transform(DF2_V2_scaled)"
   ]
  },
  {
   "cell_type": "code",
   "execution_count": 247,
   "metadata": {},
   "outputs": [
    {
     "data": {
      "image/png": "[encoded data removed]",
      "text/plain": [
       "<Figure size 800x600 with 2 Axes>"
      ]
     },
     "metadata": {},
     "output_type": "display_data"
    }
   ],
   "source": [
    "plt.figure(figsize=(8, 6))\n",
    "plt.scatter(DF2_pca[:, 0], DF2_pca[:, 1], c=DF2_V2['cluster'], cmap='viridis', s=50, alpha=0.7)\n",
    "plt.title('PCA of Vehicle Dataset with K-means Clustering')\n",
    "plt.xlabel('Principal Component 1')\n",
    "plt.ylabel('Principal Component 2')\n",
    "plt.colorbar(label='Cluster')\n",
    "plt.show()"
   ]
  },
  {
   "cell_type": "markdown",
   "metadata": {},
   "source": [
    "On remarque que le clustering est meilleur quand il n\"y a pas les colonnes car et origin"
   ]
  }
 ],
 "metadata": {
  "kernelspec": {
   "display_name": "base",
   "language": "python",
   "name": "python3"
  },
  "language_info": {
   "codemirror_mode": {
    "name": "ipython",
    "version": 3
   },
   "file_extension": ".py",
   "mimetype": "text/x-python",
   "name": "python",
   "nbconvert_exporter": "python",
   "pygments_lexer": "ipython3",
   "version": "3.11.4"
  }
 },
 "nbformat": 4,
 "nbformat_minor": 2
}
